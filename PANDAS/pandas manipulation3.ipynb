{
 "cells": [
  {
   "cell_type": "code",
   "execution_count": 1,
   "metadata": {},
   "outputs": [],
   "source": [
    "import numpy as np\n",
    "import pandas as pd\n",
    "import os\n",
    "import matplotlib.pyplot as plt\n",
    "%matplotlib inline"
   ]
  },
  {
   "cell_type": "code",
   "execution_count": 2,
   "metadata": {
    "scrolled": true
   },
   "outputs": [
    {
     "data": {
      "text/html": [
       "<div>\n",
       "<style scoped>\n",
       "    .dataframe tbody tr th:only-of-type {\n",
       "        vertical-align: middle;\n",
       "    }\n",
       "\n",
       "    .dataframe tbody tr th {\n",
       "        vertical-align: top;\n",
       "    }\n",
       "\n",
       "    .dataframe thead th {\n",
       "        text-align: right;\n",
       "    }\n",
       "</style>\n",
       "<table border=\"1\" class=\"dataframe\">\n",
       "  <thead>\n",
       "    <tr style=\"text-align: right;\">\n",
       "      <th></th>\n",
       "      <th>A</th>\n",
       "      <th>B</th>\n",
       "      <th>C</th>\n",
       "    </tr>\n",
       "    <tr>\n",
       "      <th>States</th>\n",
       "      <th></th>\n",
       "      <th></th>\n",
       "      <th></th>\n",
       "    </tr>\n",
       "  </thead>\n",
       "  <tbody>\n",
       "    <tr>\n",
       "      <th>CA</th>\n",
       "      <td>1.0</td>\n",
       "      <td>5.0</td>\n",
       "      <td>1</td>\n",
       "    </tr>\n",
       "    <tr>\n",
       "      <th>NV</th>\n",
       "      <td>2.0</td>\n",
       "      <td>NaN</td>\n",
       "      <td>2</td>\n",
       "    </tr>\n",
       "    <tr>\n",
       "      <th>AZ</th>\n",
       "      <td>NaN</td>\n",
       "      <td>NaN</td>\n",
       "      <td>3</td>\n",
       "    </tr>\n",
       "  </tbody>\n",
       "</table>\n",
       "</div>"
      ],
      "text/plain": [
       "          A    B  C\n",
       "States             \n",
       "CA      1.0  5.0  1\n",
       "NV      2.0  NaN  2\n",
       "AZ      NaN  NaN  3"
      ]
     },
     "execution_count": 2,
     "metadata": {},
     "output_type": "execute_result"
    }
   ],
   "source": [
    "df = pd.DataFrame({'A':[1,2,np.nan],'B':[5,np.nan,np.nan],'C':[1,2,3]})\n",
    "df['States']=\"CA NV AZ\".split()\n",
    "df.set_index('States',inplace=True)\n",
    "df"
   ]
  },
  {
   "cell_type": "code",
   "execution_count": 3,
   "metadata": {},
   "outputs": [
    {
     "data": {
      "text/html": [
       "<div>\n",
       "<style scoped>\n",
       "    .dataframe tbody tr th:only-of-type {\n",
       "        vertical-align: middle;\n",
       "    }\n",
       "\n",
       "    .dataframe tbody tr th {\n",
       "        vertical-align: top;\n",
       "    }\n",
       "\n",
       "    .dataframe thead th {\n",
       "        text-align: right;\n",
       "    }\n",
       "</style>\n",
       "<table border=\"1\" class=\"dataframe\">\n",
       "  <thead>\n",
       "    <tr style=\"text-align: right;\">\n",
       "      <th></th>\n",
       "      <th>A</th>\n",
       "      <th>B</th>\n",
       "      <th>C</th>\n",
       "    </tr>\n",
       "    <tr>\n",
       "      <th>States</th>\n",
       "      <th></th>\n",
       "      <th></th>\n",
       "      <th></th>\n",
       "    </tr>\n",
       "  </thead>\n",
       "  <tbody>\n",
       "    <tr>\n",
       "      <th>CA</th>\n",
       "      <td>1.0</td>\n",
       "      <td>5.0</td>\n",
       "      <td>1</td>\n",
       "    </tr>\n",
       "    <tr>\n",
       "      <th>NV</th>\n",
       "      <td>2.0</td>\n",
       "      <td>NaN</td>\n",
       "      <td>2</td>\n",
       "    </tr>\n",
       "    <tr>\n",
       "      <th>AZ</th>\n",
       "      <td>NaN</td>\n",
       "      <td>NaN</td>\n",
       "      <td>3</td>\n",
       "    </tr>\n",
       "  </tbody>\n",
       "</table>\n",
       "</div>"
      ],
      "text/plain": [
       "          A    B  C\n",
       "States             \n",
       "CA      1.0  5.0  1\n",
       "NV      2.0  NaN  2\n",
       "AZ      NaN  NaN  3"
      ]
     },
     "execution_count": 3,
     "metadata": {},
     "output_type": "execute_result"
    }
   ],
   "source": [
    "df"
   ]
  },
  {
   "cell_type": "code",
   "execution_count": 4,
   "metadata": {},
   "outputs": [],
   "source": [
    "#Require that many non-NA values.\n",
    "df.dropna(thresh = 3,axis=1,inplace=True)"
   ]
  },
  {
   "cell_type": "code",
   "execution_count": 5,
   "metadata": {},
   "outputs": [
    {
     "name": "stdout",
     "output_type": "stream",
     "text": [
      "\n",
      "Dropping any rows with a NaN value\n",
      "-----------------------------------\n",
      "        C\n",
      "States   \n",
      "CA      1\n",
      "NV      2\n",
      "AZ      3\n"
     ]
    }
   ],
   "source": [
    "print(\"\\nDropping any rows with a NaN value\\n\",'-'*35, sep='')\n",
    "print(df.dropna(axis=0))\n"
   ]
  },
  {
   "cell_type": "code",
   "execution_count": 6,
   "metadata": {},
   "outputs": [
    {
     "name": "stdout",
     "output_type": "stream",
     "text": [
      "\n",
      "Dropping any column with a NaN value\n",
      "-----------------------------------\n",
      "        C\n",
      "States   \n",
      "CA      1\n",
      "NV      2\n",
      "AZ      3\n"
     ]
    }
   ],
   "source": [
    "print(\"\\nDropping any column with a NaN value\\n\",'-'*35, sep='')\n",
    "print(df.dropna(axis=1))\n"
   ]
  },
  {
   "cell_type": "code",
   "execution_count": 7,
   "metadata": {},
   "outputs": [
    {
     "name": "stdout",
     "output_type": "stream",
     "text": [
      "\n",
      "Dropping a row with a minimum 2 NaN value using 'thresh' parameter\n",
      "--------------------------------------------------------------------\n",
      "Empty DataFrame\n",
      "Columns: [C]\n",
      "Index: []\n"
     ]
    }
   ],
   "source": [
    "print(\"\\nDropping a row with a minimum 2 NaN value using 'thresh' parameter\\n\",'-'*68, sep='')\n",
    "print(df.dropna(axis=0, thresh=4))"
   ]
  },
  {
   "cell_type": "code",
   "execution_count": 8,
   "metadata": {},
   "outputs": [
    {
     "data": {
      "text/html": [
       "<div>\n",
       "<style scoped>\n",
       "    .dataframe tbody tr th:only-of-type {\n",
       "        vertical-align: middle;\n",
       "    }\n",
       "\n",
       "    .dataframe tbody tr th {\n",
       "        vertical-align: top;\n",
       "    }\n",
       "\n",
       "    .dataframe thead th {\n",
       "        text-align: right;\n",
       "    }\n",
       "</style>\n",
       "<table border=\"1\" class=\"dataframe\">\n",
       "  <thead>\n",
       "    <tr style=\"text-align: right;\">\n",
       "      <th></th>\n",
       "      <th>C</th>\n",
       "    </tr>\n",
       "    <tr>\n",
       "      <th>States</th>\n",
       "      <th></th>\n",
       "    </tr>\n",
       "  </thead>\n",
       "  <tbody>\n",
       "    <tr>\n",
       "      <th>CA</th>\n",
       "      <td>1</td>\n",
       "    </tr>\n",
       "    <tr>\n",
       "      <th>NV</th>\n",
       "      <td>2</td>\n",
       "    </tr>\n",
       "    <tr>\n",
       "      <th>AZ</th>\n",
       "      <td>3</td>\n",
       "    </tr>\n",
       "  </tbody>\n",
       "</table>\n",
       "</div>"
      ],
      "text/plain": [
       "        C\n",
       "States   \n",
       "CA      1\n",
       "NV      2\n",
       "AZ      3"
      ]
     },
     "execution_count": 8,
     "metadata": {},
     "output_type": "execute_result"
    }
   ],
   "source": [
    "df"
   ]
  },
  {
   "cell_type": "code",
   "execution_count": 9,
   "metadata": {},
   "outputs": [
    {
     "data": {
      "text/html": [
       "<div>\n",
       "<style scoped>\n",
       "    .dataframe tbody tr th:only-of-type {\n",
       "        vertical-align: middle;\n",
       "    }\n",
       "\n",
       "    .dataframe tbody tr th {\n",
       "        vertical-align: top;\n",
       "    }\n",
       "\n",
       "    .dataframe thead th {\n",
       "        text-align: right;\n",
       "    }\n",
       "</style>\n",
       "<table border=\"1\" class=\"dataframe\">\n",
       "  <thead>\n",
       "    <tr style=\"text-align: right;\">\n",
       "      <th></th>\n",
       "      <th>C</th>\n",
       "    </tr>\n",
       "    <tr>\n",
       "      <th>States</th>\n",
       "      <th></th>\n",
       "    </tr>\n",
       "  </thead>\n",
       "  <tbody>\n",
       "    <tr>\n",
       "      <th>CA</th>\n",
       "      <td>1</td>\n",
       "    </tr>\n",
       "    <tr>\n",
       "      <th>NV</th>\n",
       "      <td>2</td>\n",
       "    </tr>\n",
       "    <tr>\n",
       "      <th>AZ</th>\n",
       "      <td>3</td>\n",
       "    </tr>\n",
       "  </tbody>\n",
       "</table>\n",
       "</div>"
      ],
      "text/plain": [
       "        C\n",
       "States   \n",
       "CA      1\n",
       "NV      2\n",
       "AZ      3"
      ]
     },
     "execution_count": 9,
     "metadata": {},
     "output_type": "execute_result"
    }
   ],
   "source": [
    "df.fillna(2)"
   ]
  },
  {
   "cell_type": "code",
   "execution_count": 10,
   "metadata": {},
   "outputs": [
    {
     "name": "stdout",
     "output_type": "stream",
     "text": [
      "\n",
      "Filling values with a default value\n",
      "-----------------------------------\n",
      "        C\n",
      "States   \n",
      "CA      1\n",
      "NV      2\n",
      "AZ      3\n"
     ]
    }
   ],
   "source": [
    "print(\"\\nFilling values with a default value\\n\",'-'*35, sep='')\n",
    "print(df.fillna(value='FILL VALUE'))\n"
   ]
  },
  {
   "cell_type": "code",
   "execution_count": 11,
   "metadata": {},
   "outputs": [
    {
     "data": {
      "text/html": [
       "<div>\n",
       "<style scoped>\n",
       "    .dataframe tbody tr th:only-of-type {\n",
       "        vertical-align: middle;\n",
       "    }\n",
       "\n",
       "    .dataframe tbody tr th {\n",
       "        vertical-align: top;\n",
       "    }\n",
       "\n",
       "    .dataframe thead th {\n",
       "        text-align: right;\n",
       "    }\n",
       "</style>\n",
       "<table border=\"1\" class=\"dataframe\">\n",
       "  <thead>\n",
       "    <tr style=\"text-align: right;\">\n",
       "      <th></th>\n",
       "      <th>C</th>\n",
       "    </tr>\n",
       "    <tr>\n",
       "      <th>States</th>\n",
       "      <th></th>\n",
       "    </tr>\n",
       "  </thead>\n",
       "  <tbody>\n",
       "    <tr>\n",
       "      <th>CA</th>\n",
       "      <td>1</td>\n",
       "    </tr>\n",
       "    <tr>\n",
       "      <th>NV</th>\n",
       "      <td>2</td>\n",
       "    </tr>\n",
       "    <tr>\n",
       "      <th>AZ</th>\n",
       "      <td>3</td>\n",
       "    </tr>\n",
       "  </tbody>\n",
       "</table>\n",
       "</div>"
      ],
      "text/plain": [
       "        C\n",
       "States   \n",
       "CA      1\n",
       "NV      2\n",
       "AZ      3"
      ]
     },
     "execution_count": 11,
     "metadata": {},
     "output_type": "execute_result"
    }
   ],
   "source": [
    "df"
   ]
  },
  {
   "cell_type": "code",
   "execution_count": 12,
   "metadata": {},
   "outputs": [
    {
     "ename": "KeyError",
     "evalue": "'A'",
     "output_type": "error",
     "traceback": [
      "\u001b[1;31m---------------------------------------------------------------------------\u001b[0m",
      "\u001b[1;31mKeyError\u001b[0m                                  Traceback (most recent call last)",
      "\u001b[1;32mC:\\ProgramData\\Anaconda3\\lib\\site-packages\\pandas\\core\\indexes\\base.py\u001b[0m in \u001b[0;36mget_loc\u001b[1;34m(self, key, method, tolerance)\u001b[0m\n\u001b[0;32m   2645\u001b[0m             \u001b[1;32mtry\u001b[0m\u001b[1;33m:\u001b[0m\u001b[1;33m\u001b[0m\u001b[1;33m\u001b[0m\u001b[0m\n\u001b[1;32m-> 2646\u001b[1;33m                 \u001b[1;32mreturn\u001b[0m \u001b[0mself\u001b[0m\u001b[1;33m.\u001b[0m\u001b[0m_engine\u001b[0m\u001b[1;33m.\u001b[0m\u001b[0mget_loc\u001b[0m\u001b[1;33m(\u001b[0m\u001b[0mkey\u001b[0m\u001b[1;33m)\u001b[0m\u001b[1;33m\u001b[0m\u001b[1;33m\u001b[0m\u001b[0m\n\u001b[0m\u001b[0;32m   2647\u001b[0m             \u001b[1;32mexcept\u001b[0m \u001b[0mKeyError\u001b[0m\u001b[1;33m:\u001b[0m\u001b[1;33m\u001b[0m\u001b[1;33m\u001b[0m\u001b[0m\n",
      "\u001b[1;32mpandas\\_libs\\index.pyx\u001b[0m in \u001b[0;36mpandas._libs.index.IndexEngine.get_loc\u001b[1;34m()\u001b[0m\n",
      "\u001b[1;32mpandas\\_libs\\index.pyx\u001b[0m in \u001b[0;36mpandas._libs.index.IndexEngine.get_loc\u001b[1;34m()\u001b[0m\n",
      "\u001b[1;32mpandas\\_libs\\hashtable_class_helper.pxi\u001b[0m in \u001b[0;36mpandas._libs.hashtable.PyObjectHashTable.get_item\u001b[1;34m()\u001b[0m\n",
      "\u001b[1;32mpandas\\_libs\\hashtable_class_helper.pxi\u001b[0m in \u001b[0;36mpandas._libs.hashtable.PyObjectHashTable.get_item\u001b[1;34m()\u001b[0m\n",
      "\u001b[1;31mKeyError\u001b[0m: 'A'",
      "\nDuring handling of the above exception, another exception occurred:\n",
      "\u001b[1;31mKeyError\u001b[0m                                  Traceback (most recent call last)",
      "\u001b[1;32m<ipython-input-12-ab03f401c8ca>\u001b[0m in \u001b[0;36m<module>\u001b[1;34m\u001b[0m\n\u001b[1;32m----> 1\u001b[1;33m \u001b[0mdf\u001b[0m\u001b[1;33m.\u001b[0m\u001b[0mfillna\u001b[0m\u001b[1;33m(\u001b[0m\u001b[0mvalue\u001b[0m\u001b[1;33m=\u001b[0m\u001b[0mdf\u001b[0m\u001b[1;33m[\u001b[0m\u001b[1;34m'A'\u001b[0m\u001b[1;33m]\u001b[0m\u001b[1;33m.\u001b[0m\u001b[0mmean\u001b[0m\u001b[1;33m(\u001b[0m\u001b[1;33m)\u001b[0m\u001b[1;33m)\u001b[0m\u001b[1;33m\u001b[0m\u001b[1;33m\u001b[0m\u001b[0m\n\u001b[0m",
      "\u001b[1;32mC:\\ProgramData\\Anaconda3\\lib\\site-packages\\pandas\\core\\frame.py\u001b[0m in \u001b[0;36m__getitem__\u001b[1;34m(self, key)\u001b[0m\n\u001b[0;32m   2798\u001b[0m             \u001b[1;32mif\u001b[0m \u001b[0mself\u001b[0m\u001b[1;33m.\u001b[0m\u001b[0mcolumns\u001b[0m\u001b[1;33m.\u001b[0m\u001b[0mnlevels\u001b[0m \u001b[1;33m>\u001b[0m \u001b[1;36m1\u001b[0m\u001b[1;33m:\u001b[0m\u001b[1;33m\u001b[0m\u001b[1;33m\u001b[0m\u001b[0m\n\u001b[0;32m   2799\u001b[0m                 \u001b[1;32mreturn\u001b[0m \u001b[0mself\u001b[0m\u001b[1;33m.\u001b[0m\u001b[0m_getitem_multilevel\u001b[0m\u001b[1;33m(\u001b[0m\u001b[0mkey\u001b[0m\u001b[1;33m)\u001b[0m\u001b[1;33m\u001b[0m\u001b[1;33m\u001b[0m\u001b[0m\n\u001b[1;32m-> 2800\u001b[1;33m             \u001b[0mindexer\u001b[0m \u001b[1;33m=\u001b[0m \u001b[0mself\u001b[0m\u001b[1;33m.\u001b[0m\u001b[0mcolumns\u001b[0m\u001b[1;33m.\u001b[0m\u001b[0mget_loc\u001b[0m\u001b[1;33m(\u001b[0m\u001b[0mkey\u001b[0m\u001b[1;33m)\u001b[0m\u001b[1;33m\u001b[0m\u001b[1;33m\u001b[0m\u001b[0m\n\u001b[0m\u001b[0;32m   2801\u001b[0m             \u001b[1;32mif\u001b[0m \u001b[0mis_integer\u001b[0m\u001b[1;33m(\u001b[0m\u001b[0mindexer\u001b[0m\u001b[1;33m)\u001b[0m\u001b[1;33m:\u001b[0m\u001b[1;33m\u001b[0m\u001b[1;33m\u001b[0m\u001b[0m\n\u001b[0;32m   2802\u001b[0m                 \u001b[0mindexer\u001b[0m \u001b[1;33m=\u001b[0m \u001b[1;33m[\u001b[0m\u001b[0mindexer\u001b[0m\u001b[1;33m]\u001b[0m\u001b[1;33m\u001b[0m\u001b[1;33m\u001b[0m\u001b[0m\n",
      "\u001b[1;32mC:\\ProgramData\\Anaconda3\\lib\\site-packages\\pandas\\core\\indexes\\base.py\u001b[0m in \u001b[0;36mget_loc\u001b[1;34m(self, key, method, tolerance)\u001b[0m\n\u001b[0;32m   2646\u001b[0m                 \u001b[1;32mreturn\u001b[0m \u001b[0mself\u001b[0m\u001b[1;33m.\u001b[0m\u001b[0m_engine\u001b[0m\u001b[1;33m.\u001b[0m\u001b[0mget_loc\u001b[0m\u001b[1;33m(\u001b[0m\u001b[0mkey\u001b[0m\u001b[1;33m)\u001b[0m\u001b[1;33m\u001b[0m\u001b[1;33m\u001b[0m\u001b[0m\n\u001b[0;32m   2647\u001b[0m             \u001b[1;32mexcept\u001b[0m \u001b[0mKeyError\u001b[0m\u001b[1;33m:\u001b[0m\u001b[1;33m\u001b[0m\u001b[1;33m\u001b[0m\u001b[0m\n\u001b[1;32m-> 2648\u001b[1;33m                 \u001b[1;32mreturn\u001b[0m \u001b[0mself\u001b[0m\u001b[1;33m.\u001b[0m\u001b[0m_engine\u001b[0m\u001b[1;33m.\u001b[0m\u001b[0mget_loc\u001b[0m\u001b[1;33m(\u001b[0m\u001b[0mself\u001b[0m\u001b[1;33m.\u001b[0m\u001b[0m_maybe_cast_indexer\u001b[0m\u001b[1;33m(\u001b[0m\u001b[0mkey\u001b[0m\u001b[1;33m)\u001b[0m\u001b[1;33m)\u001b[0m\u001b[1;33m\u001b[0m\u001b[1;33m\u001b[0m\u001b[0m\n\u001b[0m\u001b[0;32m   2649\u001b[0m         \u001b[0mindexer\u001b[0m \u001b[1;33m=\u001b[0m \u001b[0mself\u001b[0m\u001b[1;33m.\u001b[0m\u001b[0mget_indexer\u001b[0m\u001b[1;33m(\u001b[0m\u001b[1;33m[\u001b[0m\u001b[0mkey\u001b[0m\u001b[1;33m]\u001b[0m\u001b[1;33m,\u001b[0m \u001b[0mmethod\u001b[0m\u001b[1;33m=\u001b[0m\u001b[0mmethod\u001b[0m\u001b[1;33m,\u001b[0m \u001b[0mtolerance\u001b[0m\u001b[1;33m=\u001b[0m\u001b[0mtolerance\u001b[0m\u001b[1;33m)\u001b[0m\u001b[1;33m\u001b[0m\u001b[1;33m\u001b[0m\u001b[0m\n\u001b[0;32m   2650\u001b[0m         \u001b[1;32mif\u001b[0m \u001b[0mindexer\u001b[0m\u001b[1;33m.\u001b[0m\u001b[0mndim\u001b[0m \u001b[1;33m>\u001b[0m \u001b[1;36m1\u001b[0m \u001b[1;32mor\u001b[0m \u001b[0mindexer\u001b[0m\u001b[1;33m.\u001b[0m\u001b[0msize\u001b[0m \u001b[1;33m>\u001b[0m \u001b[1;36m1\u001b[0m\u001b[1;33m:\u001b[0m\u001b[1;33m\u001b[0m\u001b[1;33m\u001b[0m\u001b[0m\n",
      "\u001b[1;32mpandas\\_libs\\index.pyx\u001b[0m in \u001b[0;36mpandas._libs.index.IndexEngine.get_loc\u001b[1;34m()\u001b[0m\n",
      "\u001b[1;32mpandas\\_libs\\index.pyx\u001b[0m in \u001b[0;36mpandas._libs.index.IndexEngine.get_loc\u001b[1;34m()\u001b[0m\n",
      "\u001b[1;32mpandas\\_libs\\hashtable_class_helper.pxi\u001b[0m in \u001b[0;36mpandas._libs.hashtable.PyObjectHashTable.get_item\u001b[1;34m()\u001b[0m\n",
      "\u001b[1;32mpandas\\_libs\\hashtable_class_helper.pxi\u001b[0m in \u001b[0;36mpandas._libs.hashtable.PyObjectHashTable.get_item\u001b[1;34m()\u001b[0m\n",
      "\u001b[1;31mKeyError\u001b[0m: 'A'"
     ]
    }
   ],
   "source": [
    "df.fillna(value=df['A'].mean())"
   ]
  },
  {
   "cell_type": "code",
   "execution_count": null,
   "metadata": {},
   "outputs": [],
   "source": [
    "print(\"\\nFilling values with a computed value (mean of column A here)\\n\",'-'*60, sep='')\n",
    "print(df.fillna(value=df['A'].mean()))"
   ]
  },
  {
   "cell_type": "code",
   "execution_count": null,
   "metadata": {},
   "outputs": [],
   "source": [
    "# Create dataframe\n",
    "data = {'Company':['GOOG','GOOG','MSFT','MSFT','FB','FB'],\n",
    "       'Person':['Sam','Charlie','Amy','Vanessa','Carl','Sarah'],\n",
    "       'Sales':[200,120,340,124,243,350]}\n",
    "df = pd.DataFrame(data)\n",
    "df"
   ]
  },
  {
   "cell_type": "code",
   "execution_count": null,
   "metadata": {},
   "outputs": [],
   "source": [
    "g = df.groupby('Company')\n",
    "g"
   ]
  },
  {
   "cell_type": "code",
   "execution_count": null,
   "metadata": {},
   "outputs": [],
   "source": [
    "byComp = df.groupby('Company')\n",
    "print(\"\\nGrouping by 'Company' column and listing mean sales\\n\",'-'*55, sep='')\n",
    "print(byComp.mean())\n"
   ]
  },
  {
   "cell_type": "code",
   "execution_count": null,
   "metadata": {},
   "outputs": [],
   "source": [
    "print(\"\\nGrouping by 'Company' column and listing sum of sales\\n\",'-'*55, sep='')\n",
    "print(byComp.sum())\n"
   ]
  },
  {
   "cell_type": "code",
   "execution_count": null,
   "metadata": {
    "scrolled": true
   },
   "outputs": [],
   "source": [
    "print(\"\\nAll in one line of command (Stats for 'FB')\\n\",'-'*65, sep='')\n",
    "print(pd.DataFrame(df.groupby('Company').describe().loc['FB']).transpose())\n"
   ]
  },
  {
   "cell_type": "code",
   "execution_count": null,
   "metadata": {},
   "outputs": [],
   "source": [
    "df.groupby(\"Company\").describe().iloc[1:3,1:3]"
   ]
  },
  {
   "cell_type": "code",
   "execution_count": null,
   "metadata": {},
   "outputs": [],
   "source": [
    "df.groupby('Company').describe().loc['GOOG']['Sales'].to_frame()"
   ]
  },
  {
   "cell_type": "code",
   "execution_count": null,
   "metadata": {},
   "outputs": [],
   "source": [
    "df.groupby('Company').describe().loc['GOOG']['Sales']['std']\n"
   ]
  },
  {
   "cell_type": "code",
   "execution_count": null,
   "metadata": {},
   "outputs": [],
   "source": [
    "df.groupby('Company').describe()['Sales'].loc[['GOOG','MSFT'],['mean','std']]"
   ]
  },
  {
   "cell_type": "code",
   "execution_count": null,
   "metadata": {},
   "outputs": [],
   "source": [
    "d = (df.groupby('Company').describe())\n",
    "df1 = d.transpose()\n",
    "df1"
   ]
  },
  {
   "cell_type": "code",
   "execution_count": null,
   "metadata": {},
   "outputs": [],
   "source": [
    "df1.loc['Sales'].loc[['mean']]"
   ]
  },
  {
   "cell_type": "code",
   "execution_count": null,
   "metadata": {},
   "outputs": [],
   "source": [
    "(pd.DataFrame(df.groupby('Company').describe().loc['FB'])).transpose()"
   ]
  },
  {
   "cell_type": "code",
   "execution_count": null,
   "metadata": {},
   "outputs": [],
   "source": []
  },
  {
   "cell_type": "code",
   "execution_count": null,
   "metadata": {},
   "outputs": [],
   "source": [
    "(pd.DataFrame(df.groupby('Company').describe().loc['FB'])).transpose()"
   ]
  },
  {
   "cell_type": "code",
   "execution_count": null,
   "metadata": {},
   "outputs": [],
   "source": []
  },
  {
   "cell_type": "code",
   "execution_count": null,
   "metadata": {},
   "outputs": [],
   "source": []
  },
  {
   "cell_type": "code",
   "execution_count": null,
   "metadata": {},
   "outputs": [],
   "source": [
    "print(\"\\nSame type of extraction with little different command\\n\",'-'*68, sep='')\n",
    "print(df.groupby('Company').describe().loc[['GOOG', 'MSFT']])"
   ]
  },
  {
   "cell_type": "code",
   "execution_count": null,
   "metadata": {},
   "outputs": [],
   "source": [
    "# Merging two data frames\n",
    "# Creating data frames\n",
    "df1 = pd.DataFrame({'A': ['A0', 'A1', 'A2', 'A3'],\n",
    "                        'B': ['B0', 'B1', 'B2', 'B3'],\n",
    "                        'C': ['C0', 'C1', 'C2', 'C3'],\n",
    "                        'D': ['D0', 'D1', 'D2', 'D3']},\n",
    "                        index=[0, 1, 2, 3])\n"
   ]
  },
  {
   "cell_type": "code",
   "execution_count": null,
   "metadata": {},
   "outputs": [],
   "source": [
    "df1"
   ]
  },
  {
   "cell_type": "code",
   "execution_count": null,
   "metadata": {},
   "outputs": [],
   "source": [
    "df2 = pd.DataFrame({'AD': ['A4', 'A5', 'A6', 'A7'],\n",
    "                        'B': ['B4', 'B5', 'B6', 'B7'],\n",
    "                        'C': ['C4', 'C5', 'C6', 'C7'],\n",
    "                        'D': ['D4', 'D5', 'D6', 'D7']},\n",
    "                         index=[0, 1, 2, 3])\n"
   ]
  },
  {
   "cell_type": "code",
   "execution_count": null,
   "metadata": {},
   "outputs": [],
   "source": [
    "df2"
   ]
  },
  {
   "cell_type": "code",
   "execution_count": null,
   "metadata": {},
   "outputs": [],
   "source": [
    "df3 = pd.DataFrame({'A': ['A8', 'A9', 'A10', 'A11'],\n",
    "                        'B': ['B8', 'B9', 'B10', 'B11'],\n",
    "                        'C': ['C8', 'C9', 'C10', 'C11'],\n",
    "                        'D': ['D8', 'D9', 'D10', 'D11']},\n",
    "                        index=[0, 1, 2, 3])\n"
   ]
  },
  {
   "cell_type": "code",
   "execution_count": null,
   "metadata": {},
   "outputs": [],
   "source": [
    "df3"
   ]
  },
  {
   "cell_type": "code",
   "execution_count": null,
   "metadata": {},
   "outputs": [],
   "source": [
    "print(\"\\nThe DataFrame number 1\\n\",'-'*30, sep='')\n",
    "print(df1)\n"
   ]
  },
  {
   "cell_type": "code",
   "execution_count": null,
   "metadata": {},
   "outputs": [],
   "source": [
    "print(\"\\nThe DataFrame number 2\\n\",'-'*30, sep='')\n",
    "print(df2)\n"
   ]
  },
  {
   "cell_type": "code",
   "execution_count": null,
   "metadata": {},
   "outputs": [],
   "source": [
    "print(\"\\nThe DataFrame number 3\\n\",'-'*30, sep='')\n",
    "print(df3)"
   ]
  },
  {
   "cell_type": "code",
   "execution_count": null,
   "metadata": {
    "scrolled": true
   },
   "outputs": [],
   "source": [
    "#concatenation\n",
    "df_cat1 = pd.concat([df1,df2,df3], axis=1)\n",
    "print(\"\\nAfter concatenation along row\\n\",'-'*30, sep='')\n",
    "df_cat1"
   ]
  },
  {
   "cell_type": "code",
   "execution_count": null,
   "metadata": {},
   "outputs": [],
   "source": [
    "df_cat1.iloc[3]"
   ]
  },
  {
   "cell_type": "code",
   "execution_count": null,
   "metadata": {},
   "outputs": [],
   "source": [
    "df_cat1.iloc[4]"
   ]
  },
  {
   "cell_type": "code",
   "execution_count": null,
   "metadata": {},
   "outputs": [],
   "source": []
  },
  {
   "cell_type": "code",
   "execution_count": null,
   "metadata": {},
   "outputs": [],
   "source": []
  },
  {
   "cell_type": "code",
   "execution_count": null,
   "metadata": {},
   "outputs": [],
   "source": [
    "df_cat2 = pd.concat([df1,df2,df3], axis=1)\n",
    "print(\"\\nAfter concatenation along column\\n\",'-'*60, sep='')\n",
    "print(df_cat2)\n"
   ]
  },
  {
   "cell_type": "code",
   "execution_count": null,
   "metadata": {},
   "outputs": [],
   "source": [
    "df_cat1.fillna(value=0, inplace=True)\n",
    "print(\"\\nAfter filling missing values with zero\\n\",'-'*60, sep='')\n",
    "print(df_cat1)"
   ]
  },
  {
   "cell_type": "code",
   "execution_count": null,
   "metadata": {},
   "outputs": [],
   "source": [
    "# merging by a common key"
   ]
  },
  {
   "cell_type": "code",
   "execution_count": null,
   "metadata": {},
   "outputs": [],
   "source": [
    "df1 = pd.DataFrame({'key1': ['K0', 'K8', 'K2', 'K3'],\n",
    "                     'A': ['A0', 'A1', 'A2', 'A3'],\n",
    "                    'C': ['A0', 'A1', 'A2', 'A3'],\n",
    "                     'B': ['B0', 'B1', 'B2', 'B3']})\n",
    "   \n",
    "df2 = pd.DataFrame({'key2': ['K0', 'K1', 'K2', 'K3'],\n",
    "                          'C': ['C0', 'C1', 'C2', 'C3'],\n",
    "                          'D': ['D0', 'D1', 'D2', 'D3']})\n"
   ]
  },
  {
   "cell_type": "code",
   "execution_count": null,
   "metadata": {},
   "outputs": [],
   "source": [
    "df1"
   ]
  },
  {
   "cell_type": "code",
   "execution_count": null,
   "metadata": {},
   "outputs": [],
   "source": [
    "df2"
   ]
  },
  {
   "cell_type": "code",
   "execution_count": null,
   "metadata": {},
   "outputs": [],
   "source": [
    "pd.merge(df1,df2,how='left',left_on = 'key1',right_on='key2')"
   ]
  },
  {
   "cell_type": "code",
   "execution_count": null,
   "metadata": {},
   "outputs": [],
   "source": []
  },
  {
   "cell_type": "code",
   "execution_count": null,
   "metadata": {},
   "outputs": [],
   "source": [
    "merge1= pd.merge(left,right,how='inner',on='key')\n",
    "print(\"\\nAfter simple merging with 'inner' method\\n\",'-'*50, sep='')\n",
    "print(merge1)"
   ]
  },
  {
   "cell_type": "code",
   "execution_count": null,
   "metadata": {},
   "outputs": [],
   "source": [
    "left = pd.DataFrame({'key1': ['K0', 'K0', 'K1', 'K2'],\n",
    "                     'key2': ['K0', 'K1', 'K0', 'K1'],\n",
    "                        'A': ['A0', 'A1', 'A2', 'A3'],\n",
    "                        'B': ['B0', 'B1', 'B2', 'B3']})\n",
    "    \n",
    "right = pd.DataFrame({'key1': ['K0', 'K1', 'K1', 'K2'],\n",
    "                               'key2': ['K0', 'K0', 'K0', 'K0'],\n",
    "                                  'C': ['C0', 'C1', 'C2', 'C3'],\n",
    "                                  'D': ['D0', 'D1', 'D2', 'D3']})"
   ]
  },
  {
   "cell_type": "code",
   "execution_count": null,
   "metadata": {},
   "outputs": [],
   "source": [
    "left"
   ]
  },
  {
   "cell_type": "code",
   "execution_count": null,
   "metadata": {},
   "outputs": [],
   "source": [
    "right"
   ]
  },
  {
   "cell_type": "code",
   "execution_count": null,
   "metadata": {},
   "outputs": [],
   "source": [
    "pd.merge(left, right, on=['key1', 'key2'])"
   ]
  },
  {
   "cell_type": "code",
   "execution_count": null,
   "metadata": {},
   "outputs": [],
   "source": [
    "pd.merge(left, right, how='left',on=['key1', 'key2'])"
   ]
  },
  {
   "cell_type": "code",
   "execution_count": null,
   "metadata": {},
   "outputs": [],
   "source": [
    "pd.merge(left, right, how='right',on=['key1', 'key2'])"
   ]
  },
  {
   "cell_type": "code",
   "execution_count": null,
   "metadata": {},
   "outputs": [],
   "source": [
    "#join operators\n",
    "left = pd.DataFrame({'A': ['A0', 'A1', 'A2'],\n",
    "                     'B': ['B0', 'B1', 'B2']},\n",
    "                      index=['K0', 'K1', 'K2']) \n",
    "\n",
    "right = pd.DataFrame({'C': ['C0', 'C2', 'C3'],\n",
    "                    'D': ['D0', 'D2', 'D3']},\n",
    "                      index=['K0', 'K2', 'K3'])"
   ]
  },
  {
   "cell_type": "code",
   "execution_count": null,
   "metadata": {},
   "outputs": [],
   "source": [
    "left"
   ]
  },
  {
   "cell_type": "code",
   "execution_count": null,
   "metadata": {},
   "outputs": [],
   "source": [
    "right"
   ]
  },
  {
   "cell_type": "code",
   "execution_count": null,
   "metadata": {},
   "outputs": [],
   "source": [
    "left.join(right)"
   ]
  },
  {
   "cell_type": "code",
   "execution_count": null,
   "metadata": {},
   "outputs": [],
   "source": [
    "left.join(right, how='outer')"
   ]
  },
  {
   "cell_type": "code",
   "execution_count": null,
   "metadata": {
    "scrolled": true
   },
   "outputs": [],
   "source": [
    "d1 = pd.DataFrame({'key1': ['K0', 'K1', 'K2', 'K3'],\n",
    "                     'A': ['A0', 'A1', 'A2', 'A3'],\n",
    "                     'B': ['B0', 'B1', 'B2', 'B3']})\n",
    "   \n",
    "d2 = pd.DataFrame({'key2': ['K0', 'K1', 'K2', 'K3'],\n",
    "                          'C': ['C0', 'C1', 'C2', 'C3'],\n",
    "                          'D': ['D0', 'D1', 'D2', 'D3']})\n",
    "d3 = pd.DataFrame({'key3': ['K0', 'K1', 'K2', 'K3'],\n",
    "                     'A': ['A0', 'A1', 'A2', 'A3'],\n",
    "                     'B': ['B0', 'B1', 'B2', 'B3']})\n",
    "df_cat1 = pd.concat([d1,d2,d3], axis=1)  \n",
    "df_cat1 = pd.concat([d1,d2,d3])\n",
    "merge1= pd.merge(d1,d2,how='outer',left_on='key1',right_on='key2')\n",
    "\n"
   ]
  },
  {
   "cell_type": "code",
   "execution_count": null,
   "metadata": {},
   "outputs": [],
   "source": [
    "merge1"
   ]
  },
  {
   "cell_type": "code",
   "execution_count": null,
   "metadata": {},
   "outputs": [],
   "source": [
    "df_cat1 = pd.concat([d1,d2,d3])"
   ]
  },
  {
   "cell_type": "code",
   "execution_count": null,
   "metadata": {},
   "outputs": [],
   "source": [
    "df_cat1 = pd.concat([d1,d2,d3], axis=1)  "
   ]
  },
  {
   "cell_type": "code",
   "execution_count": null,
   "metadata": {},
   "outputs": [],
   "source": [
    "# use of apply functions"
   ]
  },
  {
   "cell_type": "code",
   "execution_count": null,
   "metadata": {},
   "outputs": [],
   "source": [
    "# Define a function\n",
    "def testfunc(x):\n",
    "    if (x> 500):\n",
    "        return (10*np.log10(x))\n",
    "    else:\n",
    "        return (x/10)"
   ]
  },
  {
   "cell_type": "code",
   "execution_count": null,
   "metadata": {},
   "outputs": [],
   "source": [
    "df = pd.DataFrame({'col1':[1,2,3,4,5,6,7,8,9,10],\n",
    "                   'col2':[444,555,666,444,333,222,666,777,666,555],\n",
    "                   'col3':'aaa bb c dd eeee fff gg h iii j'.split()})\n",
    "df.columns"
   ]
  },
  {
   "cell_type": "code",
   "execution_count": null,
   "metadata": {},
   "outputs": [],
   "source": [
    "df['col20'] = df['col2'].apply(testfunc)\n",
    "df"
   ]
  },
  {
   "cell_type": "code",
   "execution_count": null,
   "metadata": {},
   "outputs": [],
   "source": [
    "df['FuncApplied'] = df['col2'].apply(lambda x : np.log(x))\n",
    "print(df)"
   ]
  },
  {
   "cell_type": "code",
   "execution_count": null,
   "metadata": {},
   "outputs": [],
   "source": [
    "df['col3length']= df['col3'].apply(len)\n",
    "print(df)"
   ]
  },
  {
   "cell_type": "code",
   "execution_count": null,
   "metadata": {},
   "outputs": [],
   "source": [
    "df['test']= df['FuncApplied'].apply(lambda x: np.sqrt(x))\n",
    "df"
   ]
  },
  {
   "cell_type": "code",
   "execution_count": null,
   "metadata": {},
   "outputs": [],
   "source": [
    "print(\"\\nSum of the column 'FuncApplied' is: \",df['FuncApplied'].sum())\n"
   ]
  },
  {
   "cell_type": "code",
   "execution_count": null,
   "metadata": {},
   "outputs": [],
   "source": [
    "print(\"Mean of the column 'FuncApplied' is: \",df['FuncApplied'].mean())\n"
   ]
  },
  {
   "cell_type": "code",
   "execution_count": null,
   "metadata": {},
   "outputs": [],
   "source": [
    "print(\"Std dev of the column 'FuncApplied' is: \",df['FuncApplied'].max())"
   ]
  },
  {
   "cell_type": "code",
   "execution_count": null,
   "metadata": {},
   "outputs": [],
   "source": [
    "print(\"Min and max of the column 'FuncApplied' are: \",df['FuncApplied'].min(),\"and\",df['FuncApplied'].max())"
   ]
  },
  {
   "cell_type": "code",
   "execution_count": null,
   "metadata": {},
   "outputs": [],
   "source": [
    "### Deletion, sorting, list of column and row names"
   ]
  },
  {
   "cell_type": "code",
   "execution_count": null,
   "metadata": {},
   "outputs": [],
   "source": [
    "print(\"\\nName of columns\\n\",'-'*20, sep='')\n",
    "print(df.columns)\n"
   ]
  },
  {
   "cell_type": "code",
   "execution_count": null,
   "metadata": {},
   "outputs": [],
   "source": [
    "l = list(df.columns)\n",
    "print(\"\\nColumn names in a list of strings for later manipulation:\",l)"
   ]
  },
  {
   "cell_type": "code",
   "execution_count": null,
   "metadata": {},
   "outputs": [],
   "source": [
    "print(\"\\nDeleting last column by 'del' command\\n\",'-'*50, sep='')\n",
    "del df['col3length']\n",
    "print(df)\n",
    "df['col3length']= df['col3'].apply(len)"
   ]
  },
  {
   "cell_type": "code",
   "execution_count": null,
   "metadata": {},
   "outputs": [],
   "source": [
    "df.sort_values(by='col2') #inplace=False by default"
   ]
  },
  {
   "cell_type": "code",
   "execution_count": null,
   "metadata": {},
   "outputs": [],
   "source": [
    "df.sort_values(by='FuncApplied',ascending=False) #inplace=False by default"
   ]
  },
  {
   "cell_type": "code",
   "execution_count": 13,
   "metadata": {},
   "outputs": [
    {
     "data": {
      "text/html": [
       "<div>\n",
       "<style scoped>\n",
       "    .dataframe tbody tr th:only-of-type {\n",
       "        vertical-align: middle;\n",
       "    }\n",
       "\n",
       "    .dataframe tbody tr th {\n",
       "        vertical-align: top;\n",
       "    }\n",
       "\n",
       "    .dataframe thead th {\n",
       "        text-align: right;\n",
       "    }\n",
       "</style>\n",
       "<table border=\"1\" class=\"dataframe\">\n",
       "  <thead>\n",
       "    <tr style=\"text-align: right;\">\n",
       "      <th></th>\n",
       "      <th>col1</th>\n",
       "      <th>col2</th>\n",
       "      <th>col3</th>\n",
       "    </tr>\n",
       "  </thead>\n",
       "  <tbody>\n",
       "    <tr>\n",
       "      <th>0</th>\n",
       "      <td>1.0</td>\n",
       "      <td>NaN</td>\n",
       "      <td>abc</td>\n",
       "    </tr>\n",
       "    <tr>\n",
       "      <th>1</th>\n",
       "      <td>2.0</td>\n",
       "      <td>555.0</td>\n",
       "      <td>def</td>\n",
       "    </tr>\n",
       "    <tr>\n",
       "      <th>2</th>\n",
       "      <td>3.0</td>\n",
       "      <td>666.0</td>\n",
       "      <td>ghi</td>\n",
       "    </tr>\n",
       "    <tr>\n",
       "      <th>3</th>\n",
       "      <td>NaN</td>\n",
       "      <td>444.0</td>\n",
       "      <td>xyz</td>\n",
       "    </tr>\n",
       "  </tbody>\n",
       "</table>\n",
       "</div>"
      ],
      "text/plain": [
       "   col1   col2 col3\n",
       "0   1.0    NaN  abc\n",
       "1   2.0  555.0  def\n",
       "2   3.0  666.0  ghi\n",
       "3   NaN  444.0  xyz"
      ]
     },
     "execution_count": 13,
     "metadata": {},
     "output_type": "execute_result"
    }
   ],
   "source": [
    "df = pd.DataFrame({'col1':[1,2,3,np.nan],\n",
    "                   'col2':[None,555,666,444],\n",
    "                   'col3':['abc','def','ghi','xyz']})\n",
    "df.head()"
   ]
  },
  {
   "cell_type": "code",
   "execution_count": null,
   "metadata": {},
   "outputs": [],
   "source": [
    "df.isnull()"
   ]
  },
  {
   "cell_type": "code",
   "execution_count": null,
   "metadata": {},
   "outputs": [],
   "source": [
    "df.fillna('FILL')"
   ]
  },
  {
   "cell_type": "code",
   "execution_count": null,
   "metadata": {},
   "outputs": [],
   "source": [
    "df1\n"
   ]
  },
  {
   "cell_type": "code",
   "execution_count": null,
   "metadata": {},
   "outputs": [],
   "source": [
    "df2"
   ]
  },
  {
   "cell_type": "code",
   "execution_count": null,
   "metadata": {},
   "outputs": [],
   "source": [
    "df3"
   ]
  },
  {
   "cell_type": "code",
   "execution_count": null,
   "metadata": {},
   "outputs": [],
   "source": [
    "pd.merge(df1, df2, how='inner')"
   ]
  },
  {
   "cell_type": "code",
   "execution_count": null,
   "metadata": {},
   "outputs": [],
   "source": [
    "pd.merge(df1, df2, how='outer')"
   ]
  },
  {
   "cell_type": "code",
   "execution_count": null,
   "metadata": {},
   "outputs": [],
   "source": [
    "pd.merge(df1, df2, how='left')"
   ]
  },
  {
   "cell_type": "code",
   "execution_count": null,
   "metadata": {},
   "outputs": [],
   "source": [
    "pd.merge(df1, df2, how='right')"
   ]
  },
  {
   "cell_type": "code",
   "execution_count": 19,
   "metadata": {},
   "outputs": [
    {
     "data": {
      "text/html": [
       "<div>\n",
       "<style scoped>\n",
       "    .dataframe tbody tr th:only-of-type {\n",
       "        vertical-align: middle;\n",
       "    }\n",
       "\n",
       "    .dataframe tbody tr th {\n",
       "        vertical-align: top;\n",
       "    }\n",
       "\n",
       "    .dataframe thead th {\n",
       "        text-align: right;\n",
       "    }\n",
       "</style>\n",
       "<table border=\"1\" class=\"dataframe\">\n",
       "  <thead>\n",
       "    <tr style=\"text-align: right;\">\n",
       "      <th></th>\n",
       "      <th>lat</th>\n",
       "      <th>lng</th>\n",
       "      <th>desc</th>\n",
       "      <th>zip</th>\n",
       "      <th>title</th>\n",
       "      <th>timeStamp</th>\n",
       "      <th>twp</th>\n",
       "      <th>addr</th>\n",
       "      <th>e</th>\n",
       "    </tr>\n",
       "  </thead>\n",
       "  <tbody>\n",
       "    <tr>\n",
       "      <th>0</th>\n",
       "      <td>40.297876</td>\n",
       "      <td>-75.581294</td>\n",
       "      <td>REINDEER CT &amp; DEAD END;  NEW HANOVER; Station ...</td>\n",
       "      <td>19525.0</td>\n",
       "      <td>EMS: BACK PAINS/INJURY</td>\n",
       "      <td>2015-12-10 17:40:00</td>\n",
       "      <td>NEW HANOVER</td>\n",
       "      <td>REINDEER CT &amp; DEAD END</td>\n",
       "      <td>1</td>\n",
       "    </tr>\n",
       "    <tr>\n",
       "      <th>1</th>\n",
       "      <td>40.258061</td>\n",
       "      <td>-75.264680</td>\n",
       "      <td>BRIAR PATH &amp; WHITEMARSH LN;  HATFIELD TOWNSHIP...</td>\n",
       "      <td>19446.0</td>\n",
       "      <td>EMS: DIABETIC EMERGENCY</td>\n",
       "      <td>2015-12-10 17:40:00</td>\n",
       "      <td>HATFIELD TOWNSHIP</td>\n",
       "      <td>BRIAR PATH &amp; WHITEMARSH LN</td>\n",
       "      <td>1</td>\n",
       "    </tr>\n",
       "  </tbody>\n",
       "</table>\n",
       "</div>"
      ],
      "text/plain": [
       "         lat        lng                                               desc  \\\n",
       "0  40.297876 -75.581294  REINDEER CT & DEAD END;  NEW HANOVER; Station ...   \n",
       "1  40.258061 -75.264680  BRIAR PATH & WHITEMARSH LN;  HATFIELD TOWNSHIP...   \n",
       "\n",
       "       zip                    title            timeStamp                twp  \\\n",
       "0  19525.0   EMS: BACK PAINS/INJURY  2015-12-10 17:40:00        NEW HANOVER   \n",
       "1  19446.0  EMS: DIABETIC EMERGENCY  2015-12-10 17:40:00  HATFIELD TOWNSHIP   \n",
       "\n",
       "                         addr  e  \n",
       "0      REINDEER CT & DEAD END  1  \n",
       "1  BRIAR PATH & WHITEMARSH LN  1  "
      ]
     },
     "execution_count": 19,
     "metadata": {},
     "output_type": "execute_result"
    }
   ],
   "source": [
    "df=pd.read_csv('https://raw.githubusercontent.com/PramodShenoy/911-Calls/master/911.csv')\n",
    "df.head(2)"
   ]
  },
  {
   "cell_type": "code",
   "execution_count": 15,
   "metadata": {},
   "outputs": [
    {
     "ename": "SyntaxError",
     "evalue": "unmatched ')' (<ipython-input-15-d5cce99ca2d4>, line 1)",
     "output_type": "error",
     "traceback": [
      "\u001b[1;36m  File \u001b[1;32m\"<ipython-input-15-d5cce99ca2d4>\"\u001b[1;36m, line \u001b[1;32m1\u001b[0m\n\u001b[1;33m    1) describe for cat and numerical column\u001b[0m\n\u001b[1;37m     ^\u001b[0m\n\u001b[1;31mSyntaxError\u001b[0m\u001b[1;31m:\u001b[0m unmatched ')'\n"
     ]
    }
   ],
   "source": [
    "1) describe for cat and numerical column\n",
    "\n",
    "2) lat type cast it to int, perform groupby and apply count on it\n",
    "\n",
    "3) how many people are from same zip location\n",
    "\n",
    "4) check time stamp datatype and extract day in new col\n",
    "\n",
    "5) filter out all the zip codes which address starts with 'A'\n",
    "\n",
    "6) try to map timestamp with day like monday, tuesday....\n",
    "\n",
    "7) from title extract service detail\n"
   ]
  },
  {
   "cell_type": "code",
   "execution_count": 103,
   "metadata": {},
   "outputs": [
    {
     "data": {
      "text/plain": [
       "[' BACK PAINS/INJURY',\n",
       " ' DIABETIC EMERGENCY',\n",
       " ': GAS-ODOR/LEAK',\n",
       " ' CARDIAC EMERGENCY',\n",
       " ' DIZZINESS',\n",
       " ' HEAD INJURY',\n",
       " ' NAUSEA/VOMITING',\n",
       " ' RESPIRATORY EMERGENCY',\n",
       " ' SYNCOPAL EPISODE',\n",
       " 'fic: VEHICLE ACCIDENT -',\n",
       " 'fic: VEHICLE ACCIDENT -',\n",
       " 'fic: VEHICLE ACCIDENT -',\n",
       " 'fic: VEHICLE ACCIDENT -',\n",
       " 'fic: VEHICLE ACCIDENT -',\n",
       " 'fic: VEHICLE ACCIDENT -',\n",
       " 'fic: VEHICLE ACCIDENT -',\n",
       " ' RESPIRATORY EMERGENCY',\n",
       " ' DIZZINESS',\n",
       " ' VEHICLE ACCIDENT',\n",
       " 'fic: DISABLED VEHICLE -',\n",
       " 'fic: VEHICLE ACCIDENT -',\n",
       " 'fic: DISABLED VEHICLE -',\n",
       " ': APPLIANCE FIRE',\n",
       " 'fic: DISABLED VEHICLE -',\n",
       " 'fic: VEHICLE ACCIDENT -',\n",
       " ' GENERAL WEAKNESS',\n",
       " ' HEAD INJURY',\n",
       " ': CARBON MONOXIDE DETECTOR',\n",
       " 'fic: VEHICLE ACCIDENT -',\n",
       " 'fic: DISABLED VEHICLE -',\n",
       " 'fic: VEHICLE ACCIDENT -',\n",
       " ' RESPIRATORY EMERGENCY',\n",
       " ' UNKNOWN MEDICAL EMERGENCY',\n",
       " 'fic: DISABLED VEHICLE -',\n",
       " 'fic: DISABLED VEHICLE -',\n",
       " 'fic: VEHICLE ACCIDENT -',\n",
       " 'fic: DISABLED VEHICLE -',\n",
       " 'fic: DISABLED VEHICLE -',\n",
       " 'fic: VEHICLE ACCIDENT -',\n",
       " ' VEHICLE ACCIDENT',\n",
       " 'fic: VEHICLE ACCIDENT -',\n",
       " ': GAS-ODOR/LEAK',\n",
       " ' UNRESPONSIVE SUBJECT',\n",
       " 'fic: VEHICLE ACCIDENT -',\n",
       " ' CARDIAC EMERGENCY',\n",
       " 'fic: VEHICLE ACCIDENT -',\n",
       " ' VEHICLE ACCIDENT',\n",
       " ': VEHICLE ACCIDENT',\n",
       " 'fic: VEHICLE ACCIDENT -',\n",
       " 'fic: VEHICLE ACCIDENT -',\n",
       " ' ALTERED MENTAL STATUS',\n",
       " ': FIRE ALARM',\n",
       " 'fic: VEHICLE ACCIDENT -',\n",
       " ' CVA/STROKE',\n",
       " ': FIRE ALARM',\n",
       " 'fic: ROAD OBSTRUCTION -',\n",
       " ' UNKNOWN MEDICAL EMERGENCY',\n",
       " ' CVA/STROKE',\n",
       " ' SUBJECT IN PAIN',\n",
       " ' SUBJECT IN PAIN',\n",
       " 'fic: DISABLED VEHICLE -',\n",
       " 'fic: DISABLED VEHICLE -',\n",
       " 'fic: VEHICLE ACCIDENT -',\n",
       " ' HEMORRHAGING',\n",
       " ' UNKNOWN MEDICAL EMERGENCY',\n",
       " ' FALL VICTIM',\n",
       " ' RESPIRATORY EMERGENCY',\n",
       " ' ASSAULT VICTIM',\n",
       " ' FALL VICTIM',\n",
       " ' RESPIRATORY EMERGENCY',\n",
       " ' SUBJECT IN PAIN',\n",
       " ' SEIZURES',\n",
       " ': GAS-ODOR/LEAK',\n",
       " ' DIABETIC EMERGENCY',\n",
       " ' SUBJECT IN PAIN',\n",
       " ' UNKNOWN MEDICAL EMERGENCY',\n",
       " ' HEAD INJURY',\n",
       " 'fic: VEHICLE ACCIDENT -',\n",
       " 'fic: DISABLED VEHICLE -',\n",
       " ' FALL VICTIM',\n",
       " ' FALL VICTIM',\n",
       " 'fic: VEHICLE ACCIDENT -',\n",
       " ' SYNCOPAL EPISODE',\n",
       " ': CARBON MONOXIDE DETECTOR',\n",
       " ' MEDICAL ALERT ALARM',\n",
       " ' RESPIRATORY EMERGENCY',\n",
       " ' ABDOMINAL PAINS',\n",
       " ': FIRE ALARM',\n",
       " ' RESPIRATORY EMERGENCY',\n",
       " ' UNRESPONSIVE SUBJECT',\n",
       " 'fic: ROAD OBSTRUCTION -',\n",
       " ': PUMP DETAIL',\n",
       " 'fic: VEHICLE ACCIDENT -',\n",
       " ': FIRE INVESTIGATION',\n",
       " 'fic: VEHICLE ACCIDENT -',\n",
       " 'fic: DISABLED VEHICLE -',\n",
       " 'fic: DISABLED VEHICLE -',\n",
       " 'fic: VEHICLE ACCIDENT -',\n",
       " ' CVA/STROKE',\n",
       " ' FALL VICTIM',\n",
       " ' SEIZURES',\n",
       " ' CARDIAC EMERGENCY',\n",
       " ' OVERDOSE',\n",
       " ': FIRE ALARM',\n",
       " 'fic: VEHICLE ACCIDENT -',\n",
       " ' FALL VICTIM',\n",
       " ': GAS-ODOR/LEAK',\n",
       " ' ABDOMINAL PAINS',\n",
       " ': FIRE ALARM',\n",
       " 'fic: DISABLED VEHICLE -',\n",
       " ' SUBJECT IN PAIN',\n",
       " ' RESPIRATORY EMERGENCY',\n",
       " ' NAUSEA/VOMITING',\n",
       " ' ABDOMINAL PAINS',\n",
       " 'fic: DISABLED VEHICLE -',\n",
       " ' CARDIAC EMERGENCY',\n",
       " ' RESPIRATORY EMERGENCY',\n",
       " ' MATERNITY',\n",
       " ' HEAD INJURY',\n",
       " ' UNCONSCIOUS SUBJECT',\n",
       " ' SUBJECT IN PAIN',\n",
       " 'fic: DISABLED VEHICLE -',\n",
       " 'fic: DISABLED VEHICLE -',\n",
       " ' NAUSEA/VOMITING',\n",
       " ' HEMORRHAGING',\n",
       " ' DIZZINESS',\n",
       " ': FIRE ALARM',\n",
       " 'fic: VEHICLE ACCIDENT -',\n",
       " ' RESPIRATORY EMERGENCY',\n",
       " ' RESPIRATORY EMERGENCY',\n",
       " ' HEMORRHAGING',\n",
       " ' FALL VICTIM',\n",
       " ': FIRE ALARM',\n",
       " ' CHOKING',\n",
       " ' LACERATIONS',\n",
       " ' LACERATIONS',\n",
       " ' HEAD INJURY',\n",
       " ' MEDICAL ALERT ALARM',\n",
       " ' HEAD INJURY',\n",
       " ': FIRE ALARM',\n",
       " ': CARBON MONOXIDE DETECTOR',\n",
       " ': FIRE ALARM',\n",
       " ': TRASH/DUMPSTER FIRE',\n",
       " 'fic: VEHICLE ACCIDENT -',\n",
       " 'fic: DISABLED VEHICLE -',\n",
       " 'fic: VEHICLE ACCIDENT -',\n",
       " ': VEHICLE ACCIDENT',\n",
       " ': FIRE ALARM',\n",
       " ' RESPIRATORY EMERGENCY',\n",
       " ' DIZZINESS',\n",
       " ' RESPIRATORY EMERGENCY',\n",
       " ' MEDICAL ALERT ALARM',\n",
       " 'fic: VEHICLE ACCIDENT -',\n",
       " ' FALL VICTIM',\n",
       " ' GENERAL WEAKNESS',\n",
       " 'fic: DISABLED VEHICLE -',\n",
       " ' ABDOMINAL PAINS',\n",
       " ' MEDICAL ALERT ALARM',\n",
       " 'fic: VEHICLE ACCIDENT -',\n",
       " 'fic: DISABLED VEHICLE -',\n",
       " ' FALL VICTIM',\n",
       " 'fic: VEHICLE ACCIDENT -',\n",
       " ': GAS-ODOR/LEAK',\n",
       " 'fic: VEHICLE ACCIDENT -',\n",
       " 'fic: VEHICLE ACCIDENT -',\n",
       " ' HEMORRHAGING',\n",
       " 'fic: VEHICLE ACCIDENT -',\n",
       " ' RESPIRATORY EMERGENCY',\n",
       " ': UNKNOWN TYPE FIRE',\n",
       " ' UNRESPONSIVE SUBJECT',\n",
       " 'fic: VEHICLE ACCIDENT -',\n",
       " ' FALL VICTIM',\n",
       " 'fic: VEHICLE ACCIDENT -',\n",
       " ': BUILDING FIRE',\n",
       " 'fic: VEHICLE ACCIDENT -',\n",
       " 'fic: VEHICLE ACCIDENT -',\n",
       " 'fic: VEHICLE ACCIDENT -',\n",
       " 'fic: VEHICLE ACCIDENT -',\n",
       " ' GENERAL WEAKNESS',\n",
       " ': ELECTRICAL FIRE OUTSIDE',\n",
       " 'fic: DISABLED VEHICLE -',\n",
       " ' SUBJECT IN PAIN',\n",
       " 'fic: VEHICLE ACCIDENT -',\n",
       " ' SUBJECT IN PAIN',\n",
       " 'fic: VEHICLE ACCIDENT -',\n",
       " ' CARDIAC EMERGENCY',\n",
       " 'fic: VEHICLE ACCIDENT -',\n",
       " ' CVA/STROKE',\n",
       " ': FIRE ALARM',\n",
       " ': DEBRIS/FLUIDS ON HIGHWAY',\n",
       " ': FIRE ALARM',\n",
       " 'fic: DISABLED VEHICLE -',\n",
       " 'fic: DISABLED VEHICLE -',\n",
       " 'fic: DISABLED VEHICLE -',\n",
       " 'fic: DEBRIS/FLUIDS ON HIGHWAY -',\n",
       " ': DEBRIS/FLUIDS ON HIGHWAY',\n",
       " ' HEMORRHAGING',\n",
       " ' CARDIAC EMERGENCY',\n",
       " ' UNRESPONSIVE SUBJECT',\n",
       " ': GAS-ODOR/LEAK',\n",
       " ': FIRE ALARM',\n",
       " ': FIRE ALARM',\n",
       " ' MEDICAL ALERT ALARM',\n",
       " ' SYNCOPAL EPISODE',\n",
       " ' UNKNOWN MEDICAL EMERGENCY',\n",
       " ': FIRE ALARM',\n",
       " ' GENERAL WEAKNESS',\n",
       " 'fic: VEHICLE ACCIDENT -',\n",
       " ' SEIZURES',\n",
       " 'fic: VEHICLE ACCIDENT -',\n",
       " ' RESPIRATORY EMERGENCY',\n",
       " ' CARDIAC EMERGENCY',\n",
       " ' VEHICLE ACCIDENT',\n",
       " 'fic: ROAD OBSTRUCTION -',\n",
       " 'fic: VEHICLE ACCIDENT -',\n",
       " ' UNCONSCIOUS SUBJECT',\n",
       " ': GAS-ODOR/LEAK',\n",
       " ': VEHICLE ACCIDENT',\n",
       " ' CVA/STROKE',\n",
       " ': FIRE INVESTIGATION',\n",
       " 'fic: VEHICLE ACCIDENT -',\n",
       " 'fic: ROAD OBSTRUCTION -',\n",
       " 'fic: VEHICLE ACCIDENT -',\n",
       " ' FALL VICTIM',\n",
       " 'fic: DISABLED VEHICLE -',\n",
       " ' UNKNOWN MEDICAL EMERGENCY',\n",
       " 'fic: DISABLED VEHICLE -',\n",
       " 'fic: VEHICLE ACCIDENT -',\n",
       " 'fic: DISABLED VEHICLE -',\n",
       " ' SYNCOPAL EPISODE',\n",
       " ': FIRE ALARM',\n",
       " ' SYNCOPAL EPISODE',\n",
       " ' HEMORRHAGING',\n",
       " ': FIRE ALARM',\n",
       " ': FIRE ALARM',\n",
       " 'fic: VEHICLE ACCIDENT -',\n",
       " ' RESPIRATORY EMERGENCY',\n",
       " ': FIRE ALARM',\n",
       " ' FALL VICTIM',\n",
       " ' FEVER',\n",
       " 'fic: VEHICLE ACCIDENT -',\n",
       " 'fic: ROAD OBSTRUCTION -',\n",
       " 'fic: VEHICLE ACCIDENT -',\n",
       " 'fic: DISABLED VEHICLE -',\n",
       " ' SYNCOPAL EPISODE',\n",
       " ' SEIZURES',\n",
       " ' HEAD INJURY',\n",
       " ' HEAD INJURY',\n",
       " 'fic: VEHICLE ACCIDENT -',\n",
       " ': ELECTRICAL FIRE OUTSIDE',\n",
       " ' FALL VICTIM',\n",
       " ' HEMORRHAGING',\n",
       " ' UNRESPONSIVE SUBJECT',\n",
       " ' BACK PAINS/INJURY',\n",
       " 'fic: VEHICLE ACCIDENT -',\n",
       " ' HEAD INJURY',\n",
       " ': ELECTRICAL FIRE OUTSIDE',\n",
       " ' UNKNOWN MEDICAL EMERGENCY',\n",
       " 'fic: VEHICLE ACCIDENT -',\n",
       " ' SYNCOPAL EPISODE',\n",
       " ' RESPIRATORY EMERGENCY',\n",
       " ' ABDOMINAL PAINS',\n",
       " ' RESPIRATORY EMERGENCY',\n",
       " 'fic: VEHICLE ACCIDENT -',\n",
       " ': VEHICLE ACCIDENT',\n",
       " ' ALLERGIC REACTION',\n",
       " ' DIZZINESS',\n",
       " ' HEAD INJURY',\n",
       " ' MEDICAL ALERT ALARM',\n",
       " 'fic: VEHICLE ACCIDENT -',\n",
       " ': FIRE ALARM',\n",
       " ' HEAD INJURY',\n",
       " ' LACERATIONS',\n",
       " ' UNCONSCIOUS SUBJECT',\n",
       " ' CVA/STROKE',\n",
       " ' FALL VICTIM',\n",
       " ' FALL VICTIM',\n",
       " ' SUBJECT IN PAIN',\n",
       " ' HEAD INJURY',\n",
       " 'fic: VEHICLE ACCIDENT -',\n",
       " 'fic: VEHICLE ACCIDENT -',\n",
       " ' SUBJECT IN PAIN',\n",
       " ' UNCONSCIOUS SUBJECT',\n",
       " 'fic: VEHICLE ACCIDENT -',\n",
       " ' HEAD INJURY',\n",
       " ' SUBJECT IN PAIN',\n",
       " ' SUBJECT IN PAIN',\n",
       " ' GENERAL WEAKNESS',\n",
       " ' UNCONSCIOUS SUBJECT',\n",
       " 'fic: VEHICLE LEAKING FUEL -',\n",
       " ': FIRE ALARM',\n",
       " ' MEDICAL ALERT ALARM',\n",
       " ' RESPIRATORY EMERGENCY',\n",
       " 'fic: VEHICLE ACCIDENT -',\n",
       " 'fic: VEHICLE ACCIDENT -',\n",
       " ' CARDIAC EMERGENCY',\n",
       " ' CARDIAC EMERGENCY',\n",
       " ': BUILDING FIRE',\n",
       " 'fic: ROAD OBSTRUCTION -',\n",
       " ' NAUSEA/VOMITING',\n",
       " ' FALL VICTIM',\n",
       " ' CARDIAC EMERGENCY',\n",
       " ' CVA/STROKE',\n",
       " 'fic: DISABLED VEHICLE -',\n",
       " 'fic: VEHICLE ACCIDENT -',\n",
       " ' ABDOMINAL PAINS',\n",
       " ' SYNCOPAL EPISODE',\n",
       " ' GENERAL WEAKNESS',\n",
       " ' RESPIRATORY EMERGENCY',\n",
       " ' FALL VICTIM',\n",
       " 'fic: DISABLED VEHICLE -',\n",
       " ': FIRE ALARM',\n",
       " 'fic: VEHICLE ACCIDENT -',\n",
       " ' NAUSEA/VOMITING',\n",
       " ': FIRE ALARM',\n",
       " 'fic: VEHICLE ACCIDENT -',\n",
       " ' FALL VICTIM',\n",
       " ': FIRE ALARM',\n",
       " ': GAS-ODOR/LEAK',\n",
       " ': FIRE ALARM',\n",
       " 'fic: VEHICLE ACCIDENT -',\n",
       " ' DIZZINESS',\n",
       " ': FIRE ALARM',\n",
       " 'fic: DISABLED VEHICLE -',\n",
       " 'fic: VEHICLE ACCIDENT -',\n",
       " 'fic: DISABLED VEHICLE -',\n",
       " ' SYNCOPAL EPISODE',\n",
       " 'fic: DISABLED VEHICLE -',\n",
       " 'fic: VEHICLE ACCIDENT -',\n",
       " 'fic: DISABLED VEHICLE -',\n",
       " 'fic: ROAD OBSTRUCTION -',\n",
       " 'fic: VEHICLE ACCIDENT -',\n",
       " 'fic: DISABLED VEHICLE -',\n",
       " 'fic: VEHICLE ACCIDENT -',\n",
       " ' FALL VICTIM',\n",
       " ' VEHICLE ACCIDENT',\n",
       " ': VEHICLE ACCIDENT',\n",
       " 'fic: DISABLED VEHICLE -',\n",
       " 'fic: VEHICLE ACCIDENT -',\n",
       " ' FRACTURE',\n",
       " ' RESPIRATORY EMERGENCY',\n",
       " ' ABDOMINAL PAINS',\n",
       " ' HEMORRHAGING',\n",
       " ' VEHICLE ACCIDENT',\n",
       " 'fic: VEHICLE ACCIDENT -',\n",
       " 'fic: VEHICLE ACCIDENT -',\n",
       " 'fic: VEHICLE ACCIDENT -',\n",
       " ': BURN VICTIM',\n",
       " ' BURN VICTIM',\n",
       " ' VEHICLE ACCIDENT',\n",
       " 'fic: VEHICLE ACCIDENT -',\n",
       " 'fic: VEHICLE ACCIDENT -',\n",
       " ': VEHICLE ACCIDENT',\n",
       " ' FALL VICTIM',\n",
       " ': FIRE INVESTIGATION',\n",
       " 'fic: VEHICLE ACCIDENT -',\n",
       " 'fic: VEHICLE ACCIDENT -',\n",
       " 'fic: DISABLED VEHICLE -',\n",
       " ' MEDICAL ALERT ALARM',\n",
       " ': RESCUE - GENERAL',\n",
       " ': WOODS/FIELD FIRE',\n",
       " ' RESCUE - GENERAL',\n",
       " ' MEDICAL ALERT ALARM',\n",
       " ' ALTERED MENTAL STATUS',\n",
       " ': FIRE ALARM',\n",
       " ': WOODS/FIELD FIRE',\n",
       " ' BACK PAINS/INJURY',\n",
       " ' DIABETIC EMERGENCY',\n",
       " ' DIABETIC EMERGENCY',\n",
       " ' OVERDOSE',\n",
       " ' VEHICLE ACCIDENT',\n",
       " ': VEHICLE ACCIDENT',\n",
       " 'fic: VEHICLE ACCIDENT -',\n",
       " 'fic: VEHICLE ACCIDENT -',\n",
       " ' FALL VICTIM',\n",
       " 'fic: DISABLED VEHICLE -',\n",
       " 'fic: ROAD OBSTRUCTION -',\n",
       " 'fic: VEHICLE ACCIDENT -',\n",
       " 'fic: DISABLED VEHICLE -',\n",
       " ': FIRE ALARM',\n",
       " ' CARDIAC EMERGENCY',\n",
       " ' FEVER',\n",
       " ': FIRE SPECIAL SERVICE',\n",
       " 'fic: DISABLED VEHICLE -',\n",
       " 'fic: DISABLED VEHICLE -',\n",
       " 'fic: VEHICLE ACCIDENT -',\n",
       " 'fic: VEHICLE ACCIDENT -',\n",
       " ' UNKNOWN MEDICAL EMERGENCY',\n",
       " 'fic: VEHICLE ACCIDENT -',\n",
       " ' FALL VICTIM',\n",
       " 'fic: VEHICLE ACCIDENT -',\n",
       " ' CARDIAC EMERGENCY',\n",
       " ' SEIZURES',\n",
       " ' ASSAULT VICTIM',\n",
       " ' HEAD INJURY',\n",
       " 'fic: DISABLED VEHICLE -',\n",
       " 'fic: VEHICLE ACCIDENT -',\n",
       " 'fic: VEHICLE ACCIDENT -',\n",
       " 'fic: VEHICLE ACCIDENT -',\n",
       " ' VEHICLE ACCIDENT',\n",
       " 'fic: VEHICLE ACCIDENT -',\n",
       " 'fic: DISABLED VEHICLE -',\n",
       " ' VEHICLE ACCIDENT',\n",
       " ': FIRE ALARM',\n",
       " ' UNRESPONSIVE SUBJECT',\n",
       " ': BUILDING FIRE',\n",
       " ': VEHICLE FIRE',\n",
       " ' VEHICLE ACCIDENT',\n",
       " 'fic: VEHICLE ACCIDENT -',\n",
       " 'fic: VEHICLE FIRE -',\n",
       " ': FIRE ALARM',\n",
       " 'fic: VEHICLE ACCIDENT -',\n",
       " 'fic: VEHICLE ACCIDENT -',\n",
       " ' WARRANT SERVICE',\n",
       " ' CHOKING',\n",
       " ' HEAD INJURY',\n",
       " ' SYNCOPAL EPISODE',\n",
       " 'fic: ROAD OBSTRUCTION -',\n",
       " 'fic: VEHICLE ACCIDENT -',\n",
       " ' CARDIAC EMERGENCY',\n",
       " ' UNCONSCIOUS SUBJECT',\n",
       " ' UNRESPONSIVE SUBJECT',\n",
       " 'fic: VEHICLE ACCIDENT -',\n",
       " ': UNKNOWN TYPE FIRE',\n",
       " ' CVA/STROKE',\n",
       " ' BACK PAINS/INJURY',\n",
       " ' VEHICLE ACCIDENT',\n",
       " ' ALTERED MENTAL STATUS',\n",
       " ' ASSAULT VICTIM',\n",
       " ': FIRE ALARM',\n",
       " 'fic: VEHICLE ACCIDENT -',\n",
       " 'fic: DISABLED VEHICLE -',\n",
       " ': FIRE INVESTIGATION',\n",
       " ' UNRESPONSIVE SUBJECT',\n",
       " 'fic: DISABLED VEHICLE -',\n",
       " 'fic: DISABLED VEHICLE -',\n",
       " ' ALLERGIC REACTION',\n",
       " ' FALL VICTIM',\n",
       " ' RESPIRATORY EMERGENCY',\n",
       " 'fic: VEHICLE ACCIDENT -',\n",
       " ' CARDIAC EMERGENCY',\n",
       " 'fic: VEHICLE ACCIDENT -',\n",
       " ' VEHICLE ACCIDENT',\n",
       " 'fic: VEHICLE ACCIDENT -',\n",
       " 'fic: VEHICLE ACCIDENT -',\n",
       " ' VEHICLE ACCIDENT',\n",
       " ': VEHICLE ACCIDENT',\n",
       " ' SEIZURES',\n",
       " ' VEHICLE ACCIDENT',\n",
       " 'fic: VEHICLE ACCIDENT -',\n",
       " 'fic: VEHICLE ACCIDENT -',\n",
       " ' CARDIAC EMERGENCY',\n",
       " ' SEIZURES',\n",
       " 'fic: VEHICLE ACCIDENT -',\n",
       " ': VEHICLE ACCIDENT',\n",
       " ' RESPIRATORY EMERGENCY',\n",
       " ' CARDIAC EMERGENCY',\n",
       " ' FRACTURE',\n",
       " ' UNKNOWN MEDICAL EMERGENCY',\n",
       " ' FEVER',\n",
       " ' SEIZURES',\n",
       " ' VEHICLE ACCIDENT',\n",
       " 'fic: VEHICLE ACCIDENT -',\n",
       " ': FIRE ALARM',\n",
       " 'fic: DISABLED VEHICLE -',\n",
       " 'fic: VEHICLE ACCIDENT -',\n",
       " ': CARBON MONOXIDE DETECTOR',\n",
       " 'fic: VEHICLE ACCIDENT -',\n",
       " ' VEHICLE ACCIDENT',\n",
       " 'fic: VEHICLE ACCIDENT -',\n",
       " ': S/B AT HELICOPTER LANDING',\n",
       " ' HEMORRHAGING',\n",
       " ': FIRE ALARM',\n",
       " 'fic: ROAD OBSTRUCTION -',\n",
       " ' ABDOMINAL PAINS',\n",
       " ' CARDIAC EMERGENCY',\n",
       " 'fic: VEHICLE ACCIDENT -',\n",
       " 'fic: VEHICLE ACCIDENT -',\n",
       " 'fic: DISABLED VEHICLE -',\n",
       " 'fic: VEHICLE ACCIDENT -',\n",
       " 'fic: VEHICLE ACCIDENT -',\n",
       " 'fic: VEHICLE ACCIDENT -',\n",
       " ': VEHICLE ACCIDENT',\n",
       " ': VEHICLE ACCIDENT',\n",
       " 'fic: VEHICLE ACCIDENT -',\n",
       " ': FIRE ALARM',\n",
       " ' SUBJECT IN PAIN',\n",
       " ' MEDICAL ALERT ALARM',\n",
       " ': FIRE ALARM',\n",
       " 'fic: DISABLED VEHICLE -',\n",
       " 'fic: DISABLED VEHICLE -',\n",
       " ' RESPIRATORY EMERGENCY',\n",
       " 'fic: DISABLED VEHICLE -',\n",
       " 'fic: VEHICLE ACCIDENT -',\n",
       " ' VEHICLE ACCIDENT',\n",
       " 'fic: VEHICLE ACCIDENT -',\n",
       " 'fic: VEHICLE ACCIDENT -',\n",
       " ': VEHICLE ACCIDENT',\n",
       " ' RESPIRATORY EMERGENCY',\n",
       " ' RESPIRATORY EMERGENCY',\n",
       " ' VEHICLE ACCIDENT',\n",
       " 'fic: VEHICLE ACCIDENT -',\n",
       " 'fic: VEHICLE ACCIDENT -',\n",
       " ': UNKNOWN TYPE FIRE',\n",
       " 'fic: VEHICLE ACCIDENT -',\n",
       " ' UNKNOWN MEDICAL EMERGENCY',\n",
       " ' CARDIAC EMERGENCY',\n",
       " ' UNKNOWN MEDICAL EMERGENCY',\n",
       " ' HEAD INJURY',\n",
       " ' CARDIAC EMERGENCY',\n",
       " 'fic: VEHICLE ACCIDENT -',\n",
       " ' HEAD INJURY',\n",
       " ' CARDIAC EMERGENCY',\n",
       " ' EMS SPECIAL SERVICE',\n",
       " ': FIRE ALARM',\n",
       " 'fic: VEHICLE ACCIDENT -',\n",
       " ' FALL VICTIM',\n",
       " ': GAS-ODOR/LEAK',\n",
       " 'fic: HAZARDOUS ROAD CONDITIONS -',\n",
       " ' MATERNITY',\n",
       " ' CARDIAC EMERGENCY',\n",
       " ' ABDOMINAL PAINS',\n",
       " ' ABDOMINAL PAINS',\n",
       " ' CARDIAC EMERGENCY',\n",
       " 'fic: VEHICLE ACCIDENT -',\n",
       " ' CARDIAC EMERGENCY',\n",
       " ' DIABETIC EMERGENCY',\n",
       " ' UNCONSCIOUS SUBJECT',\n",
       " ' ALTERED MENTAL STATUS',\n",
       " ': FIRE ALARM',\n",
       " ' RESCUE - GENERAL',\n",
       " ': RESCUE - GENERAL',\n",
       " 'fic: VEHICLE FIRE -',\n",
       " 'fic: VEHICLE FIRE -',\n",
       " ' VEHICLE ACCIDENT',\n",
       " ': VEHICLE FIRE',\n",
       " ' CARDIAC EMERGENCY',\n",
       " 'fic: VEHICLE ACCIDENT -',\n",
       " 'fic: DISABLED VEHICLE -',\n",
       " ': FIRE ALARM',\n",
       " ' CARDIAC EMERGENCY',\n",
       " 'fic: DISABLED VEHICLE -',\n",
       " ' CARDIAC EMERGENCY',\n",
       " ' HEAD INJURY',\n",
       " ' NAUSEA/VOMITING',\n",
       " ': FIRE ALARM',\n",
       " ' FALL VICTIM',\n",
       " 'fic: VEHICLE ACCIDENT -',\n",
       " ' HEMORRHAGING',\n",
       " ' VEHICLE ACCIDENT',\n",
       " 'fic: VEHICLE ACCIDENT -',\n",
       " 'fic: VEHICLE ACCIDENT -',\n",
       " 'fic: VEHICLE ACCIDENT -',\n",
       " ' UNKNOWN MEDICAL EMERGENCY',\n",
       " ' VEHICLE ACCIDENT',\n",
       " 'fic: VEHICLE ACCIDENT -',\n",
       " ': FIRE ALARM',\n",
       " ' FALL VICTIM',\n",
       " 'fic: DISABLED VEHICLE -',\n",
       " 'fic: HAZARDOUS ROAD CONDITIONS -',\n",
       " ' UNRESPONSIVE SUBJECT',\n",
       " 'fic: VEHICLE ACCIDENT -',\n",
       " ': CARBON MONOXIDE DETECTOR',\n",
       " ' SEIZURES',\n",
       " ' RESPIRATORY EMERGENCY',\n",
       " ' ASSAULT VICTIM',\n",
       " 'fic: VEHICLE ACCIDENT -',\n",
       " ' RESPIRATORY EMERGENCY',\n",
       " ' CARDIAC EMERGENCY',\n",
       " ' UNRESPONSIVE SUBJECT',\n",
       " ': FIRE ALARM',\n",
       " ': FIRE ALARM',\n",
       " ' CARDIAC EMERGENCY',\n",
       " 'fic: VEHICLE ACCIDENT -',\n",
       " ': GAS-ODOR/LEAK',\n",
       " ' CARDIAC EMERGENCY',\n",
       " ': FIRE ALARM',\n",
       " ' CARDIAC EMERGENCY',\n",
       " ' HEMORRHAGING',\n",
       " ': GAS-ODOR/LEAK',\n",
       " ' ALTERED MENTAL STATUS',\n",
       " ' CARDIAC EMERGENCY',\n",
       " ' UNCONSCIOUS SUBJECT',\n",
       " ' CARDIAC EMERGENCY',\n",
       " 'fic: VEHICLE ACCIDENT -',\n",
       " ' GENERAL WEAKNESS',\n",
       " ' FALL VICTIM',\n",
       " ': RESCUE - ELEVATOR',\n",
       " ' GENERAL WEAKNESS',\n",
       " 'fic: VEHICLE ACCIDENT -',\n",
       " ' UNCONSCIOUS SUBJECT',\n",
       " ' MEDICAL ALERT ALARM',\n",
       " ': FIRE ALARM',\n",
       " ' CVA/STROKE',\n",
       " ' VEHICLE ACCIDENT',\n",
       " ' HEAD INJURY',\n",
       " 'fic: VEHICLE ACCIDENT -',\n",
       " 'fic: DISABLED VEHICLE -',\n",
       " 'fic: DISABLED VEHICLE -',\n",
       " 'fic: VEHICLE ACCIDENT -',\n",
       " ' VEHICLE ACCIDENT',\n",
       " ': VEHICLE ACCIDENT',\n",
       " 'fic: VEHICLE ACCIDENT -',\n",
       " ' HEMORRHAGING',\n",
       " ' UNKNOWN MEDICAL EMERGENCY',\n",
       " 'fic: VEHICLE ACCIDENT -',\n",
       " 'fic: VEHICLE ACCIDENT -',\n",
       " 'fic: VEHICLE ACCIDENT -',\n",
       " 'fic: VEHICLE ACCIDENT -',\n",
       " ' EMS SPECIAL SERVICE',\n",
       " 'fic: VEHICLE ACCIDENT -',\n",
       " 'fic: VEHICLE ACCIDENT -',\n",
       " ' SUBJECT IN PAIN',\n",
       " ' ALTERED MENTAL STATUS',\n",
       " 'fic: VEHICLE ACCIDENT -',\n",
       " ' SYNCOPAL EPISODE',\n",
       " ' CARDIAC EMERGENCY',\n",
       " ' ALTERED MENTAL STATUS',\n",
       " ': FIRE ALARM',\n",
       " 'fic: VEHICLE ACCIDENT -',\n",
       " 'fic: VEHICLE ACCIDENT -',\n",
       " ' VEHICLE ACCIDENT',\n",
       " 'fic: VEHICLE ACCIDENT -',\n",
       " ' FIRE SPECIAL SERVICE',\n",
       " ' HEMORRHAGING',\n",
       " ': FIRE SPECIAL SERVICE',\n",
       " ': GAS-ODOR/LEAK',\n",
       " ' CARDIAC EMERGENCY',\n",
       " 'fic: VEHICLE ACCIDENT -',\n",
       " 'fic: VEHICLE ACCIDENT -',\n",
       " ': FIRE INVESTIGATION',\n",
       " ' FALL VICTIM',\n",
       " ': VEHICLE ACCIDENT',\n",
       " ' UNRESPONSIVE SUBJECT',\n",
       " ' VEHICLE ACCIDENT',\n",
       " 'fic: VEHICLE ACCIDENT -',\n",
       " ': FIRE ALARM',\n",
       " ' UNRESPONSIVE SUBJECT',\n",
       " ' DIZZINESS',\n",
       " ' HEAD INJURY',\n",
       " ' FALL VICTIM',\n",
       " ': S/B AT HELICOPTER LANDING',\n",
       " ': GAS-ODOR/LEAK',\n",
       " ' FALL VICTIM',\n",
       " ': FIRE ALARM',\n",
       " ' NAUSEA/VOMITING',\n",
       " 'fic: ROAD OBSTRUCTION -',\n",
       " 'fic: ROAD OBSTRUCTION -',\n",
       " ': FIRE SPECIAL SERVICE',\n",
       " 'fic: VEHICLE ACCIDENT -',\n",
       " 'fic: VEHICLE ACCIDENT -',\n",
       " 'fic: VEHICLE ACCIDENT -',\n",
       " 'fic: VEHICLE ACCIDENT -',\n",
       " ' CARDIAC EMERGENCY',\n",
       " ' UNKNOWN MEDICAL EMERGENCY',\n",
       " 'fic: VEHICLE ACCIDENT -',\n",
       " ' ALLERGIC REACTION',\n",
       " ' FALL VICTIM',\n",
       " ': FIRE ALARM',\n",
       " 'fic: VEHICLE ACCIDENT -',\n",
       " ' SYNCOPAL EPISODE',\n",
       " ' VEHICLE ACCIDENT',\n",
       " 'fic: VEHICLE ACCIDENT -',\n",
       " 'fic: VEHICLE ACCIDENT -',\n",
       " ' HEMORRHAGING',\n",
       " ' ASSAULT VICTIM',\n",
       " ' VEHICLE ACCIDENT',\n",
       " 'fic: VEHICLE ACCIDENT -',\n",
       " 'fic: VEHICLE ACCIDENT -',\n",
       " 'fic: VEHICLE ACCIDENT -',\n",
       " ': FIRE ALARM',\n",
       " 'fic: VEHICLE ACCIDENT -',\n",
       " 'fic: VEHICLE ACCIDENT -',\n",
       " 'fic: VEHICLE ACCIDENT -',\n",
       " 'fic: VEHICLE ACCIDENT -',\n",
       " ' SUBJECT IN PAIN',\n",
       " 'fic: VEHICLE ACCIDENT -',\n",
       " ' VEHICLE ACCIDENT',\n",
       " 'fic: DISABLED VEHICLE -',\n",
       " ' HEAD INJURY',\n",
       " ': VEHICLE ACCIDENT',\n",
       " ' NAUSEA/VOMITING',\n",
       " ' VEHICLE ACCIDENT',\n",
       " 'fic: VEHICLE ACCIDENT -',\n",
       " 'fic: VEHICLE ACCIDENT -',\n",
       " 'fic: VEHICLE ACCIDENT -',\n",
       " ': VEHICLE ACCIDENT',\n",
       " ' VEHICLE ACCIDENT',\n",
       " 'fic: VEHICLE ACCIDENT -',\n",
       " ' RESPIRATORY EMERGENCY',\n",
       " ': S/B AT HELICOPTER LANDING',\n",
       " ': APPLIANCE FIRE',\n",
       " 'fic: VEHICLE ACCIDENT -',\n",
       " 'fic: VEHICLE ACCIDENT -',\n",
       " ' CARDIAC EMERGENCY',\n",
       " ' FALL VICTIM',\n",
       " ' RESPIRATORY EMERGENCY',\n",
       " ' SEIZURES',\n",
       " ' FALL VICTIM',\n",
       " ' GENERAL WEAKNESS',\n",
       " ' SUBJECT IN PAIN',\n",
       " 'fic: VEHICLE ACCIDENT -',\n",
       " 'fic: VEHICLE ACCIDENT -',\n",
       " ' CHOKING',\n",
       " ': CARBON MONOXIDE DETECTOR',\n",
       " 'fic: VEHICLE ACCIDENT -',\n",
       " 'fic: VEHICLE ACCIDENT -',\n",
       " 'fic: VEHICLE ACCIDENT -',\n",
       " 'fic: VEHICLE ACCIDENT -',\n",
       " 'fic: VEHICLE ACCIDENT -',\n",
       " ' SYNCOPAL EPISODE',\n",
       " 'fic: VEHICLE ACCIDENT -',\n",
       " ' VEHICLE ACCIDENT',\n",
       " 'fic: VEHICLE ACCIDENT -',\n",
       " 'fic: VEHICLE ACCIDENT -',\n",
       " ' ABDOMINAL PAINS',\n",
       " ': VEHICLE FIRE',\n",
       " 'fic: VEHICLE FIRE -',\n",
       " 'fic: VEHICLE ACCIDENT -',\n",
       " ' CARDIAC EMERGENCY',\n",
       " 'fic: VEHICLE ACCIDENT -',\n",
       " ' SUBJECT IN PAIN',\n",
       " ' CARDIAC EMERGENCY',\n",
       " ' FALL VICTIM',\n",
       " ' FRACTURE',\n",
       " 'fic: VEHICLE ACCIDENT -',\n",
       " ' FALL VICTIM',\n",
       " 'fic: DISABLED VEHICLE -',\n",
       " ': FIRE ALARM',\n",
       " 'fic: VEHICLE ACCIDENT -',\n",
       " ' RESPIRATORY EMERGENCY',\n",
       " ': FIRE ALARM',\n",
       " ': UNKNOWN TYPE FIRE',\n",
       " 'fic: DISABLED VEHICLE -',\n",
       " 'fic: ROAD OBSTRUCTION -',\n",
       " 'fic: ROAD OBSTRUCTION -',\n",
       " ' HEAD INJURY',\n",
       " ' RESPIRATORY EMERGENCY',\n",
       " ' RESPIRATORY EMERGENCY',\n",
       " ' SYNCOPAL EPISODE',\n",
       " 'fic: DISABLED VEHICLE -',\n",
       " 'fic: DISABLED VEHICLE -',\n",
       " 'fic: DISABLED VEHICLE -',\n",
       " 'fic: DISABLED VEHICLE -',\n",
       " ' VEHICLE ACCIDENT',\n",
       " 'fic: DISABLED VEHICLE -',\n",
       " 'fic: DISABLED VEHICLE -',\n",
       " 'fic: DISABLED VEHICLE -',\n",
       " 'fic: VEHICLE ACCIDENT -',\n",
       " ' CARDIAC EMERGENCY',\n",
       " ' OVERDOSE',\n",
       " ' VEHICLE ACCIDENT',\n",
       " ' CARDIAC EMERGENCY',\n",
       " 'fic: VEHICLE ACCIDENT -',\n",
       " ' UNKNOWN MEDICAL EMERGENCY',\n",
       " ' ALTERED MENTAL STATUS',\n",
       " ' UNRESPONSIVE SUBJECT',\n",
       " 'fic: DISABLED VEHICLE -',\n",
       " 'fic: DISABLED VEHICLE -',\n",
       " 'fic: DISABLED VEHICLE -',\n",
       " ' RESPIRATORY EMERGENCY',\n",
       " ': CARBON MONOXIDE DETECTOR',\n",
       " 'fic: VEHICLE ACCIDENT -',\n",
       " 'fic: VEHICLE ACCIDENT -',\n",
       " ' FALL VICTIM',\n",
       " ' UNCONSCIOUS SUBJECT',\n",
       " ' HEAD INJURY',\n",
       " 'fic: VEHICLE ACCIDENT -',\n",
       " 'fic: VEHICLE ACCIDENT -',\n",
       " ' FALL VICTIM',\n",
       " 'fic: VEHICLE ACCIDENT -',\n",
       " ': VEHICLE ACCIDENT',\n",
       " ' UNKNOWN MEDICAL EMERGENCY',\n",
       " ': FIRE ALARM',\n",
       " ': VEHICLE FIRE',\n",
       " 'fic: VEHICLE FIRE -',\n",
       " ': FIRE ALARM',\n",
       " 'fic: VEHICLE ACCIDENT -',\n",
       " ' CVA/STROKE',\n",
       " ' UNKNOWN MEDICAL EMERGENCY',\n",
       " ' RESPIRATORY EMERGENCY',\n",
       " ' ASSAULT VICTIM',\n",
       " ' RESPIRATORY EMERGENCY',\n",
       " ' UNKNOWN MEDICAL EMERGENCY',\n",
       " ' GENERAL WEAKNESS',\n",
       " ' UNKNOWN MEDICAL EMERGENCY',\n",
       " ' HEAD INJURY',\n",
       " 'fic: VEHICLE ACCIDENT -',\n",
       " ' ASSAULT VICTIM',\n",
       " 'fic: VEHICLE ACCIDENT -',\n",
       " ' VEHICLE ACCIDENT',\n",
       " ' VEHICLE ACCIDENT',\n",
       " 'fic: VEHICLE ACCIDENT -',\n",
       " 'fic: VEHICLE ACCIDENT -',\n",
       " 'fic: VEHICLE ACCIDENT -',\n",
       " ': VEHICLE ACCIDENT',\n",
       " 'fic: VEHICLE ACCIDENT -',\n",
       " ' CARDIAC EMERGENCY',\n",
       " 'fic: VEHICLE ACCIDENT -',\n",
       " 'fic: VEHICLE ACCIDENT -',\n",
       " ' ASSAULT VICTIM',\n",
       " ' OVERDOSE',\n",
       " ' DIZZINESS',\n",
       " ' LACERATIONS',\n",
       " 'fic: DISABLED VEHICLE -',\n",
       " 'fic: VEHICLE ACCIDENT -',\n",
       " 'fic: VEHICLE ACCIDENT -',\n",
       " ' FALL VICTIM',\n",
       " ': FIRE ALARM',\n",
       " 'fic: VEHICLE ACCIDENT -',\n",
       " 'fic: VEHICLE ACCIDENT -',\n",
       " ': FIRE ALARM',\n",
       " 'fic: ROAD OBSTRUCTION -',\n",
       " ' CARDIAC EMERGENCY',\n",
       " ' VEHICLE ACCIDENT',\n",
       " 'fic: VEHICLE ACCIDENT -',\n",
       " 'fic: VEHICLE ACCIDENT -',\n",
       " 'fic: VEHICLE ACCIDENT -',\n",
       " ': UNKNOWN TYPE FIRE',\n",
       " ': FIRE ALARM',\n",
       " ': VEHICLE FIRE',\n",
       " 'fic: VEHICLE FIRE -',\n",
       " 'fic: VEHICLE ACCIDENT -',\n",
       " ' RESPIRATORY EMERGENCY',\n",
       " ': FIRE ALARM',\n",
       " ' DEHYDRATION',\n",
       " ': VEHICLE FIRE',\n",
       " ' FALL VICTIM',\n",
       " 'fic: VEHICLE FIRE -',\n",
       " ' ALTERED MENTAL STATUS',\n",
       " ' FALL VICTIM',\n",
       " ' ALTERED MENTAL STATUS',\n",
       " ' RESPIRATORY EMERGENCY',\n",
       " ' OVERDOSE',\n",
       " ': TRASH/DUMPSTER FIRE',\n",
       " ' UNKNOWN MEDICAL EMERGENCY',\n",
       " ' SUBJECT IN PAIN',\n",
       " 'fic: VEHICLE ACCIDENT -',\n",
       " ' UNCONSCIOUS SUBJECT',\n",
       " 'fic: VEHICLE ACCIDENT -',\n",
       " ': TRASH/DUMPSTER FIRE',\n",
       " ': FIRE ALARM',\n",
       " ' HEMORRHAGING',\n",
       " 'fic: DISABLED VEHICLE -',\n",
       " 'fic: DISABLED VEHICLE -',\n",
       " 'fic: DISABLED VEHICLE -',\n",
       " 'fic: DISABLED VEHICLE -',\n",
       " ' UNCONSCIOUS SUBJECT',\n",
       " 'fic: DISABLED VEHICLE -',\n",
       " ' DIABETIC EMERGENCY',\n",
       " ' HEAD INJURY',\n",
       " ' SYNCOPAL EPISODE',\n",
       " ': GAS-ODOR/LEAK',\n",
       " ' ABDOMINAL PAINS',\n",
       " ' HEAD INJURY',\n",
       " ': GAS-ODOR/LEAK',\n",
       " ': GAS-ODOR/LEAK',\n",
       " ' VEHICLE ACCIDENT',\n",
       " ': VEHICLE ACCIDENT',\n",
       " 'fic: VEHICLE ACCIDENT -',\n",
       " 'fic: VEHICLE FIRE -',\n",
       " ' FALL VICTIM',\n",
       " ' ABDOMINAL PAINS',\n",
       " ': VEHICLE ACCIDENT',\n",
       " ' VEHICLE ACCIDENT',\n",
       " 'fic: VEHICLE ACCIDENT -',\n",
       " ': UNKNOWN TYPE FIRE',\n",
       " ' CVA/STROKE',\n",
       " ': VEHICLE ACCIDENT',\n",
       " ' SUBJECT IN PAIN',\n",
       " ' VEHICLE ACCIDENT',\n",
       " 'fic: VEHICLE ACCIDENT -',\n",
       " ' DIZZINESS',\n",
       " ': CARBON MONOXIDE DETECTOR',\n",
       " ': UNKNOWN TYPE FIRE',\n",
       " ' VEHICLE ACCIDENT',\n",
       " ': UNKNOWN TYPE FIRE',\n",
       " 'fic: VEHICLE ACCIDENT -',\n",
       " 'fic: VEHICLE ACCIDENT -',\n",
       " 'fic: VEHICLE ACCIDENT -',\n",
       " ' VEHICLE ACCIDENT',\n",
       " 'fic: VEHICLE ACCIDENT -',\n",
       " 'fic: VEHICLE ACCIDENT -',\n",
       " ' GENERAL WEAKNESS',\n",
       " ' SYNCOPAL EPISODE',\n",
       " ' CARDIAC EMERGENCY',\n",
       " ' CARDIAC EMERGENCY',\n",
       " ' FALL VICTIM',\n",
       " ' FALL VICTIM',\n",
       " ': GAS-ODOR/LEAK',\n",
       " 'fic: ROAD OBSTRUCTION -',\n",
       " 'fic: ROAD OBSTRUCTION -',\n",
       " ': S/B AT HELICOPTER LANDING',\n",
       " ' DIZZINESS',\n",
       " ' FALL VICTIM',\n",
       " ' HEAD INJURY',\n",
       " ' NAUSEA/VOMITING',\n",
       " 'fic: VEHICLE ACCIDENT -',\n",
       " ' RESPIRATORY EMERGENCY',\n",
       " 'fic: VEHICLE ACCIDENT -',\n",
       " ' HEAD INJURY',\n",
       " ' ALTERED MENTAL STATUS',\n",
       " ' CARDIAC EMERGENCY',\n",
       " ' VEHICLE ACCIDENT',\n",
       " 'fic: VEHICLE ACCIDENT -',\n",
       " 'fic: VEHICLE ACCIDENT -',\n",
       " 'fic: VEHICLE ACCIDENT -',\n",
       " 'fic: VEHICLE ACCIDENT -',\n",
       " ' DIZZINESS',\n",
       " ': GAS-ODOR/LEAK',\n",
       " ' SUBJECT IN PAIN',\n",
       " ': VEHICLE ACCIDENT',\n",
       " 'fic: VEHICLE ACCIDENT -',\n",
       " ' VEHICLE ACCIDENT',\n",
       " ' FEVER',\n",
       " ': VEHICLE ACCIDENT',\n",
       " 'fic: VEHICLE ACCIDENT -',\n",
       " ' SEIZURES',\n",
       " ' SUBJECT IN PAIN',\n",
       " ' GENERAL WEAKNESS',\n",
       " ' OVERDOSE',\n",
       " ' OVERDOSE',\n",
       " ' HEMORRHAGING',\n",
       " ' HEMORRHAGING',\n",
       " 'fic: DISABLED VEHICLE -',\n",
       " ': FIRE ALARM',\n",
       " ' RESPIRATORY EMERGENCY',\n",
       " ' CVA/STROKE',\n",
       " ' CARDIAC EMERGENCY',\n",
       " ' CARDIAC EMERGENCY',\n",
       " ' CARDIAC EMERGENCY',\n",
       " 'fic: DISABLED VEHICLE -',\n",
       " ' BACK PAINS/INJURY',\n",
       " ' FEVER',\n",
       " ' RESPIRATORY EMERGENCY',\n",
       " ' RESPIRATORY EMERGENCY',\n",
       " ' LACERATIONS',\n",
       " ' OVERDOSE',\n",
       " ' FALL VICTIM',\n",
       " ' NAUSEA/VOMITING',\n",
       " ' ASSAULT VICTIM',\n",
       " ' SUBJECT IN PAIN',\n",
       " ' UNCONSCIOUS SUBJECT',\n",
       " ': BUILDING FIRE',\n",
       " ': FIRE ALARM',\n",
       " ': BUILDING FIRE',\n",
       " ' RESPIRATORY EMERGENCY',\n",
       " ' SUBJECT IN PAIN',\n",
       " 'fic: VEHICLE ACCIDENT -',\n",
       " ' CARDIAC EMERGENCY',\n",
       " ' RESPIRATORY EMERGENCY',\n",
       " ' UNRESPONSIVE SUBJECT',\n",
       " ' SUBJECT IN PAIN',\n",
       " ' CVA/STROKE',\n",
       " ' FALL VICTIM',\n",
       " 'fic: VEHICLE ACCIDENT -',\n",
       " 'fic: VEHICLE ACCIDENT -',\n",
       " ' UNKNOWN MEDICAL EMERGENCY',\n",
       " 'fic: DISABLED VEHICLE -',\n",
       " 'fic: DISABLED VEHICLE -',\n",
       " ': ELECTRICAL FIRE OUTSIDE',\n",
       " ' CVA/STROKE',\n",
       " ' FALL VICTIM',\n",
       " ': GAS-ODOR/LEAK',\n",
       " ' ABDOMINAL PAINS',\n",
       " ' FALL VICTIM',\n",
       " 'fic: VEHICLE ACCIDENT -',\n",
       " ': GAS-ODOR/LEAK',\n",
       " ' ABDOMINAL PAINS',\n",
       " ' UNKNOWN MEDICAL EMERGENCY',\n",
       " ' HEAD INJURY',\n",
       " ': GAS-ODOR/LEAK',\n",
       " ' ALTERED MENTAL STATUS',\n",
       " ' GENERAL WEAKNESS',\n",
       " ' CARDIAC EMERGENCY',\n",
       " ' RESPIRATORY EMERGENCY',\n",
       " ' CARDIAC EMERGENCY',\n",
       " ' FRACTURE',\n",
       " ' SUBJECT IN PAIN',\n",
       " ' CARDIAC EMERGENCY',\n",
       " ' GENERAL WEAKNESS',\n",
       " 'fic: VEHICLE ACCIDENT -',\n",
       " ' SYNCOPAL EPISODE',\n",
       " 'fic: VEHICLE ACCIDENT -',\n",
       " ': FIRE ALARM',\n",
       " 'fic: VEHICLE ACCIDENT -',\n",
       " ' NAUSEA/VOMITING',\n",
       " ' MEDICAL ALERT ALARM',\n",
       " ' NAUSEA/VOMITING',\n",
       " ': FIRE ALARM',\n",
       " ' CARDIAC EMERGENCY',\n",
       " ': FIRE ALARM',\n",
       " ': FIRE ALARM',\n",
       " 'fic: VEHICLE ACCIDENT -',\n",
       " 'fic: HAZARDOUS ROAD CONDITIONS -',\n",
       " ': GAS-ODOR/LEAK',\n",
       " ' UNCONSCIOUS SUBJECT',\n",
       " ' ABDOMINAL PAINS',\n",
       " ' FEVER',\n",
       " ' SUBJECT IN PAIN',\n",
       " ...]"
      ]
     },
     "execution_count": 103,
     "metadata": {},
     "output_type": "execute_result"
    }
   ],
   "source": [
    "[i[4:] for i in df['title']]"
   ]
  },
  {
   "cell_type": "code",
   "execution_count": null,
   "metadata": {},
   "outputs": [],
   "source": []
  },
  {
   "cell_type": "code",
   "execution_count": null,
   "metadata": {},
   "outputs": [],
   "source": [
    "df['zip'].value_counts().to_frame()"
   ]
  },
  {
   "cell_type": "code",
   "execution_count": null,
   "metadata": {},
   "outputs": [],
   "source": [
    "df.dtypes[['timeStamp']]"
   ]
  },
  {
   "cell_type": "code",
   "execution_count": null,
   "metadata": {},
   "outputs": [],
   "source": [
    "new=pd.to_datetime(df['timeStamp'])\n",
    "new.dt.year\n",
    "new.dt.month\n",
    "new.dt.hour\n",
    "df['timeStamp']=new.dt.day\n",
    "df"
   ]
  },
  {
   "cell_type": "code",
   "execution_count": null,
   "metadata": {},
   "outputs": [],
   "source": [
    "df.describe()"
   ]
  },
  {
   "cell_type": "code",
   "execution_count": null,
   "metadata": {},
   "outputs": [],
   "source": [
    "df.describe(include='object')"
   ]
  },
  {
   "cell_type": "code",
   "execution_count": null,
   "metadata": {},
   "outputs": [],
   "source": [
    "df.head(1)"
   ]
  },
  {
   "cell_type": "code",
   "execution_count": null,
   "metadata": {},
   "outputs": [],
   "source": [
    "a=np.where(df.dtypes=='object')\n",
    "a"
   ]
  },
  {
   "cell_type": "code",
   "execution_count": null,
   "metadata": {},
   "outputs": [],
   "source": [
    "df.iloc[a].describe()"
   ]
  },
  {
   "cell_type": "code",
   "execution_count": null,
   "metadata": {},
   "outputs": [],
   "source": [
    "b=df.dtypes[df.dtypes=='object'].index\n",
    "df[b].describe()"
   ]
  },
  {
   "cell_type": "code",
   "execution_count": null,
   "metadata": {},
   "outputs": [],
   "source": [
    "df.head(1)"
   ]
  },
  {
   "cell_type": "code",
   "execution_count": null,
   "metadata": {},
   "outputs": [],
   "source": [
    "df['lat']=df['lat'].astype(int)"
   ]
  },
  {
   "cell_type": "code",
   "execution_count": null,
   "metadata": {},
   "outputs": [],
   "source": [
    "df.groupby('lat').count()"
   ]
  },
  {
   "cell_type": "code",
   "execution_count": null,
   "metadata": {},
   "outputs": [],
   "source": [
    "df.groupby('zip').describe()"
   ]
  },
  {
   "cell_type": "code",
   "execution_count": null,
   "metadata": {},
   "outputs": [],
   "source": [
    "df.head()"
   ]
  },
  {
   "cell_type": "code",
   "execution_count": null,
   "metadata": {},
   "outputs": [],
   "source": [
    " how many people are from same zip location"
   ]
  },
  {
   "cell_type": "code",
   "execution_count": null,
   "metadata": {},
   "outputs": [],
   "source": [
    "a=df[['desc','zip']]\n",
    "a.groupby(['desc','zip']).count()"
   ]
  },
  {
   "cell_type": "code",
   "execution_count": null,
   "metadata": {},
   "outputs": [],
   "source": []
  },
  {
   "cell_type": "code",
   "execution_count": null,
   "metadata": {},
   "outputs": [],
   "source": []
  },
  {
   "cell_type": "code",
   "execution_count": null,
   "metadata": {},
   "outputs": [],
   "source": []
  }
 ],
 "metadata": {
  "kernelspec": {
   "display_name": "Python 3",
   "language": "python",
   "name": "python3"
  }
 },
 "nbformat": 4,
 "nbformat_minor": 2
}
