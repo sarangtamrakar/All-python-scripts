{
 "cells": [
  {
   "cell_type": "code",
   "execution_count": 1,
   "metadata": {},
   "outputs": [],
   "source": [
    "import pandas as pd\n",
    "import numpy as np\n",
    "import matplotlib.pyplot as plt\n",
    "import seaborn as sns\n",
    "pd.set_option(\"display.max_columns\",None)"
   ]
  },
  {
   "cell_type": "code",
   "execution_count": 120,
   "metadata": {},
   "outputs": [],
   "source": [
    "df = pd.read_csv(r\"C:\\Users\\saran\\Documents\\BankChurners.csv\")"
   ]
  },
  {
   "cell_type": "code",
   "execution_count": 121,
   "metadata": {},
   "outputs": [
    {
     "data": {
      "text/plain": [
       "(10127, 23)"
      ]
     },
     "execution_count": 121,
     "metadata": {},
     "output_type": "execute_result"
    }
   ],
   "source": [
    "df.shape"
   ]
  },
  {
   "cell_type": "code",
   "execution_count": 122,
   "metadata": {},
   "outputs": [
    {
     "data": {
      "text/html": [
       "<div>\n",
       "<style scoped>\n",
       "    .dataframe tbody tr th:only-of-type {\n",
       "        vertical-align: middle;\n",
       "    }\n",
       "\n",
       "    .dataframe tbody tr th {\n",
       "        vertical-align: top;\n",
       "    }\n",
       "\n",
       "    .dataframe thead th {\n",
       "        text-align: right;\n",
       "    }\n",
       "</style>\n",
       "<table border=\"1\" class=\"dataframe\">\n",
       "  <thead>\n",
       "    <tr style=\"text-align: right;\">\n",
       "      <th></th>\n",
       "      <th>CLIENTNUM</th>\n",
       "      <th>Attrition_Flag</th>\n",
       "      <th>Customer_Age</th>\n",
       "      <th>Gender</th>\n",
       "      <th>Dependent_count</th>\n",
       "      <th>Education_Level</th>\n",
       "      <th>Marital_Status</th>\n",
       "      <th>Income_Category</th>\n",
       "      <th>Card_Category</th>\n",
       "      <th>Months_on_book</th>\n",
       "      <th>Total_Relationship_Count</th>\n",
       "      <th>Months_Inactive_12_mon</th>\n",
       "      <th>Contacts_Count_12_mon</th>\n",
       "      <th>Credit_Limit</th>\n",
       "      <th>Total_Revolving_Bal</th>\n",
       "      <th>Avg_Open_To_Buy</th>\n",
       "      <th>Total_Amt_Chng_Q4_Q1</th>\n",
       "      <th>Total_Trans_Amt</th>\n",
       "      <th>Total_Trans_Ct</th>\n",
       "      <th>Total_Ct_Chng_Q4_Q1</th>\n",
       "      <th>Avg_Utilization_Ratio</th>\n",
       "      <th>Naive_Bayes_Classifier_Attrition_Flag_Card_Category_Contacts_Count_12_mon_Dependent_count_Education_Level_Months_Inactive_12_mon_1</th>\n",
       "      <th>Naive_Bayes_Classifier_Attrition_Flag_Card_Category_Contacts_Count_12_mon_Dependent_count_Education_Level_Months_Inactive_12_mon_2</th>\n",
       "    </tr>\n",
       "  </thead>\n",
       "  <tbody>\n",
       "    <tr>\n",
       "      <th>0</th>\n",
       "      <td>768805383</td>\n",
       "      <td>Existing Customer</td>\n",
       "      <td>45</td>\n",
       "      <td>M</td>\n",
       "      <td>3</td>\n",
       "      <td>High School</td>\n",
       "      <td>Married</td>\n",
       "      <td>$60K - $80K</td>\n",
       "      <td>Blue</td>\n",
       "      <td>39</td>\n",
       "      <td>5</td>\n",
       "      <td>1</td>\n",
       "      <td>3</td>\n",
       "      <td>12691.0</td>\n",
       "      <td>777</td>\n",
       "      <td>11914.0</td>\n",
       "      <td>1.335</td>\n",
       "      <td>1144</td>\n",
       "      <td>42</td>\n",
       "      <td>1.625</td>\n",
       "      <td>0.061</td>\n",
       "      <td>0.000093</td>\n",
       "      <td>0.99991</td>\n",
       "    </tr>\n",
       "    <tr>\n",
       "      <th>1</th>\n",
       "      <td>818770008</td>\n",
       "      <td>Existing Customer</td>\n",
       "      <td>49</td>\n",
       "      <td>F</td>\n",
       "      <td>5</td>\n",
       "      <td>Graduate</td>\n",
       "      <td>Single</td>\n",
       "      <td>Less than $40K</td>\n",
       "      <td>Blue</td>\n",
       "      <td>44</td>\n",
       "      <td>6</td>\n",
       "      <td>1</td>\n",
       "      <td>2</td>\n",
       "      <td>8256.0</td>\n",
       "      <td>864</td>\n",
       "      <td>7392.0</td>\n",
       "      <td>1.541</td>\n",
       "      <td>1291</td>\n",
       "      <td>33</td>\n",
       "      <td>3.714</td>\n",
       "      <td>0.105</td>\n",
       "      <td>0.000057</td>\n",
       "      <td>0.99994</td>\n",
       "    </tr>\n",
       "    <tr>\n",
       "      <th>2</th>\n",
       "      <td>713982108</td>\n",
       "      <td>Existing Customer</td>\n",
       "      <td>51</td>\n",
       "      <td>M</td>\n",
       "      <td>3</td>\n",
       "      <td>Graduate</td>\n",
       "      <td>Married</td>\n",
       "      <td>$80K - $120K</td>\n",
       "      <td>Blue</td>\n",
       "      <td>36</td>\n",
       "      <td>4</td>\n",
       "      <td>1</td>\n",
       "      <td>0</td>\n",
       "      <td>3418.0</td>\n",
       "      <td>0</td>\n",
       "      <td>3418.0</td>\n",
       "      <td>2.594</td>\n",
       "      <td>1887</td>\n",
       "      <td>20</td>\n",
       "      <td>2.333</td>\n",
       "      <td>0.000</td>\n",
       "      <td>0.000021</td>\n",
       "      <td>0.99998</td>\n",
       "    </tr>\n",
       "    <tr>\n",
       "      <th>3</th>\n",
       "      <td>769911858</td>\n",
       "      <td>Existing Customer</td>\n",
       "      <td>40</td>\n",
       "      <td>F</td>\n",
       "      <td>4</td>\n",
       "      <td>High School</td>\n",
       "      <td>Unknown</td>\n",
       "      <td>Less than $40K</td>\n",
       "      <td>Blue</td>\n",
       "      <td>34</td>\n",
       "      <td>3</td>\n",
       "      <td>4</td>\n",
       "      <td>1</td>\n",
       "      <td>3313.0</td>\n",
       "      <td>2517</td>\n",
       "      <td>796.0</td>\n",
       "      <td>1.405</td>\n",
       "      <td>1171</td>\n",
       "      <td>20</td>\n",
       "      <td>2.333</td>\n",
       "      <td>0.760</td>\n",
       "      <td>0.000134</td>\n",
       "      <td>0.99987</td>\n",
       "    </tr>\n",
       "    <tr>\n",
       "      <th>4</th>\n",
       "      <td>709106358</td>\n",
       "      <td>Existing Customer</td>\n",
       "      <td>40</td>\n",
       "      <td>M</td>\n",
       "      <td>3</td>\n",
       "      <td>Uneducated</td>\n",
       "      <td>Married</td>\n",
       "      <td>$60K - $80K</td>\n",
       "      <td>Blue</td>\n",
       "      <td>21</td>\n",
       "      <td>5</td>\n",
       "      <td>1</td>\n",
       "      <td>0</td>\n",
       "      <td>4716.0</td>\n",
       "      <td>0</td>\n",
       "      <td>4716.0</td>\n",
       "      <td>2.175</td>\n",
       "      <td>816</td>\n",
       "      <td>28</td>\n",
       "      <td>2.500</td>\n",
       "      <td>0.000</td>\n",
       "      <td>0.000022</td>\n",
       "      <td>0.99998</td>\n",
       "    </tr>\n",
       "  </tbody>\n",
       "</table>\n",
       "</div>"
      ],
      "text/plain": [
       "   CLIENTNUM     Attrition_Flag  Customer_Age Gender  Dependent_count  \\\n",
       "0  768805383  Existing Customer            45      M                3   \n",
       "1  818770008  Existing Customer            49      F                5   \n",
       "2  713982108  Existing Customer            51      M                3   \n",
       "3  769911858  Existing Customer            40      F                4   \n",
       "4  709106358  Existing Customer            40      M                3   \n",
       "\n",
       "  Education_Level Marital_Status Income_Category Card_Category  \\\n",
       "0     High School        Married     $60K - $80K          Blue   \n",
       "1        Graduate         Single  Less than $40K          Blue   \n",
       "2        Graduate        Married    $80K - $120K          Blue   \n",
       "3     High School        Unknown  Less than $40K          Blue   \n",
       "4      Uneducated        Married     $60K - $80K          Blue   \n",
       "\n",
       "   Months_on_book  Total_Relationship_Count  Months_Inactive_12_mon  \\\n",
       "0              39                         5                       1   \n",
       "1              44                         6                       1   \n",
       "2              36                         4                       1   \n",
       "3              34                         3                       4   \n",
       "4              21                         5                       1   \n",
       "\n",
       "   Contacts_Count_12_mon  Credit_Limit  Total_Revolving_Bal  Avg_Open_To_Buy  \\\n",
       "0                      3       12691.0                  777          11914.0   \n",
       "1                      2        8256.0                  864           7392.0   \n",
       "2                      0        3418.0                    0           3418.0   \n",
       "3                      1        3313.0                 2517            796.0   \n",
       "4                      0        4716.0                    0           4716.0   \n",
       "\n",
       "   Total_Amt_Chng_Q4_Q1  Total_Trans_Amt  Total_Trans_Ct  Total_Ct_Chng_Q4_Q1  \\\n",
       "0                 1.335             1144              42                1.625   \n",
       "1                 1.541             1291              33                3.714   \n",
       "2                 2.594             1887              20                2.333   \n",
       "3                 1.405             1171              20                2.333   \n",
       "4                 2.175              816              28                2.500   \n",
       "\n",
       "   Avg_Utilization_Ratio  \\\n",
       "0                  0.061   \n",
       "1                  0.105   \n",
       "2                  0.000   \n",
       "3                  0.760   \n",
       "4                  0.000   \n",
       "\n",
       "   Naive_Bayes_Classifier_Attrition_Flag_Card_Category_Contacts_Count_12_mon_Dependent_count_Education_Level_Months_Inactive_12_mon_1  \\\n",
       "0                                           0.000093                                                                                    \n",
       "1                                           0.000057                                                                                    \n",
       "2                                           0.000021                                                                                    \n",
       "3                                           0.000134                                                                                    \n",
       "4                                           0.000022                                                                                    \n",
       "\n",
       "   Naive_Bayes_Classifier_Attrition_Flag_Card_Category_Contacts_Count_12_mon_Dependent_count_Education_Level_Months_Inactive_12_mon_2  \n",
       "0                                            0.99991                                                                                   \n",
       "1                                            0.99994                                                                                   \n",
       "2                                            0.99998                                                                                   \n",
       "3                                            0.99987                                                                                   \n",
       "4                                            0.99998                                                                                   "
      ]
     },
     "execution_count": 122,
     "metadata": {},
     "output_type": "execute_result"
    }
   ],
   "source": [
    "df.head()"
   ]
  },
  {
   "cell_type": "markdown",
   "metadata": {},
   "source": [
    "##### CHECKING NULL VALUES"
   ]
  },
  {
   "cell_type": "code",
   "execution_count": 123,
   "metadata": {},
   "outputs": [
    {
     "data": {
      "text/plain": [
       "CLIENTNUM                                                                                                                             0\n",
       "Attrition_Flag                                                                                                                        0\n",
       "Customer_Age                                                                                                                          0\n",
       "Gender                                                                                                                                0\n",
       "Dependent_count                                                                                                                       0\n",
       "Education_Level                                                                                                                       0\n",
       "Marital_Status                                                                                                                        0\n",
       "Income_Category                                                                                                                       0\n",
       "Card_Category                                                                                                                         0\n",
       "Months_on_book                                                                                                                        0\n",
       "Total_Relationship_Count                                                                                                              0\n",
       "Months_Inactive_12_mon                                                                                                                0\n",
       "Contacts_Count_12_mon                                                                                                                 0\n",
       "Credit_Limit                                                                                                                          0\n",
       "Total_Revolving_Bal                                                                                                                   0\n",
       "Avg_Open_To_Buy                                                                                                                       0\n",
       "Total_Amt_Chng_Q4_Q1                                                                                                                  0\n",
       "Total_Trans_Amt                                                                                                                       0\n",
       "Total_Trans_Ct                                                                                                                        0\n",
       "Total_Ct_Chng_Q4_Q1                                                                                                                   0\n",
       "Avg_Utilization_Ratio                                                                                                                 0\n",
       "Naive_Bayes_Classifier_Attrition_Flag_Card_Category_Contacts_Count_12_mon_Dependent_count_Education_Level_Months_Inactive_12_mon_1    0\n",
       "Naive_Bayes_Classifier_Attrition_Flag_Card_Category_Contacts_Count_12_mon_Dependent_count_Education_Level_Months_Inactive_12_mon_2    0\n",
       "dtype: int64"
      ]
     },
     "execution_count": 123,
     "metadata": {},
     "output_type": "execute_result"
    }
   ],
   "source": [
    "df.isnull().sum()"
   ]
  },
  {
   "cell_type": "markdown",
   "metadata": {},
   "source": [
    "##### there is not any missning values"
   ]
  },
  {
   "cell_type": "markdown",
   "metadata": {},
   "source": [
    "##### checking the distribution"
   ]
  },
  {
   "cell_type": "code",
   "execution_count": 29,
   "metadata": {},
   "outputs": [
    {
     "data": {
      "image/png": "[encoded data removed]",
      "text/plain": [
       "<Figure size 1440x1440 with 20 Axes>"
      ]
     },
     "metadata": {
      "needs_background": "light"
     },
     "output_type": "display_data"
    }
   ],
   "source": [
    "_=df.hist(figsize=(20,20))"
   ]
  },
  {
   "cell_type": "code",
   "execution_count": 124,
   "metadata": {},
   "outputs": [
    {
     "name": "stdout",
     "output_type": "stream",
     "text": [
      "17\n",
      "6\n",
      "4\n"
     ]
    }
   ],
   "source": [
    "# DIVINDING THE COLUMNS ACCORDING TO THE DATA TYPES\n",
    "\n",
    "num_cols = [col for col in df.columns if df[col].dtypes != \"O\"]\n",
    "cat_cols = [col for col in df.columns if df[col].dtypes == \"O\"]\n",
    "discreate_cols = [col for col in num_cols if df[col].nunique()<25]\n",
    "print(len(num_cols))\n",
    "print(len(cat_cols))\n",
    "print(len(discreate_cols))"
   ]
  },
  {
   "cell_type": "code",
   "execution_count": 125,
   "metadata": {},
   "outputs": [
    {
     "name": "stdout",
     "output_type": "stream",
     "text": [
      "DISCRETE COLUMNS+++++++++++ \n",
      "\n",
      "\n",
      "Dependent_count [3 5 4 2 0 1] \n",
      "\n",
      "\n",
      "Total_Relationship_Count [5 6 4 3 2 1] \n",
      "\n",
      "\n",
      "Months_Inactive_12_mon [1 4 2 3 6 0 5] \n",
      "\n",
      "\n",
      "Contacts_Count_12_mon [3 2 0 1 4 5 6] \n",
      "\n",
      "\n",
      "cat columns COLUMNS_++++++++++++++++++++++  \n",
      "\n",
      "\n",
      "Attrition_Flag 2 \n",
      "\n",
      "Gender 2 \n",
      "\n",
      "Education_Level 7 \n",
      "\n",
      "Marital_Status 4 \n",
      "\n",
      "Income_Category 6 \n",
      "\n",
      "Card_Category 4 \n",
      "\n"
     ]
    }
   ],
   "source": [
    "### checkin the nunique values of discreate columns\n",
    "print(\"DISCRETE COLUMNS+++++++++++\" ,\"\\n\\n\")\n",
    "for col in discreate_cols:\n",
    "    uni = df[col].unique()\n",
    "    print(col,uni,\"\\n\\n\")\n",
    "\n",
    "#### checking the unique values of categorial columns\n",
    "print(\"cat columns COLUMNS_++++++++++++++++++++++ \",\"\\n\\n\")\n",
    "for col in cat_cols:\n",
    "    uni = df[col].nunique()\n",
    "    print(col,uni,\"\\n\")"
   ]
  },
  {
   "cell_type": "code",
   "execution_count": 127,
   "metadata": {},
   "outputs": [],
   "source": [
    "##### ENCODING THE CAT COLUMNS:\n",
    "education = {\"Unknown\":0,\"Uneducated\":1,\"High School\":2,\"College\":3,\"Graduate\":4,\"Post-Graduate\":5,\"Doctorate\":6}\n",
    "df[\"Education_Level\"] = df[\"Education_Level\"].map(education)\n",
    "\n",
    "\n",
    "marital = {\"Unknown\":0,\"Single\":1,\"Married\":2,\"Divorced\":3}\n",
    "df[\"Marital_Status\"] = df[\"Marital_Status\"].map(marital)\n",
    "\n",
    "\n",
    "income = {\"Unknown\":0,\"Less than $40K\":1,\"$40K - $60K\":2,\"$60K - $80K\":3,\"$80K - $120K\":4,\"$120K +\":5}\n",
    "df[\"Income_Category\"] = df[\"Income_Category\"].map(income)\n",
    "\n",
    "\n",
    "card = {\"Blue\":0,\"Silver\":1,\"Gold\":2,\"Platinum\":3}\n",
    "df[\"Card_Category\"] = df[\"Card_Category\"].map(card)\n",
    "\n",
    "df[\"Attrition_Flag\"] = df[\"Attrition_Flag\"].map({\"Existing Customer\":0,\"Attrited Customer\":1})\n",
    "\n",
    "df[\"Gender\"] = df[\"Gender\"].map({\"M\":0,\"F\":1})"
   ]
  },
  {
   "cell_type": "code",
   "execution_count": null,
   "metadata": {},
   "outputs": [],
   "source": []
  },
  {
   "cell_type": "code",
   "execution_count": 183,
   "metadata": {},
   "outputs": [],
   "source": [
    "from sklearn.ensemble import RandomForestClassifier"
   ]
  },
  {
   "cell_type": "code",
   "execution_count": 184,
   "metadata": {},
   "outputs": [],
   "source": [
    "x = df.drop([\"Dependent_count\",\"CLIENTNUM\"],axis=1)\n",
    "y = df[\"Dependent_count\"]"
   ]
  },
  {
   "cell_type": "code",
   "execution_count": 185,
   "metadata": {},
   "outputs": [],
   "source": [
    "from sklearn.model_selection import train_test_split\n",
    "from sklearn.metrics import classification_report,confusion_matrix,plot_confusion_matrix,roc_curve\n",
    "from xgboost import XGBClassifier,XGBRFClassifier"
   ]
  },
  {
   "cell_type": "code",
   "execution_count": 186,
   "metadata": {},
   "outputs": [],
   "source": [
    "xtrain,xtest,ytrain,ytest = train_test_split(x,y,random_state=23)"
   ]
  },
  {
   "cell_type": "code",
   "execution_count": 198,
   "metadata": {},
   "outputs": [
    {
     "name": "stderr",
     "output_type": "stream",
     "text": [
      "C:\\ProgramData\\Anaconda3\\lib\\site-packages\\xgboost\\sklearn.py:892: UserWarning: The use of label encoder in XGBClassifier is deprecated and will be removed in a future release. To remove this warning, do the following: 1) Pass option use_label_encoder=False when constructing XGBClassifier object; and 2) Encode your labels (y) as integers starting with 0, i.e. 0, 1, 2, ..., [num_class - 1].\n",
      "  warnings.warn(label_encoder_deprecation_msg, UserWarning)\n"
     ]
    },
    {
     "name": "stdout",
     "output_type": "stream",
     "text": [
      "[12:06:06] WARNING: C:/Users/Administrator/workspace/xgboost-win64_release_1.3.0/src/learner.cc:1061: Starting in XGBoost 1.3.0, the default evaluation metric used with the objective 'multi:softprob' was changed from 'merror' to 'mlogloss'. Explicitly set eval_metric if you'd like to restore the old behavior.\n",
      "              precision    recall  f1-score   support\n",
      "\n",
      "           0       1.00      1.00      1.00       678\n",
      "           1       1.00      1.00      1.00      1387\n",
      "           2       0.99      0.99      0.99      1983\n",
      "           3       0.98      1.00      0.99      2101\n",
      "           4       1.00      0.98      0.99      1134\n",
      "           5       1.00      0.98      0.99       312\n",
      "\n",
      "    accuracy                           0.99      7595\n",
      "   macro avg       0.99      0.99      0.99      7595\n",
      "weighted avg       0.99      0.99      0.99      7595\n",
      "\n",
      "[[ 678    0    0    0    0    0]\n",
      " [   0 1381    2    4    0    0]\n",
      " [   0    0 1966   14    3    0]\n",
      " [   0    0    3 2098    0    0]\n",
      " [   0    1    7   19 1107    0]\n",
      " [   0    0    2    5    0  305]]\n",
      "0.9999413653283128\n"
     ]
    }
   ],
   "source": [
    "logit = XGBClassifier()\n",
    "logit.fit(xtrain,ytrain)\n",
    "\n",
    "ypred = logit.predict(xtrain)\n",
    "ypred_proba = logit.predict_proba(xtrain)\n",
    "print(classification_report(ytrain,ypred))\n",
    "print(confusion_matrix(ytrain,ypred))\n",
    "print(roc_auc_score(ytrain,ypred_proba,multi_class='ovr'))"
   ]
  },
  {
   "cell_type": "code",
   "execution_count": null,
   "metadata": {},
   "outputs": [],
   "source": [
    "ypred = logit.predict(xtrai)\n",
    "ypred_proba = logit.predict_proba(xtrain)\n",
    "print(classification_report(ytrain,ypred))\n",
    "print(confusion_matrix(ytrain,ypred))\n",
    "print(roc_auc_score(ytrain,ypred_proba,multi_class='ovr')"
   ]
  },
  {
   "cell_type": "markdown",
   "metadata": {},
   "source": [
    "### Oversampling"
   ]
  },
  {
   "cell_type": "code",
   "execution_count": 182,
   "metadata": {},
   "outputs": [],
   "source": [
    "from imblearn.over_sampling import RandomOverSampler\n",
    "from imblearn.under_sampling import NearMiss"
   ]
  },
  {
   "cell_type": "code",
   "execution_count": 187,
   "metadata": {},
   "outputs": [],
   "source": [
    "os = RandomOverSampler()\n",
    "xtrain_os,ytrain_os = os.fit_sample(xtrain,ytrain)"
   ]
  },
  {
   "cell_type": "code",
   "execution_count": 199,
   "metadata": {},
   "outputs": [
    {
     "name": "stderr",
     "output_type": "stream",
     "text": [
      "C:\\ProgramData\\Anaconda3\\lib\\site-packages\\xgboost\\sklearn.py:892: UserWarning: The use of label encoder in XGBClassifier is deprecated and will be removed in a future release. To remove this warning, do the following: 1) Pass option use_label_encoder=False when constructing XGBClassifier object; and 2) Encode your labels (y) as integers starting with 0, i.e. 0, 1, 2, ..., [num_class - 1].\n",
      "  warnings.warn(label_encoder_deprecation_msg, UserWarning)\n"
     ]
    },
    {
     "name": "stdout",
     "output_type": "stream",
     "text": [
      "[12:07:16] WARNING: C:/Users/Administrator/workspace/xgboost-win64_release_1.3.0/src/learner.cc:1061: Starting in XGBoost 1.3.0, the default evaluation metric used with the objective 'multi:softprob' was changed from 'merror' to 'mlogloss'. Explicitly set eval_metric if you'd like to restore the old behavior.\n",
      "              precision    recall  f1-score   support\n",
      "\n",
      "           0       1.00      1.00      1.00       678\n",
      "           1       1.00      0.99      1.00      1387\n",
      "           2       0.99      0.99      0.99      1983\n",
      "           3       0.99      0.99      0.99      2101\n",
      "           4       0.98      0.99      0.99      1134\n",
      "           5       0.97      1.00      0.98       312\n",
      "\n",
      "    accuracy                           0.99      7595\n",
      "   macro avg       0.99      0.99      0.99      7595\n",
      "weighted avg       0.99      0.99      0.99      7595\n",
      "\n",
      "[[ 678    0    0    0    0    0]\n",
      " [   0 1377    1    7    1    1]\n",
      " [   0    1 1959   13    9    1]\n",
      " [   0    0    5 2081    8    7]\n",
      " [   0    0    5    8 1119    2]\n",
      " [   0    0    0    0    0  312]]\n",
      "0.9998494399577158\n"
     ]
    }
   ],
   "source": [
    "logit = XGBClassifier()\n",
    "logit.fit(xtrain_os,ytrain_os)\n",
    "\n",
    "ypred = logit.predict(xtrain)\n",
    "ypred_proba = logit.predict_proba(xtrain)\n",
    "print(classification_report(ytrain,ypred))\n",
    "print(confusion_matrix(ytrain,ypred))\n",
    "print(roc_auc_score(ytrain,ypred_proba,multi_class='ovr'))"
   ]
  },
  {
   "cell_type": "code",
   "execution_count": 200,
   "metadata": {},
   "outputs": [
    {
     "name": "stdout",
     "output_type": "stream",
     "text": [
      "              precision    recall  f1-score   support\n",
      "\n",
      "           0       0.83      0.78      0.80       226\n",
      "           1       0.84      0.80      0.82       451\n",
      "           2       0.82      0.83      0.83       672\n",
      "           3       0.72      0.82      0.77       631\n",
      "           4       0.72      0.69      0.70       440\n",
      "           5       0.32      0.20      0.24       112\n",
      "\n",
      "    accuracy                           0.76      2532\n",
      "   macro avg       0.71      0.69      0.69      2532\n",
      "weighted avg       0.76      0.76      0.76      2532\n",
      "\n",
      "[[177  24   9  12   3   1]\n",
      " [ 23 359  27  28  11   3]\n",
      " [ 14  19 555  46  32   6]\n",
      " [  0  16  32 520  45  18]\n",
      " [  0   8  35  76 302  19]\n",
      " [  0   3  15  44  28  22]]\n",
      "0.918613372709578\n"
     ]
    }
   ],
   "source": [
    "ypred = logit.predict(xtest)\n",
    "ypred_proba = logit.predict_proba(xtest)\n",
    "print(classification_report(ytest,ypred))\n",
    "print(confusion_matrix(ytest,ypred))\n",
    "print(roc_auc_score(ytest,ypred_proba,multi_class='ovr'))"
   ]
  },
  {
   "cell_type": "code",
   "execution_count": null,
   "metadata": {},
   "outputs": [],
   "source": []
  },
  {
   "cell_type": "code",
   "execution_count": null,
   "metadata": {},
   "outputs": [],
   "source": []
  },
  {
   "cell_type": "code",
   "execution_count": null,
   "metadata": {},
   "outputs": [],
   "source": []
  }
 ],
 "metadata": {
  "kernelspec": {
   "display_name": "Python 3",
   "language": "python",
   "name": "python3"
  },
  "language_info": {
   "codemirror_mode": {
    "name": "ipython",
    "version": 3
   },
   "file_extension": ".py",
   "mimetype": "text/x-python",
   "name": "python",
   "nbconvert_exporter": "python",
   "pygments_lexer": "ipython3",
   "version": "3.8.5"
  }
 },
 "nbformat": 4,
 "nbformat_minor": 4
}
