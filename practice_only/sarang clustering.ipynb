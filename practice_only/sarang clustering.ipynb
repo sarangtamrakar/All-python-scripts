{
 "cells": [
  {
   "cell_type": "code",
   "execution_count": 183,
   "metadata": {},
   "outputs": [],
   "source": [
    "dataset=pd.read_csv(r'C:\\Users\\saran\\Documents\\INEURON\\MACHINE_LEARNING\\clustering-20201009T085837Z-001\\clustering\\Mall_Customers.csv')"
   ]
  },
  {
   "cell_type": "code",
   "execution_count": 184,
   "metadata": {},
   "outputs": [],
   "source": [
    "import numpy as np\n",
    "import pandas as pd\n",
    "import matplotlib.pyplot as plt\n",
    "import seaborn as sns\n",
    "from sklearn.cluster import AgglomerativeClustering,DBSCAN,KMeans\n",
    "from sklearn.metrics import homogeneity_score,jaccard_score,silhouette_score\n",
    "plt.style.use('fivethirtyeight')\n",
    "from scipy.spatial import distance_matrix\n",
    "from scipy.spatial.distance import cdist\n",
    "from scipy.cluster.hierarchy import dendrogram,linkage"
   ]
  },
  {
   "cell_type": "code",
   "execution_count": 185,
   "metadata": {},
   "outputs": [
    {
     "data": {
      "text/plain": [
       "array([[0.01923077, 0.        , 0.3877551 ],\n",
       "       [0.05769231, 0.        , 0.81632653],\n",
       "       [0.03846154, 0.00819672, 0.05102041],\n",
       "       [0.09615385, 0.00819672, 0.7755102 ],\n",
       "       [0.25      , 0.01639344, 0.39795918],\n",
       "       [0.07692308, 0.01639344, 0.76530612],\n",
       "       [0.32692308, 0.02459016, 0.05102041],\n",
       "       [0.09615385, 0.02459016, 0.94897959],\n",
       "       [0.88461538, 0.03278689, 0.02040816],\n",
       "       [0.23076923, 0.03278689, 0.7244898 ],\n",
       "       [0.94230769, 0.03278689, 0.13265306],\n",
       "       [0.32692308, 0.03278689, 1.        ],\n",
       "       [0.76923077, 0.04098361, 0.14285714],\n",
       "       [0.11538462, 0.04098361, 0.7755102 ],\n",
       "       [0.36538462, 0.04098361, 0.12244898],\n",
       "       [0.07692308, 0.04098361, 0.79591837],\n",
       "       [0.32692308, 0.04918033, 0.34693878],\n",
       "       [0.03846154, 0.04918033, 0.66326531],\n",
       "       [0.65384615, 0.06557377, 0.28571429],\n",
       "       [0.32692308, 0.06557377, 0.98979592],\n",
       "       [0.32692308, 0.07377049, 0.34693878],\n",
       "       [0.13461538, 0.07377049, 0.73469388],\n",
       "       [0.53846154, 0.08196721, 0.04081633],\n",
       "       [0.25      , 0.08196721, 0.73469388],\n",
       "       [0.69230769, 0.10655738, 0.13265306],\n",
       "       [0.21153846, 0.10655738, 0.82653061],\n",
       "       [0.51923077, 0.10655738, 0.31632653],\n",
       "       [0.32692308, 0.10655738, 0.6122449 ],\n",
       "       [0.42307692, 0.1147541 , 0.30612245],\n",
       "       [0.09615385, 0.1147541 , 0.87755102],\n",
       "       [0.80769231, 0.12295082, 0.03061224],\n",
       "       [0.05769231, 0.12295082, 0.73469388],\n",
       "       [0.67307692, 0.14754098, 0.03061224],\n",
       "       [0.        , 0.14754098, 0.92857143],\n",
       "       [0.59615385, 0.14754098, 0.13265306],\n",
       "       [0.05769231, 0.14754098, 0.81632653],\n",
       "       [0.46153846, 0.1557377 , 0.16326531],\n",
       "       [0.23076923, 0.1557377 , 0.73469388],\n",
       "       [0.34615385, 0.18032787, 0.25510204],\n",
       "       [0.03846154, 0.18032787, 0.75510204],\n",
       "       [0.90384615, 0.18852459, 0.34693878],\n",
       "       [0.11538462, 0.18852459, 0.92857143],\n",
       "       [0.57692308, 0.19672131, 0.35714286],\n",
       "       [0.25      , 0.19672131, 0.6122449 ],\n",
       "       [0.59615385, 0.19672131, 0.2755102 ],\n",
       "       [0.11538462, 0.19672131, 0.65306122],\n",
       "       [0.61538462, 0.20491803, 0.55102041],\n",
       "       [0.17307692, 0.20491803, 0.46938776],\n",
       "       [0.21153846, 0.20491803, 0.41836735],\n",
       "       [0.25      , 0.20491803, 0.41836735],\n",
       "       [0.59615385, 0.22131148, 0.52040816],\n",
       "       [0.28846154, 0.22131148, 0.60204082],\n",
       "       [0.25      , 0.2295082 , 0.54081633],\n",
       "       [0.78846154, 0.2295082 , 0.60204082],\n",
       "       [0.61538462, 0.2295082 , 0.44897959],\n",
       "       [0.55769231, 0.2295082 , 0.40816327],\n",
       "       [0.63461538, 0.23770492, 0.5       ],\n",
       "       [0.98076923, 0.23770492, 0.45918367],\n",
       "       [0.17307692, 0.25409836, 0.51020408],\n",
       "       [0.67307692, 0.25409836, 0.45918367],\n",
       "       [1.        , 0.25409836, 0.56122449],\n",
       "       [0.01923077, 0.25409836, 0.55102041],\n",
       "       [0.94230769, 0.26229508, 0.52040816],\n",
       "       [0.69230769, 0.26229508, 0.59183673],\n",
       "       [0.86538462, 0.2704918 , 0.51020408],\n",
       "       [0.        , 0.2704918 , 0.59183673],\n",
       "       [0.48076923, 0.2704918 , 0.5       ],\n",
       "       [0.96153846, 0.2704918 , 0.47959184],\n",
       "       [0.01923077, 0.2704918 , 0.59183673],\n",
       "       [0.26923077, 0.2704918 , 0.46938776],\n",
       "       [1.        , 0.27868852, 0.55102041],\n",
       "       [0.55769231, 0.27868852, 0.41836735],\n",
       "       [0.80769231, 0.28688525, 0.48979592],\n",
       "       [0.80769231, 0.28688525, 0.56122449],\n",
       "       [0.78846154, 0.31967213, 0.46938776],\n",
       "       [0.15384615, 0.31967213, 0.54081633],\n",
       "       [0.51923077, 0.31967213, 0.53061224],\n",
       "       [0.42307692, 0.31967213, 0.47959184],\n",
       "       [0.09615385, 0.31967213, 0.52040816],\n",
       "       [0.59615385, 0.31967213, 0.41836735],\n",
       "       [0.75      , 0.31967213, 0.51020408],\n",
       "       [0.38461538, 0.31967213, 0.55102041],\n",
       "       [0.94230769, 0.31967213, 0.40816327],\n",
       "       [0.53846154, 0.31967213, 0.43877551],\n",
       "       [0.05769231, 0.31967213, 0.57142857],\n",
       "       [0.57692308, 0.31967213, 0.45918367],\n",
       "       [0.71153846, 0.3442623 , 0.58163265],\n",
       "       [0.07692308, 0.3442623 , 0.55102041],\n",
       "       [0.30769231, 0.35245902, 0.60204082],\n",
       "       [0.61538462, 0.35245902, 0.45918367],\n",
       "       [0.96153846, 0.36065574, 0.55102041],\n",
       "       [0.        , 0.36065574, 0.40816327],\n",
       "       [0.57692308, 0.36885246, 0.48979592],\n",
       "       [0.42307692, 0.36885246, 0.39795918],\n",
       "       [0.26923077, 0.36885246, 0.41836735],\n",
       "       [0.11538462, 0.36885246, 0.52040816],\n",
       "       [0.55769231, 0.36885246, 0.46938776],\n",
       "       [0.17307692, 0.36885246, 0.5       ],\n",
       "       [0.57692308, 0.37704918, 0.41836735],\n",
       "       [0.03846154, 0.37704918, 0.48979592],\n",
       "       [0.09615385, 0.3852459 , 0.40816327],\n",
       "       [0.59615385, 0.3852459 , 0.47959184],\n",
       "       [0.94230769, 0.3852459 , 0.59183673],\n",
       "       [0.15384615, 0.3852459 , 0.55102041],\n",
       "       [0.59615385, 0.3852459 , 0.56122449],\n",
       "       [0.05769231, 0.3852459 , 0.41836735],\n",
       "       [0.92307692, 0.39344262, 0.5       ],\n",
       "       [0.69230769, 0.39344262, 0.45918367],\n",
       "       [0.96153846, 0.39344262, 0.42857143],\n",
       "       [0.92307692, 0.39344262, 0.47959184],\n",
       "       [0.90384615, 0.39344262, 0.52040816],\n",
       "       [0.01923077, 0.39344262, 0.54081633],\n",
       "       [0.38461538, 0.40163934, 0.41836735],\n",
       "       [0.01923077, 0.40163934, 0.45918367],\n",
       "       [0.        , 0.40983607, 0.47959184],\n",
       "       [0.01923077, 0.40983607, 0.5       ],\n",
       "       [0.86538462, 0.40983607, 0.42857143],\n",
       "       [0.59615385, 0.40983607, 0.59183673],\n",
       "       [0.63461538, 0.42622951, 0.42857143],\n",
       "       [0.61538462, 0.42622951, 0.57142857],\n",
       "       [0.17307692, 0.42622951, 0.56122449],\n",
       "       [0.38461538, 0.42622951, 0.39795918],\n",
       "       [0.42307692, 0.44262295, 0.58163265],\n",
       "       [0.40384615, 0.44262295, 0.91836735],\n",
       "       [0.09615385, 0.45081967, 0.28571429],\n",
       "       [0.25      , 0.45081967, 0.7755102 ],\n",
       "       [0.48076923, 0.45901639, 0.34693878],\n",
       "       [0.42307692, 0.45901639, 0.95918367],\n",
       "       [0.78846154, 0.45901639, 0.10204082],\n",
       "       [0.38461538, 0.45901639, 0.75510204],\n",
       "       [0.55769231, 0.45901639, 0.08163265],\n",
       "       [0.40384615, 0.45901639, 0.75510204],\n",
       "       [0.13461538, 0.46721311, 0.33673469],\n",
       "       [0.25      , 0.46721311, 0.71428571],\n",
       "       [0.03846154, 0.47540984, 0.04081633],\n",
       "       [0.21153846, 0.47540984, 0.8877551 ],\n",
       "       [0.5       , 0.47540984, 0.06122449],\n",
       "       [0.26923077, 0.47540984, 0.73469388],\n",
       "       [0.01923077, 0.48360656, 0.09183673],\n",
       "       [0.32692308, 0.48360656, 0.7244898 ],\n",
       "       [0.75      , 0.49180328, 0.04081633],\n",
       "       [0.26923077, 0.49180328, 0.93877551],\n",
       "       [0.19230769, 0.5       , 0.39795918],\n",
       "       [0.26923077, 0.5       , 0.87755102],\n",
       "       [0.13461538, 0.50819672, 0.1122449 ],\n",
       "       [0.19230769, 0.50819672, 0.97959184],\n",
       "       [0.57692308, 0.50819672, 0.35714286],\n",
       "       [0.26923077, 0.50819672, 0.74489796],\n",
       "       [0.30769231, 0.51639344, 0.21428571],\n",
       "       [0.30769231, 0.51639344, 0.90816327],\n",
       "       [0.48076923, 0.51639344, 0.16326531],\n",
       "       [0.40384615, 0.51639344, 0.8877551 ],\n",
       "       [0.5       , 0.51639344, 0.19387755],\n",
       "       [0.38461538, 0.51639344, 0.76530612],\n",
       "       [0.55769231, 0.51639344, 0.15306122],\n",
       "       [0.17307692, 0.51639344, 0.89795918],\n",
       "       [0.36538462, 0.51639344, 0.        ],\n",
       "       [0.23076923, 0.51639344, 0.78571429],\n",
       "       [0.30769231, 0.51639344, 0.        ],\n",
       "       [0.23076923, 0.51639344, 0.73469388],\n",
       "       [0.73076923, 0.52459016, 0.34693878],\n",
       "       [0.21153846, 0.52459016, 0.83673469],\n",
       "       [0.01923077, 0.54098361, 0.04081633],\n",
       "       [0.25      , 0.54098361, 0.93877551],\n",
       "       [0.61538462, 0.57377049, 0.25510204],\n",
       "       [0.34615385, 0.57377049, 0.75510204],\n",
       "       [0.46153846, 0.58196721, 0.19387755],\n",
       "       [0.28846154, 0.58196721, 0.95918367],\n",
       "       [0.34615385, 0.59016393, 0.26530612],\n",
       "       [0.26923077, 0.59016393, 0.63265306],\n",
       "       [0.42307692, 0.59016393, 0.12244898],\n",
       "       [0.19230769, 0.59016393, 0.75510204],\n",
       "       [0.34615385, 0.59016393, 0.09183673],\n",
       "       [0.34615385, 0.59016393, 0.92857143],\n",
       "       [0.65384615, 0.59836066, 0.12244898],\n",
       "       [0.23076923, 0.59836066, 0.86734694],\n",
       "       [0.76923077, 0.59836066, 0.14285714],\n",
       "       [0.17307692, 0.59836066, 0.69387755],\n",
       "       [0.78846154, 0.63934426, 0.13265306],\n",
       "       [0.32692308, 0.63934426, 0.90816327],\n",
       "       [0.36538462, 0.67213115, 0.31632653],\n",
       "       [0.26923077, 0.67213115, 0.86734694],\n",
       "       [0.53846154, 0.68032787, 0.14285714],\n",
       "       [0.21153846, 0.68032787, 0.8877551 ],\n",
       "       [0.44230769, 0.68852459, 0.3877551 ],\n",
       "       [0.23076923, 0.68852459, 0.97959184],\n",
       "       [0.69230769, 0.70491803, 0.23469388],\n",
       "       [0.19230769, 0.70491803, 0.68367347],\n",
       "       [0.44230769, 0.72131148, 0.16326531],\n",
       "       [0.34615385, 0.72131148, 0.85714286],\n",
       "       [0.30769231, 0.72131148, 0.2244898 ],\n",
       "       [0.26923077, 0.72131148, 0.69387755],\n",
       "       [0.28846154, 0.80327869, 0.07142857],\n",
       "       [0.38461538, 0.80327869, 0.91836735],\n",
       "       [0.55769231, 0.86065574, 0.15306122],\n",
       "       [0.32692308, 0.86065574, 0.79591837],\n",
       "       [0.51923077, 0.90983607, 0.2755102 ],\n",
       "       [0.26923077, 0.90983607, 0.74489796],\n",
       "       [0.26923077, 1.        , 0.17346939],\n",
       "       [0.23076923, 1.        , 0.83673469]])"
      ]
     },
     "execution_count": 185,
     "metadata": {},
     "output_type": "execute_result"
    }
   ],
   "source": [
    "x = dataset.iloc[:,2:]\n",
    "x\n",
    "from sklearn.preprocessing import MinMaxScaler,StandardScaler\n",
    "X = MinMaxScaler().fit_transform(x)\n",
    "X"
   ]
  },
  {
   "cell_type": "code",
   "execution_count": 186,
   "metadata": {},
   "outputs": [
    {
     "data": {
      "text/plain": [
       "[<matplotlib.lines.Line2D at 0x2625e609d30>]"
      ]
     },
     "execution_count": 186,
     "metadata": {},
     "output_type": "execute_result"
    },
    {
     "data": {
      "image/png": "[encoded data removed]",
      "text/plain": [
       "<Figure size 432x288 with 1 Axes>"
      ]
     },
     "metadata": {},
     "output_type": "display_data"
    }
   ],
   "source": [
    "label = []\n",
    "sse = []\n",
    "for i in range(1,11):\n",
    "    km = KMeans(n_clusters=i,random_state=23)\n",
    "    km.fit_predict(x)\n",
    "    sse.append(km.inertia_)\n",
    "    label.append(km.labels_)\n",
    "    \n",
    "plt.plot(range(1,11),sse)"
   ]
  },
  {
   "cell_type": "code",
   "execution_count": 187,
   "metadata": {},
   "outputs": [],
   "source": [
    "km = KMeans(n_clusters=6,random_state=87)\n",
    "l = km.fit_predict(x)"
   ]
  },
  {
   "cell_type": "code",
   "execution_count": 190,
   "metadata": {},
   "outputs": [
    {
     "data": {
      "text/html": [
       "<div>\n",
       "<style scoped>\n",
       "    .dataframe tbody tr th:only-of-type {\n",
       "        vertical-align: middle;\n",
       "    }\n",
       "\n",
       "    .dataframe tbody tr th {\n",
       "        vertical-align: top;\n",
       "    }\n",
       "\n",
       "    .dataframe thead th {\n",
       "        text-align: right;\n",
       "    }\n",
       "</style>\n",
       "<table border=\"1\" class=\"dataframe\">\n",
       "  <thead>\n",
       "    <tr style=\"text-align: right;\">\n",
       "      <th></th>\n",
       "      <th>Age</th>\n",
       "      <th>Annual Income (k$)</th>\n",
       "      <th>Spending Score (1-100)</th>\n",
       "      <th>label</th>\n",
       "    </tr>\n",
       "  </thead>\n",
       "  <tbody>\n",
       "    <tr>\n",
       "      <th>0</th>\n",
       "      <td>19</td>\n",
       "      <td>15</td>\n",
       "      <td>39</td>\n",
       "      <td>4</td>\n",
       "    </tr>\n",
       "    <tr>\n",
       "      <th>1</th>\n",
       "      <td>21</td>\n",
       "      <td>15</td>\n",
       "      <td>81</td>\n",
       "      <td>5</td>\n",
       "    </tr>\n",
       "    <tr>\n",
       "      <th>2</th>\n",
       "      <td>20</td>\n",
       "      <td>16</td>\n",
       "      <td>6</td>\n",
       "      <td>4</td>\n",
       "    </tr>\n",
       "    <tr>\n",
       "      <th>3</th>\n",
       "      <td>23</td>\n",
       "      <td>16</td>\n",
       "      <td>77</td>\n",
       "      <td>5</td>\n",
       "    </tr>\n",
       "    <tr>\n",
       "      <th>4</th>\n",
       "      <td>31</td>\n",
       "      <td>17</td>\n",
       "      <td>40</td>\n",
       "      <td>4</td>\n",
       "    </tr>\n",
       "    <tr>\n",
       "      <th>...</th>\n",
       "      <td>...</td>\n",
       "      <td>...</td>\n",
       "      <td>...</td>\n",
       "      <td>...</td>\n",
       "    </tr>\n",
       "    <tr>\n",
       "      <th>195</th>\n",
       "      <td>35</td>\n",
       "      <td>120</td>\n",
       "      <td>79</td>\n",
       "      <td>2</td>\n",
       "    </tr>\n",
       "    <tr>\n",
       "      <th>196</th>\n",
       "      <td>45</td>\n",
       "      <td>126</td>\n",
       "      <td>28</td>\n",
       "      <td>0</td>\n",
       "    </tr>\n",
       "    <tr>\n",
       "      <th>197</th>\n",
       "      <td>32</td>\n",
       "      <td>126</td>\n",
       "      <td>74</td>\n",
       "      <td>2</td>\n",
       "    </tr>\n",
       "    <tr>\n",
       "      <th>198</th>\n",
       "      <td>32</td>\n",
       "      <td>137</td>\n",
       "      <td>18</td>\n",
       "      <td>0</td>\n",
       "    </tr>\n",
       "    <tr>\n",
       "      <th>199</th>\n",
       "      <td>30</td>\n",
       "      <td>137</td>\n",
       "      <td>83</td>\n",
       "      <td>2</td>\n",
       "    </tr>\n",
       "  </tbody>\n",
       "</table>\n",
       "<p>200 rows × 4 columns</p>\n",
       "</div>"
      ],
      "text/plain": [
       "     Age  Annual Income (k$)  Spending Score (1-100)  label\n",
       "0     19                  15                      39      4\n",
       "1     21                  15                      81      5\n",
       "2     20                  16                       6      4\n",
       "3     23                  16                      77      5\n",
       "4     31                  17                      40      4\n",
       "..   ...                 ...                     ...    ...\n",
       "195   35                 120                      79      2\n",
       "196   45                 126                      28      0\n",
       "197   32                 126                      74      2\n",
       "198   32                 137                      18      0\n",
       "199   30                 137                      83      2\n",
       "\n",
       "[200 rows x 4 columns]"
      ]
     },
     "execution_count": 190,
     "metadata": {},
     "output_type": "execute_result"
    }
   ],
   "source": [
    "x['label'] = km.labels_\n",
    "x"
   ]
  },
  {
   "cell_type": "code",
   "execution_count": 191,
   "metadata": {},
   "outputs": [],
   "source": [
    "x.drop(['label'],axis=1,inplace=True)"
   ]
  },
  {
   "cell_type": "code",
   "execution_count": 192,
   "metadata": {},
   "outputs": [
    {
     "data": {
      "text/html": [
       "<div>\n",
       "<style scoped>\n",
       "    .dataframe tbody tr th:only-of-type {\n",
       "        vertical-align: middle;\n",
       "    }\n",
       "\n",
       "    .dataframe tbody tr th {\n",
       "        vertical-align: top;\n",
       "    }\n",
       "\n",
       "    .dataframe thead th {\n",
       "        text-align: right;\n",
       "    }\n",
       "</style>\n",
       "<table border=\"1\" class=\"dataframe\">\n",
       "  <thead>\n",
       "    <tr style=\"text-align: right;\">\n",
       "      <th></th>\n",
       "      <th>Age</th>\n",
       "      <th>Annual Income (k$)</th>\n",
       "      <th>Spending Score (1-100)</th>\n",
       "    </tr>\n",
       "  </thead>\n",
       "  <tbody>\n",
       "    <tr>\n",
       "      <th>0</th>\n",
       "      <td>19</td>\n",
       "      <td>15</td>\n",
       "      <td>39</td>\n",
       "    </tr>\n",
       "    <tr>\n",
       "      <th>1</th>\n",
       "      <td>21</td>\n",
       "      <td>15</td>\n",
       "      <td>81</td>\n",
       "    </tr>\n",
       "    <tr>\n",
       "      <th>2</th>\n",
       "      <td>20</td>\n",
       "      <td>16</td>\n",
       "      <td>6</td>\n",
       "    </tr>\n",
       "    <tr>\n",
       "      <th>3</th>\n",
       "      <td>23</td>\n",
       "      <td>16</td>\n",
       "      <td>77</td>\n",
       "    </tr>\n",
       "    <tr>\n",
       "      <th>4</th>\n",
       "      <td>31</td>\n",
       "      <td>17</td>\n",
       "      <td>40</td>\n",
       "    </tr>\n",
       "    <tr>\n",
       "      <th>...</th>\n",
       "      <td>...</td>\n",
       "      <td>...</td>\n",
       "      <td>...</td>\n",
       "    </tr>\n",
       "    <tr>\n",
       "      <th>195</th>\n",
       "      <td>35</td>\n",
       "      <td>120</td>\n",
       "      <td>79</td>\n",
       "    </tr>\n",
       "    <tr>\n",
       "      <th>196</th>\n",
       "      <td>45</td>\n",
       "      <td>126</td>\n",
       "      <td>28</td>\n",
       "    </tr>\n",
       "    <tr>\n",
       "      <th>197</th>\n",
       "      <td>32</td>\n",
       "      <td>126</td>\n",
       "      <td>74</td>\n",
       "    </tr>\n",
       "    <tr>\n",
       "      <th>198</th>\n",
       "      <td>32</td>\n",
       "      <td>137</td>\n",
       "      <td>18</td>\n",
       "    </tr>\n",
       "    <tr>\n",
       "      <th>199</th>\n",
       "      <td>30</td>\n",
       "      <td>137</td>\n",
       "      <td>83</td>\n",
       "    </tr>\n",
       "  </tbody>\n",
       "</table>\n",
       "<p>200 rows × 3 columns</p>\n",
       "</div>"
      ],
      "text/plain": [
       "     Age  Annual Income (k$)  Spending Score (1-100)\n",
       "0     19                  15                      39\n",
       "1     21                  15                      81\n",
       "2     20                  16                       6\n",
       "3     23                  16                      77\n",
       "4     31                  17                      40\n",
       "..   ...                 ...                     ...\n",
       "195   35                 120                      79\n",
       "196   45                 126                      28\n",
       "197   32                 126                      74\n",
       "198   32                 137                      18\n",
       "199   30                 137                      83\n",
       "\n",
       "[200 rows x 3 columns]"
      ]
     },
     "execution_count": 192,
     "metadata": {},
     "output_type": "execute_result"
    }
   ],
   "source": [
    "x"
   ]
  },
  {
   "cell_type": "code",
   "execution_count": 193,
   "metadata": {},
   "outputs": [
    {
     "data": {
      "text/plain": [
       "array([[  0.        ,  42.04759208,  33.03028913, ..., 117.1110584 ,\n",
       "        124.47489707, 130.15759678],\n",
       "       [ 42.04759208,   0.        ,  75.01333215, ..., 111.7631424 ,\n",
       "        137.74614332, 122.34786471],\n",
       "       [ 33.03028913,  75.01333215,   0.        , ..., 129.87686476,\n",
       "        122.18428704, 143.77065069],\n",
       "       ...,\n",
       "       [117.1110584 , 111.7631424 , 129.87686476, ...,   0.        ,\n",
       "         57.07013229,  14.35270009],\n",
       "       [124.47489707, 137.74614332, 122.18428704, ...,  57.07013229,\n",
       "          0.        ,  65.03076195],\n",
       "       [130.15759678, 122.34786471, 143.77065069, ...,  14.35270009,\n",
       "         65.03076195,   0.        ]])"
      ]
     },
     "execution_count": 193,
     "metadata": {},
     "output_type": "execute_result"
    }
   ],
   "source": [
    "dist_mat = distance_matrix(x,x)\n",
    "# dist_mat = cdist(x,x)\n",
    "dist_mat"
   ]
  },
  {
   "cell_type": "code",
   "execution_count": 194,
   "metadata": {},
   "outputs": [
    {
     "name": "stderr",
     "output_type": "stream",
     "text": [
      "<ipython-input-194-46a7780a707e>:1: ClusterWarning: scipy.cluster: The symmetric non-negative hollow observation matrix looks suspiciously like an uncondensed distance matrix\n",
      "  link = linkage(dist_mat,'single')\n"
     ]
    }
   ],
   "source": [
    "link = linkage(dist_mat,'single')"
   ]
  },
  {
   "cell_type": "code",
   "execution_count": 195,
   "metadata": {},
   "outputs": [
    {
     "data": {
      "image/png": "[encoded data removed]",
      "text/plain": [
       "<Figure size 720x720 with 1 Axes>"
      ]
     },
     "metadata": {},
     "output_type": "display_data"
    }
   ],
   "source": [
    "plt.figure(figsize=(10,10))\n",
    "a = dendrogram(link)"
   ]
  },
  {
   "cell_type": "code",
   "execution_count": 232,
   "metadata": {},
   "outputs": [
    {
     "data": {
      "text/plain": [
       "AgglomerativeClustering(linkage='complete', n_clusters=5)"
      ]
     },
     "execution_count": 232,
     "metadata": {},
     "output_type": "execute_result"
    }
   ],
   "source": [
    "clust = AgglomerativeClustering(n_clusters=5,linkage='complete')\n",
    "clust.fit(x)"
   ]
  },
  {
   "cell_type": "code",
   "execution_count": 233,
   "metadata": {},
   "outputs": [],
   "source": [
    "dataset['label'] = clust.labels_"
   ]
  },
  {
   "cell_type": "code",
   "execution_count": 234,
   "metadata": {},
   "outputs": [
    {
     "data": {
      "text/plain": [
       "<matplotlib.legend.Legend at 0x2625f565eb0>"
      ]
     },
     "execution_count": 234,
     "metadata": {},
     "output_type": "execute_result"
    },
    {
     "data": {
      "image/png": "[encoded data removed]",
      "text/plain": [
       "<Figure size 720x432 with 1 Axes>"
      ]
     },
     "metadata": {},
     "output_type": "display_data"
    }
   ],
   "source": [
    "\n",
    "g = dataset.groupby(['label'])[['Annual Income (k$)','Spending Score (1-100)']].mean()\n",
    "g.plot.bar(figsize=(10,6))\n",
    "plt.legend(loc='upper left',fontsize = 'xx-small')"
   ]
  },
  {
   "cell_type": "code",
   "execution_count": 269,
   "metadata": {},
   "outputs": [
    {
     "data": {
      "text/html": [
       "<div>\n",
       "<style scoped>\n",
       "    .dataframe tbody tr th:only-of-type {\n",
       "        vertical-align: middle;\n",
       "    }\n",
       "\n",
       "    .dataframe tbody tr th {\n",
       "        vertical-align: top;\n",
       "    }\n",
       "\n",
       "    .dataframe thead th {\n",
       "        text-align: right;\n",
       "    }\n",
       "</style>\n",
       "<table border=\"1\" class=\"dataframe\">\n",
       "  <thead>\n",
       "    <tr style=\"text-align: right;\">\n",
       "      <th></th>\n",
       "      <th>CustomerID</th>\n",
       "      <th>Genre</th>\n",
       "      <th>Age</th>\n",
       "      <th>Annual Income (k$)</th>\n",
       "      <th>Spending Score (1-100)</th>\n",
       "      <th>label</th>\n",
       "    </tr>\n",
       "  </thead>\n",
       "  <tbody>\n",
       "    <tr>\n",
       "      <th>1</th>\n",
       "      <td>2</td>\n",
       "      <td>Male</td>\n",
       "      <td>21</td>\n",
       "      <td>15</td>\n",
       "      <td>81</td>\n",
       "      <td>3</td>\n",
       "    </tr>\n",
       "    <tr>\n",
       "      <th>3</th>\n",
       "      <td>4</td>\n",
       "      <td>Female</td>\n",
       "      <td>23</td>\n",
       "      <td>16</td>\n",
       "      <td>77</td>\n",
       "      <td>3</td>\n",
       "    </tr>\n",
       "    <tr>\n",
       "      <th>5</th>\n",
       "      <td>6</td>\n",
       "      <td>Female</td>\n",
       "      <td>22</td>\n",
       "      <td>17</td>\n",
       "      <td>76</td>\n",
       "      <td>3</td>\n",
       "    </tr>\n",
       "    <tr>\n",
       "      <th>7</th>\n",
       "      <td>8</td>\n",
       "      <td>Female</td>\n",
       "      <td>23</td>\n",
       "      <td>18</td>\n",
       "      <td>94</td>\n",
       "      <td>3</td>\n",
       "    </tr>\n",
       "    <tr>\n",
       "      <th>9</th>\n",
       "      <td>10</td>\n",
       "      <td>Female</td>\n",
       "      <td>30</td>\n",
       "      <td>19</td>\n",
       "      <td>72</td>\n",
       "      <td>3</td>\n",
       "    </tr>\n",
       "  </tbody>\n",
       "</table>\n",
       "</div>"
      ],
      "text/plain": [
       "   CustomerID   Genre  Age  Annual Income (k$)  Spending Score (1-100)  label\n",
       "1           2    Male   21                  15                      81      3\n",
       "3           4  Female   23                  16                      77      3\n",
       "5           6  Female   22                  17                      76      3\n",
       "7           8  Female   23                  18                      94      3\n",
       "9          10  Female   30                  19                      72      3"
      ]
     },
     "execution_count": 269,
     "metadata": {},
     "output_type": "execute_result"
    }
   ],
   "source": [
    "a = dataset[(dataset['label']==2) | (dataset['label']==3) | (dataset['label']==1)]\n",
    "a.head()"
   ]
  },
  {
   "cell_type": "code",
   "execution_count": 241,
   "metadata": {},
   "outputs": [
    {
     "data": {
      "text/html": [
       "<div>\n",
       "<style scoped>\n",
       "    .dataframe tbody tr th:only-of-type {\n",
       "        vertical-align: middle;\n",
       "    }\n",
       "\n",
       "    .dataframe tbody tr th {\n",
       "        vertical-align: top;\n",
       "    }\n",
       "\n",
       "    .dataframe thead th {\n",
       "        text-align: right;\n",
       "    }\n",
       "</style>\n",
       "<table border=\"1\" class=\"dataframe\">\n",
       "  <thead>\n",
       "    <tr style=\"text-align: right;\">\n",
       "      <th></th>\n",
       "      <th>CustomerID</th>\n",
       "      <th>Genre</th>\n",
       "      <th>Age</th>\n",
       "      <th>Annual Income (k$)</th>\n",
       "      <th>Spending Score (1-100)</th>\n",
       "    </tr>\n",
       "    <tr>\n",
       "      <th>label</th>\n",
       "      <th></th>\n",
       "      <th></th>\n",
       "      <th></th>\n",
       "      <th></th>\n",
       "      <th></th>\n",
       "    </tr>\n",
       "  </thead>\n",
       "  <tbody>\n",
       "    <tr>\n",
       "      <th>0</th>\n",
       "      <td>35</td>\n",
       "      <td>35</td>\n",
       "      <td>35</td>\n",
       "      <td>35</td>\n",
       "      <td>35</td>\n",
       "    </tr>\n",
       "    <tr>\n",
       "      <th>1</th>\n",
       "      <td>83</td>\n",
       "      <td>83</td>\n",
       "      <td>83</td>\n",
       "      <td>83</td>\n",
       "      <td>83</td>\n",
       "    </tr>\n",
       "    <tr>\n",
       "      <th>2</th>\n",
       "      <td>39</td>\n",
       "      <td>39</td>\n",
       "      <td>39</td>\n",
       "      <td>39</td>\n",
       "      <td>39</td>\n",
       "    </tr>\n",
       "    <tr>\n",
       "      <th>3</th>\n",
       "      <td>20</td>\n",
       "      <td>20</td>\n",
       "      <td>20</td>\n",
       "      <td>20</td>\n",
       "      <td>20</td>\n",
       "    </tr>\n",
       "    <tr>\n",
       "      <th>4</th>\n",
       "      <td>23</td>\n",
       "      <td>23</td>\n",
       "      <td>23</td>\n",
       "      <td>23</td>\n",
       "      <td>23</td>\n",
       "    </tr>\n",
       "  </tbody>\n",
       "</table>\n",
       "</div>"
      ],
      "text/plain": [
       "       CustomerID  Genre  Age  Annual Income (k$)  Spending Score (1-100)\n",
       "label                                                                    \n",
       "0              35     35   35                  35                      35\n",
       "1              83     83   83                  83                      83\n",
       "2              39     39   39                  39                      39\n",
       "3              20     20   20                  20                      20\n",
       "4              23     23   23                  23                      23"
      ]
     },
     "execution_count": 241,
     "metadata": {},
     "output_type": "execute_result"
    }
   ],
   "source": [
    "dataset.groupby(['label']).count()"
   ]
  },
  {
   "cell_type": "code",
   "execution_count": 257,
   "metadata": {
    "scrolled": false
   },
   "outputs": [
    {
     "data": {
      "text/plain": [
       "<matplotlib.axes._subplots.AxesSubplot at 0x2626305e3d0>"
      ]
     },
     "execution_count": 257,
     "metadata": {},
     "output_type": "execute_result"
    },
    {
     "data": {
      "image/png": "[encoded data removed]",
      "text/plain": [
       "<Figure size 720x432 with 1 Axes>"
      ]
     },
     "metadata": {},
     "output_type": "display_data"
    }
   ],
   "source": [
    "dataset.groupby(['label']).aggregate('sum')[['Age','Annual Income (k$)','Spending Score (1-100)']].plot.bar(figsize=(10,6))"
   ]
  },
  {
   "cell_type": "code",
   "execution_count": 263,
   "metadata": {},
   "outputs": [
    {
     "data": {
      "text/plain": [
       "<matplotlib.legend.Legend at 0x26263cf2eb0>"
      ]
     },
     "execution_count": 263,
     "metadata": {},
     "output_type": "execute_result"
    },
    {
     "data": {
      "image/png": "[encoded data removed]",
      "text/plain": [
       "<Figure size 720x432 with 1 Axes>"
      ]
     },
     "metadata": {},
     "output_type": "display_data"
    }
   ],
   "source": [
    "dataset.groupby(['label']).aggregate('mean')[['Age','Annual Income (k$)','Spending Score (1-100)']].plot.bar(figsize=(10,6))\n",
    "plt.legend(loc='upper right',fontsize=8)"
   ]
  },
  {
   "cell_type": "code",
   "execution_count": null,
   "metadata": {},
   "outputs": [],
   "source": []
  },
  {
   "cell_type": "code",
   "execution_count": null,
   "metadata": {},
   "outputs": [],
   "source": []
  },
  {
   "cell_type": "code",
   "execution_count": null,
   "metadata": {},
   "outputs": [],
   "source": []
  }
 ],
 "metadata": {
  "kernelspec": {
   "display_name": "Python 3",
   "language": "python",
   "name": "python3"
  },
  "language_info": {
   "codemirror_mode": {
    "name": "ipython",
    "version": 3
   },
   "file_extension": ".py",
   "mimetype": "text/x-python",
   "name": "python",
   "nbconvert_exporter": "python",
   "pygments_lexer": "ipython3",
   "version": "3.8.3"
  }
 },
 "nbformat": 4,
 "nbformat_minor": 4
}
