{
 "cells": [
  {
   "cell_type": "code",
   "execution_count": 1,
   "metadata": {},
   "outputs": [
    {
     "name": "stdout",
     "output_type": "stream",
     "text": [
      " * Serving Flask app \"__main__\" (lazy loading)\n",
      " * Environment: production\n",
      "   WARNING: This is a development server. Do not use it in a production deployment.\n",
      "   Use a production WSGI server instead.\n",
      " * Debug mode: off\n"
     ]
    },
    {
     "name": "stderr",
     "output_type": "stream",
     "text": [
      " * Running on http://127.0.0.1:5000/ (Press CTRL+C to quit)\n"
     ]
    }
   ],
   "source": [
    "# importing the necessary dependencies\n",
    "from flask import Flask, render_template, request,jsonify\n",
    "from flask_cors import CORS,cross_origin\n",
    "import pickle\n",
    "\n",
    "app = Flask(__name__) # initializing a flask app\n",
    "\n",
    "@app.route('/',methods=['GET'])  # route to display the home page\n",
    "@cross_origin()\n",
    "def homePage():\n",
    "    return render_template(\"index.html\")\n",
    "\n",
    "@app.route('/predict',methods=['POST','GET']) # route to show the predictions in a web UI\n",
    "@cross_origin()\n",
    "def index():\n",
    "    if request.method == 'POST':\n",
    "        try:\n",
    "            #  reading the inputs given by the user\n",
    "            gre_score=float(request.form['gre_score'])\n",
    "            toefl_score = float(request.form['toefl_score'])\n",
    "            university_rating = float(request.form['university_rating'])\n",
    "            sop = float(request.form['sop'])\n",
    "            lor = float(request.form['lor'])\n",
    "            cgpa = float(request.form['cgpa'])\n",
    "            is_research = request.form['research']\n",
    "            if(is_research=='yes'):\n",
    "                research=1\n",
    "            else:\n",
    "                research=0\n",
    "            filename = 'finalized_model.pickle'\n",
    "            loaded_model = pickle.load(open(filename, 'rb')) # loading the model file from the storage\n",
    "            # predictions using the loaded model file\n",
    "            prediction=loaded_model.predict([[gre_score,toefl_score,university_rating,sop,lor,cgpa,research]])\n",
    "            print('prediction is', prediction)\n",
    "            # showing the prediction results in a UI\n",
    "            return render_template('results.html',prediction=round(100*prediction[0]))\n",
    "        except Exception as e:\n",
    "            print('The Exception message is: ',e)\n",
    "            return 'something is wrong'\n",
    "    # return render_template('results.html')\n",
    "    else:\n",
    "        return render_template('index.html')\n",
    "\n",
    "\n",
    "\n",
    "if __name__ == \"__main__\":\n",
    "    #app.run(host='127.0.0.1', port=8001, debug=True)\n",
    "    app.run() # running the app"
   ]
  }
 ],
 "metadata": {
  "kernelspec": {
   "display_name": "Python 3",
   "language": "python",
   "name": "python3"
  },
  "language_info": {
   "codemirror_mode": {
    "name": "ipython",
    "version": 3
   },
   "file_extension": ".py",
   "mimetype": "text/x-python",
   "name": "python",
   "nbconvert_exporter": "python",
   "pygments_lexer": "ipython3",
   "version": "3.8.3"
  }
 },
 "nbformat": 4,
 "nbformat_minor": 4
}
