{
 "cells": [
  {
   "cell_type": "code",
   "execution_count": 1,
   "metadata": {},
   "outputs": [],
   "source": [
    "# package\n",
    "import numpy as np\n",
    "from scipy import stats\n",
    "from numpy import random\n",
    "import matplotlib.pyplot as plt\n",
    "import seaborn as sns\n",
    "import pandas as pd"
   ]
  },
  {
   "cell_type": "code",
   "execution_count": null,
   "metadata": {},
   "outputs": [],
   "source": []
  },
  {
   "cell_type": "code",
   "execution_count": 2,
   "metadata": {},
   "outputs": [],
   "source": [
    "# Problem Statement 1:\n",
    "# In each of the following situations, state whether it is a correctly stated hypothesis\n",
    "# testing problem and why?\n",
    "\n",
    "# 1. H0: μ = 25, H1: μ ≠ 25\n",
    "# this correctly stated hypothesis, because null & alternate hypothesis are correctly opposite\n",
    "\n",
    "# 2. H0: σ > 10, H1: σ = 10\n",
    "# this didn't correctly state hypothesis, because null & alternate hypothesis are not correctly opposite\n",
    "\n",
    "# 3. H0: x = 50, H1: x ≠ 50\n",
    "# this correctly stated hypothesis, because null & alternate hypothesis are correctly opposite\n",
    "        \n",
    "# 4. H0: p= 0.1, H1: p = 0.5\n",
    "# this didn't correctly stated hypothesis, because null & alternate hypothesis are not correctly written, \n",
    "# alternate hypothesis should be H1 : p != 0.1\n",
    "\n",
    "        \n",
    "# 5. H0: s = 30, H1: s > 30\n",
    "# this didn't correctly stated hypothesis, because altrnate hypothesis should be H1 : s!=30\n"
   ]
  },
  {
   "cell_type": "code",
   "execution_count": 3,
   "metadata": {},
   "outputs": [
    {
     "name": "stdout",
     "output_type": "stream",
     "text": [
      "z value (data) = 1.7777777777777715\n",
      "p value for z (data) = 0.0754403596268014\n",
      "the p value of data is greater than significance level alpha (0.05)\n",
      "so we do not reject null hypothesis, conclusion is that the average cost of bookstore textbooks is Rs. 52 \n"
     ]
    }
   ],
   "source": [
    "# Problem Statement 2:\n",
    "# The college bookstore tells prospective students that the average cost of its\n",
    "# textbooks is Rs. 52 with a standard deviation of Rs. 4.50. A group of smart statistics\n",
    "# students thinks that the average cost is higher. To test the bookstore’s claim against\n",
    "# their alternative, the students will select a random sample of size 100. Assume that\n",
    "# the mean from their random sample is Rs. 52.80. Perform a hypothesis test at the\n",
    "# 5% level of significance and state your decision.\n",
    "\n",
    "# solution\n",
    "# H0 : mu = 52\n",
    "# H1 : mu =! 52\n",
    "\n",
    "# it is two tailed z test\n",
    "# here we performing hypothesis testig via P value approach\n",
    "# level of significance (alpha) = 0.05\n",
    "z = (52.80-52)/(4.50/np.sqrt(100))\n",
    "print(\"z value (data) =\",z)\n",
    "print(\"p value for z (data) =\", (1-stats.norm.cdf(z))*2)\n",
    "print(\"the p value of data is greater than significance level alpha (0.05)\")\n",
    "print(\"so we do not reject null hypothesis, conclusion is that the average cost of bookstore textbooks is Rs. 52 \")"
   ]
  },
  {
   "cell_type": "code",
   "execution_count": 4,
   "metadata": {},
   "outputs": [
    {
     "name": "stdout",
     "output_type": "stream",
     "text": [
      "z value for data = -1.3258252147247767\n",
      "z value for alpha = 3.3263478740408408\n",
      "z value (data)< z value (alpha)\n",
      "so do not reject null hypothesis, so the claimed of group of factory representatives is correct\n"
     ]
    }
   ],
   "source": [
    "# Problem Statement 3:\n",
    "# A certain chemical pollutant in the Genesee River has been constant for several\n",
    "# years with mean μ = 34 ppm (parts per million) and standard deviation σ = 8 ppm. A\n",
    "# group of factory representatives whose companies discharge liquids into the river is\n",
    "# now claiming that they have lowered the average with improved filtration devices. A\n",
    "# group of environmentalists will test to see if this is true at the 1% level of\n",
    "# significance. Assume \\ that their sample of size 50 gives a mean of 32.5 ppm.\n",
    "# Perform a hypothesis test at the 1% level of significance and state your decision.\n",
    "\n",
    "# solution \n",
    "# H0 : mu < 34\n",
    "# H1 : mu > 34\n",
    "\n",
    "# it is right tailed z test\n",
    "# here we are performing critical value approach\n",
    "# level of significance alpha = 0.01\n",
    "\n",
    "z = (32.5-34)/(8/np.sqrt(50))\n",
    "print(\"z value for data =\",z)\n",
    "print(\"z value for alpha =\", 1-stats.norm.ppf(0.01))\n",
    "print(\"z value (data)< z value (alpha)\")\n",
    "print(\"so do not reject null hypothesis, so the claimed of group of factory representatives is correct\")"
   ]
  },
  {
   "cell_type": "code",
   "execution_count": 5,
   "metadata": {},
   "outputs": [
    {
     "name": "stdout",
     "output_type": "stream",
     "text": [
      "mean of sample data = 1031.3181818181818\n",
      "standard deviation of data = 234.84799462314425\n",
      "t value of data =  -2.070747228595759\n",
      "p value (data) 0.05089829008918908\n",
      "p value (data) = alpha(0.05), so we do not reject null hypothesis, so  the claim of US on dental expenditure is incorrect\n"
     ]
    }
   ],
   "source": [
    "# Problem Statement 4:\n",
    "# Based on population figures and other general information on the U.S. population,\n",
    "# suppose it has been estimated that, on average, a family of four in the U.S. spends\n",
    "# about $1135 annually on dental expenditures. Suppose further that a regional dental\n",
    "# association wants to test to determine if this figure is accurate for their area of\n",
    "# country. To test this, 22 families of 4 are randomly selected from the population in\n",
    "# that area of the country and a log is kept of the family’s dental expenditure for one\n",
    "# year. The resulting data are given below. Assuming, that dental expenditure is\n",
    "# normally distributed in the population, use the data and an alpha of 0.05 to test the\n",
    "# dental association’s hypothesis.\n",
    "# 1008, 812, 1117, 1323, 1308, 1415, 831, 1021, 1287, 851, 930, 730, 699,\n",
    "# 872, 913, 944, 954, 987, 1695, 995, 1003, 994\n",
    "\n",
    "# solution\n",
    "\n",
    "\n",
    "data = np.array([1008, 812, 1117, 1323, 1308, 1415, 831, 1021, 1287, 851, 930, 730, 699,\n",
    "872, 913, 944, 954, 987, 1695, 995, 1003, 994])\n",
    "\n",
    "s_mean =np.mean(data)\n",
    "s_std = np.std(data)\n",
    "n = 22\n",
    "alpha = 0.05\n",
    "\n",
    "print(\"mean of sample data =\", s_mean)\n",
    "print(\"standard deviation of data =\", s_std)\n",
    "\n",
    "# H0 : mu = 1135\n",
    "# H1 : mu != 1135\n",
    "\n",
    "# so it is two tailed  t test\n",
    "# here we are using p value approach\n",
    "\n",
    "t = (s_mean-1135)/(s_std/np.sqrt(22))\n",
    "print(\"t value of data = \", t)\n",
    "print(\"p value (data)\", (stats.t.cdf(t,df=21))*2)\n",
    "print(\"p value (data) = alpha(0.05), so we do not reject null hypothesis, so  the claim of US on dental expenditure is incorrect\")"
   ]
  },
  {
   "cell_type": "code",
   "execution_count": 6,
   "metadata": {},
   "outputs": [
    {
     "name": "stdout",
     "output_type": "stream",
     "text": [
      "z value data 1.42\n",
      "z value for alpha 0.07780384052654643\n",
      "here p value of data > p value of alpha , so the null hypothesis is correct\n",
      "the claim of Economic Research Department of a major bank is correct\n"
     ]
    }
   ],
   "source": [
    "# Problem Statement 5:\n",
    "# In a report prepared by the Economic Research Department of a major bank the\n",
    "# Department manager maintains that the average annual family income on Metropolis\n",
    "# is $48,432. What do you conclude about the validity of the report if a random sample\n",
    "# of 400 families shows and average income of $48,574 with a standard deviation of\n",
    "# 2000?\n",
    "\n",
    "# solution\n",
    "\n",
    "# H0 : mu = 48432\n",
    "# H1 : mu != 48432\n",
    "\n",
    "# so it is two tailed  z test\n",
    "# here we are using p value approach\n",
    "# alpha = 0.05\n",
    "\n",
    "z = (48574-48432)/(2000/np.sqrt(400))\n",
    "\n",
    "print(\"z value data\",z)\n",
    "\n",
    "print(\"z value for alpha\", 1-stats.norm.cdf(z))\n",
    "\n",
    "print(\"here p value of data > p value of alpha , so the null hypothesis is correct\")\n",
    "print(\"the claim of Economic Research Department of a major bank is correct\")"
   ]
  },
  {
   "cell_type": "code",
   "execution_count": 7,
   "metadata": {},
   "outputs": [
    {
     "name": "stdout",
     "output_type": "stream",
     "text": [
      "t value data -2.06118477175179\n",
      "t value for alpha =  -2.10092204024096\n",
      "here t value of data < t value of alpha in negative region & t value of data > t value of alpha in positive region , so the null hypothesis is correct\n",
      " the claim of the average price per square foot for warehouses in the United States is correct\n"
     ]
    }
   ],
   "source": [
    "# Problem Statement 6:\n",
    "# Suppose that in past years the average price per square foot for warehouses in the\n",
    "# United States has been $32.28. A national real estate investor wants to determine\n",
    "# whether that figure has changed now. The investor hires a researcher who randomly\n",
    "# samples 19 warehouses that are for sale across the United States and finds that the\n",
    "# mean price per square foot is $31.67, with a standard deviation of $1.29. assume\n",
    "# that the prices of warehouse footage are normally distributed in population. If the\n",
    "# researcher uses a 5% level of significance, what statistical conclusion can be\n",
    "# reached? What are the hypotheses?\n",
    "\n",
    "# solution\n",
    "\n",
    "# H0 : mu = 32.28\n",
    "# H1 : mu != 32.28\n",
    "\n",
    "# so it is two tailed  t test\n",
    "# here we are using t value approach\n",
    "# alpha = 0.05\n",
    "\n",
    "t = (31.67-32.28)/(1.29/np.sqrt(19))\n",
    "\n",
    "print(\"t value data\",t)\n",
    "\n",
    "print(\"t value for alpha = \", stats.t.ppf(0.025,df=18))\n",
    "\n",
    "print(\"here t value of data < t value of alpha in negative region & t value of data > t value of alpha in positive region , so the null hypothesis is correct\")\n",
    "print(\" the claim of the average price per square foot for warehouses in the United States is correct\")"
   ]
  },
  {
   "cell_type": "code",
   "execution_count": 8,
   "metadata": {},
   "outputs": [
    {
     "data": {
      "text/html": [
       "<div>\n",
       "<style scoped>\n",
       "    .dataframe tbody tr th:only-of-type {\n",
       "        vertical-align: middle;\n",
       "    }\n",
       "\n",
       "    .dataframe tbody tr th {\n",
       "        vertical-align: top;\n",
       "    }\n",
       "\n",
       "    .dataframe thead th {\n",
       "        text-align: right;\n",
       "    }\n",
       "</style>\n",
       "<table border=\"1\" class=\"dataframe\">\n",
       "  <thead>\n",
       "    <tr style=\"text-align: right;\">\n",
       "      <th></th>\n",
       "      <th>Acceptance region</th>\n",
       "      <th>samle size</th>\n",
       "      <th>alpha</th>\n",
       "      <th>beta at mu = 52</th>\n",
       "      <th>beta at mu = 50.5</th>\n",
       "    </tr>\n",
       "  </thead>\n",
       "  <tbody>\n",
       "    <tr>\n",
       "      <th>0</th>\n",
       "      <td>48.5&lt;x&lt;51.5</td>\n",
       "      <td>10</td>\n",
       "      <td>0</td>\n",
       "      <td>0</td>\n",
       "      <td>0</td>\n",
       "    </tr>\n",
       "    <tr>\n",
       "      <th>1</th>\n",
       "      <td>48&lt;x&lt;52</td>\n",
       "      <td>10</td>\n",
       "      <td>0</td>\n",
       "      <td>0</td>\n",
       "      <td>0</td>\n",
       "    </tr>\n",
       "    <tr>\n",
       "      <th>2</th>\n",
       "      <td>48.81&lt;x&lt;51.90</td>\n",
       "      <td>16</td>\n",
       "      <td>0</td>\n",
       "      <td>0</td>\n",
       "      <td>0</td>\n",
       "    </tr>\n",
       "    <tr>\n",
       "      <th>3</th>\n",
       "      <td>48.42&lt;x&lt;51.58</td>\n",
       "      <td>16</td>\n",
       "      <td>0</td>\n",
       "      <td>0</td>\n",
       "      <td>0</td>\n",
       "    </tr>\n",
       "  </tbody>\n",
       "</table>\n",
       "</div>"
      ],
      "text/plain": [
       "  Acceptance region  samle size  alpha  beta at mu = 52  beta at mu = 50.5\n",
       "0       48.5<x<51.5          10      0                0                  0\n",
       "1           48<x<52          10      0                0                  0\n",
       "2     48.81<x<51.90          16      0                0                  0\n",
       "3     48.42<x<51.58          16      0                0                  0"
      ]
     },
     "execution_count": 8,
     "metadata": {},
     "output_type": "execute_result"
    }
   ],
   "source": [
    "# Problem Statement 7:\n",
    "# Fill in the blank spaces in the table and draw your conclusions from it.\n",
    "# take standard daviation = 2.5\n",
    "\n",
    "\n",
    "df = pd.DataFrame({\"Acceptance region\":['48.5<x<51.5','48<x<52','48.81<x<51.90','48.42<x<51.58'],\"samle size\":[10,10,16,16],\"alpha\":[0,0,0,0],\"beta at mu = 52\":[0,0,0,0],\"beta at mu = 50.5\":[0,0,0,0]})\n",
    "df"
   ]
  },
  {
   "cell_type": "code",
   "execution_count": 9,
   "metadata": {},
   "outputs": [
    {
     "name": "stdout",
     "output_type": "stream",
     "text": [
      "0.028889785561798602\n",
      "0.028889785561798553\n",
      "0.005706018193000826\n",
      "0.005706018193000872\n",
      "0.028455092091357957\n",
      "0.0011828907431044033\n",
      "0.005735717598536077\n",
      "0.005735717598536083\n",
      "0.26354462843276905\n",
      "0.5\n",
      "0.4364405371085663\n",
      "0.2507918481599688\n",
      "0.8970483946339658\n",
      "0.9711102144382014\n",
      "0.9874545385640534\n",
      "0.9580058878111785\n",
      "conclusions from it\n",
      "1.  As the interval will increse the value of alpha decreses but value of beta increses\n",
      "2.  as the no of sample size increses both error will decreses\n"
     ]
    },
    {
     "data": {
      "text/html": [
       "<div>\n",
       "<style scoped>\n",
       "    .dataframe tbody tr th:only-of-type {\n",
       "        vertical-align: middle;\n",
       "    }\n",
       "\n",
       "    .dataframe tbody tr th {\n",
       "        vertical-align: top;\n",
       "    }\n",
       "\n",
       "    .dataframe thead th {\n",
       "        text-align: right;\n",
       "    }\n",
       "</style>\n",
       "<table border=\"1\" class=\"dataframe\">\n",
       "  <thead>\n",
       "    <tr style=\"text-align: right;\">\n",
       "      <th></th>\n",
       "      <th>Acceptance region</th>\n",
       "      <th>samle size</th>\n",
       "      <th>alpha</th>\n",
       "      <th>beta at mu = 52</th>\n",
       "      <th>beta at mu = 50.5</th>\n",
       "    </tr>\n",
       "  </thead>\n",
       "  <tbody>\n",
       "    <tr>\n",
       "      <th>0</th>\n",
       "      <td>48.5&lt;x&lt;51.5</td>\n",
       "      <td>10</td>\n",
       "      <td>0.057780</td>\n",
       "      <td>0.263545</td>\n",
       "      <td>0.897048</td>\n",
       "    </tr>\n",
       "    <tr>\n",
       "      <th>1</th>\n",
       "      <td>48&lt;x&lt;52</td>\n",
       "      <td>10</td>\n",
       "      <td>0.011412</td>\n",
       "      <td>0.500000</td>\n",
       "      <td>0.971110</td>\n",
       "    </tr>\n",
       "    <tr>\n",
       "      <th>2</th>\n",
       "      <td>48.81&lt;x&lt;51.90</td>\n",
       "      <td>16</td>\n",
       "      <td>0.029638</td>\n",
       "      <td>0.436441</td>\n",
       "      <td>0.987455</td>\n",
       "    </tr>\n",
       "    <tr>\n",
       "      <th>3</th>\n",
       "      <td>48.42&lt;x&lt;51.58</td>\n",
       "      <td>16</td>\n",
       "      <td>0.011471</td>\n",
       "      <td>0.250792</td>\n",
       "      <td>0.958006</td>\n",
       "    </tr>\n",
       "  </tbody>\n",
       "</table>\n",
       "</div>"
      ],
      "text/plain": [
       "  Acceptance region  samle size     alpha  beta at mu = 52  beta at mu = 50.5\n",
       "0       48.5<x<51.5          10  0.057780         0.263545           0.897048\n",
       "1           48<x<52          10  0.011412         0.500000           0.971110\n",
       "2     48.81<x<51.90          16  0.029638         0.436441           0.987455\n",
       "3     48.42<x<51.58          16  0.011471         0.250792           0.958006"
      ]
     },
     "execution_count": 9,
     "metadata": {},
     "output_type": "execute_result"
    }
   ],
   "source": [
    "#calculating alpha column\n",
    "#  mu = 50\n",
    "def alpha(x,mu,sigma,n):\n",
    "    z = (x-mu)/(sigma/np.sqrt(n))\n",
    "    if z<0:\n",
    "        alpha = stats.norm.cdf(z)\n",
    "    else:\n",
    "        alpha = 1-stats.norm.cdf(z)\n",
    "    print(alpha)\n",
    "    \n",
    "\n",
    "    \n",
    "a = alpha(48.5,50,2.5,10)\n",
    "b = alpha(51.5,50,2.5,10)\n",
    "c = 0.028889785561798602+0.028889785561798553\n",
    "df.iloc[0,2]= c\n",
    "\n",
    "a = alpha(48,50,2.5,10)\n",
    "b = alpha(52,50,2.5,10)\n",
    "c = 0.005706018193000826+0.005706018193000872\n",
    "df.iloc[1,2]= c\n",
    "\n",
    "a = alpha(48.81,50,2.5,16)\n",
    "b = alpha(51.90,50,2.5,16)\n",
    "c = 0.028455092091357957+0.0011828907431044033\n",
    "df.iloc[2,2]= c\n",
    "\n",
    "a = alpha(48.42,50,2.5,16)\n",
    "b = alpha(51.58,50,2.5,16)\n",
    "c = 0.005735717598536083+0.005735717598536077\n",
    "df.iloc[3,2]= c\n",
    "\n",
    "#calculating beta at mu = 52 column\n",
    "# here mu1(50)<mu2(52), so will take only upper value in interval of probability\n",
    "def beta(x,mu,sigma,n):\n",
    "    z = (x-mu)/(sigma/np.sqrt(n))\n",
    "    print(stats.norm.cdf(z))\n",
    "    \n",
    "beta_1 = beta(51.5,52,2.5,10)\n",
    "df.iloc[0,3] = 0.26354462843276905\n",
    "\n",
    "beta_2 = beta(52,52,2.5,10)\n",
    "df.iloc[1,3] = 0.5\n",
    "\n",
    "beta_3 = beta(51.90,52,2.5,16)\n",
    "df.iloc[2,3] = 0.4364405371085663\n",
    "\n",
    "beta_4 = beta(51.58,52,2.5,16)\n",
    "df.iloc[3,3] = 0.2507918481599688\n",
    "\n",
    "# beta at mu = 50.5\n",
    "\n",
    "beta_value_1 = beta(51.50,50.5,2.5,10)\n",
    "df.iloc[0,4] = 0.8970483946339658\n",
    "\n",
    "beta_value_2 = beta(52,50.5,2.5,10)\n",
    "df.iloc[1,4] = 0.9711102144382014\n",
    "\n",
    "beta_value_3 = beta(51.90,50.5,2.5,16)\n",
    "df.iloc[2,4] = 0.9874545385640534\n",
    "\n",
    "beta_value_4 = beta(51.58,50.5,2.5,16)\n",
    "df.iloc[3,4] = 0.9580058878111785\n",
    "\n",
    "\n",
    "print('conclusions from it')\n",
    "print('1.  As the interval will increse the value of alpha decreses but value of beta increses')\n",
    "print('2.  as the no of sample size increses both error will decreses')\n",
    "\n",
    "df"
   ]
  },
  {
   "cell_type": "code",
   "execution_count": 10,
   "metadata": {},
   "outputs": [
    {
     "name": "stdout",
     "output_type": "stream",
     "text": [
      "t value =  5.333333333333333\n"
     ]
    }
   ],
   "source": [
    "# Problem Statement 8:\n",
    "# Find the t-score for a sample size of 16 taken from a population with mean 10 when\n",
    "# the sample mean is 12 and the sample standard deviation is 1.5\n",
    "\n",
    "def t_val(x,mu,sigma,n):\n",
    "    t = (x-mu)/(sigma/np.sqrt(n))\n",
    "    return t\n",
    "\n",
    "a = t_val(12,10,1.5,16)\n",
    "print('t value = ',a)"
   ]
  },
  {
   "cell_type": "code",
   "execution_count": 11,
   "metadata": {},
   "outputs": [
    {
     "name": "stdout",
     "output_type": "stream",
     "text": [
      "the t-score below which we can expect 99% of sample means will fall = 2.602480294995493\n"
     ]
    }
   ],
   "source": [
    "# Problem Statement 9:\n",
    "# Find the t-score below which we can expect 99% of sample means will fall if samples\n",
    "# of size 16 are taken from a normally distributed population.\n",
    "\n",
    "b = stats.t.ppf(0.99,df=15)\n",
    "print('the t-score below which we can expect 99% of sample means will fall =',b)"
   ]
  },
  {
   "cell_type": "code",
   "execution_count": 12,
   "metadata": {},
   "outputs": [
    {
     "name": "stdout",
     "output_type": "stream",
     "text": [
      "t score = 1.7108820799094275\n",
      "the probability that (−t0.05 <t<t0.10)=  0.05914441613731247\n"
     ]
    }
   ],
   "source": [
    "# Problem Statement 10:\n",
    "# If a random sample of size 25 drawn from a normal population gives a mean of 60\n",
    "# and a standard deviation of 4, find the range of t-scores where we can expect to find\n",
    "# the middle 95% of all sample means. Compute the probability that (−t0.05 <t<t0.10).\n",
    "\n",
    "t = stats.t.ppf(0.95,df=24)\n",
    "print('t score =',t)\n",
    "\n",
    "print('the probability that (−t0.05 <t<t0.10)= ', stats.t.cdf(0.10,df=24)-stats.t.cdf(-0.05,df=24))\n"
   ]
  },
  {
   "cell_type": "code",
   "execution_count": 13,
   "metadata": {},
   "outputs": [
    {
     "name": "stdout",
     "output_type": "stream",
     "text": [
      "z value data = -7.926428526759299\n",
      "p value for data = 2.2553835335706493e-15\n",
      " Here p value of  data < p value of alpha (0.05)\n",
      "so we will reject null hypothesis, It means both the populations are not same.\n"
     ]
    }
   ],
   "source": [
    "# Problem Statement 11:\n",
    "# Two-tailed test for difference between two population means\n",
    "# Is there evidence to conclude that the number of people travelling from Bangalore to\n",
    "# Chennai is different from the number of people travelling from Bangalore to Hosur in\n",
    "# a week, given the following:\n",
    "# Population 1: Bangalore to Chennai n1 = 1200\n",
    "# x1 = 452\n",
    "# s1 = 212\n",
    "# Population 2: Bangalore to Hosur n2 = 800\n",
    "# x2 = 523\n",
    "# s2 = 185\n",
    "\n",
    "# solution\n",
    "\n",
    "# H0 : mu1 = mu2\n",
    "# H1 : mu1 != mu2\n",
    "\n",
    "#  alpha = 0.05\n",
    "\n",
    "def zvalue(x1_mean,x2_mean,s1,s2,n1,n2):\n",
    "    z = ((x1_mean-x2_mean)/(np.sqrt(((np.square(s1))/n1)+((np.square(s2))/n2))))\n",
    "    return z\n",
    "\n",
    "\n",
    "a = zvalue(452,523,212,185,1200,800)\n",
    "print(\"z value data =\",a)\n",
    "\n",
    "print(\"p value for data =\",  stats.norm.cdf(a)*2)\n",
    "print(\" Here p value of  data < p value of alpha (0.05)\")\n",
    "print(\"so we will reject null hypothesis, It means both the populations are not same.\")"
   ]
  },
  {
   "cell_type": "code",
   "execution_count": 14,
   "metadata": {},
   "outputs": [
    {
     "name": "stdout",
     "output_type": "stream",
     "text": [
      "z value of data 5.025702668336442\n",
      "p value of data 5.015925257367826e-07\n",
      " Here p value of  data < p value of alpha (0.05)\n",
      "so we will reject null hypothesis, It means both the populations are not same.\n"
     ]
    }
   ],
   "source": [
    "# Problem Statement 12:\n",
    "# Is there evidence to conclude that the number of people preferring Duracell battery is\n",
    "# different from the number of people preferring Energizer battery, given the following:\n",
    "# Population 1: Duracell\n",
    "# n1 = 100\n",
    "# x1 = 308\n",
    "# s1 = 84\n",
    "# Population 2: Energizer\n",
    "# n2 = 100\n",
    "# x2 = 254\n",
    "# s2 = 67\n",
    "\n",
    "# solution\n",
    "\n",
    "# H0 : mu1 = mu2\n",
    "# H1 : mu1 != mu2\n",
    "\n",
    "#  alpha = 0.05\n",
    "\n",
    "a = zvalue(308,254,84,67,100,100)\n",
    "print(\"z value of data\",a)\n",
    "\n",
    "print(\"p value of data\", (1-stats.norm.cdf(a))*2)\n",
    "\n",
    "print(\" Here p value of  data < p value of alpha (0.05)\")\n",
    "print(\"so we will reject null hypothesis, It means both the populations are not same.\")"
   ]
  },
  {
   "cell_type": "code",
   "execution_count": 15,
   "metadata": {},
   "outputs": [
    {
     "name": "stdout",
     "output_type": "stream",
     "text": [
      "t value of data = 8.226070276327205\n",
      "p value of data = 5.2529272931423066e-08\n",
      "here p value of data < p value of alpha (0.05)\n",
      "so we will reject null hypothesis\n"
     ]
    }
   ],
   "source": [
    "# Problem Statement 13:\n",
    "# Pooled estimate of the population variance\n",
    "# Does the data provide sufficient evidence to conclude that average percentage\n",
    "# increase in the price of sugar differs when it is sold at two different prices?\n",
    "# Population 1: Price of sugar = Rs. 27.50 n1 = 14\n",
    "# x1 = 0.317%\n",
    "# s1 = 0.12%\n",
    "# Population 2: Price of sugar = Rs. 20.00 n2 = 9\n",
    "# x2 = 0.21%\n",
    "# s2 = 0.11%\n",
    "\n",
    "\n",
    "# solution\n",
    "# convert into values from percentages\n",
    "# mu1 = 27.50\n",
    "# mu2 = 20.00\n",
    "# x1 = 36.21\n",
    "# x2 =  24.2\n",
    "# s1 = 4.34\n",
    "# s2 = 2.66\n",
    "# Degree of freedom = n1 + n2 -2 = 21\n",
    "# H0 : mu1 = mu2\n",
    "# H1 : mu1 != mu2\n",
    "\n",
    "def tvalue(x1_mean,x2_mean,s1,s2,n1,n2):\n",
    "    t = ((x1_mean-x2_mean)/(np.sqrt(((np.square(s1))/n1)+((np.square(s2))/n2))))\n",
    "    return t\n",
    "\n",
    "\n",
    "\n",
    "t = tvalue(36.21,24.20,4.34,2.66,14,9)\n",
    "print(\"t value of data =\",t)\n",
    "\n",
    "print(\"p value of data =\", (1-stats.t.cdf(t,df=21))*2)\n",
    "print(\"here p value of data < p value of alpha (0.05)\")\n",
    "print(\"so we will reject null hypothesis\")"
   ]
  },
  {
   "cell_type": "code",
   "execution_count": 16,
   "metadata": {},
   "outputs": [
    {
     "name": "stdout",
     "output_type": "stream",
     "text": [
      "t value of data = -0.9341299576730813\n",
      "p value of data = 0.3591723244639674\n",
      "p value of data > alpha, so do not reject null hypothesis\n",
      "there is statistical evidence that a small price reduction is enough to increase sales of their product\n"
     ]
    }
   ],
   "source": [
    "# Problem Statement 14:\n",
    "# The manufacturers of compact disk players want to test whether a small price\n",
    "# reduction is enough to increase sales of their product. Is there evidence that the\n",
    "# small price reduction is enough to increase sales of compact disk players?\n",
    "# Population 1: Before reduction\n",
    "# n1 = 15\n",
    "# x1 = Rs. 6598 s1 = Rs. 844\n",
    "# Population 2: After reduction n2 = 12\n",
    "# x2 = RS. 6870\n",
    "# s2 = Rs. 669\n",
    "\n",
    "# solution\n",
    "# Degree of freedom = n1 + n2 -2 = 25\n",
    "# H0 : mu1 != mu2  (after price reduction sales are not same )\n",
    "# H1 : mu1 == mu2  (sales are same)\n",
    "# alpha = 0.05\n",
    "\n",
    "t = tvalue(6598,6870,844,669,15,12)\n",
    "print(\"t value of data =\",t)\n",
    "\n",
    "print(\"p value of data =\", (stats.t.cdf(t,df=25))*2)\n",
    "print('p value of data > alpha, so do not reject null hypothesis')\n",
    "print('there is statistical evidence that a small price reduction is enough to increase sales of their product')"
   ]
  },
  {
   "cell_type": "code",
   "execution_count": 17,
   "metadata": {},
   "outputs": [
    {
     "name": "stdout",
     "output_type": "stream",
     "text": [
      "pooled proportion for calculation of SE = 0.53\n",
      "standard error = 0.015048406741397756\n",
      "z value of data =  0.0\n",
      "p value for data = 0.5\n",
      "p value of data >> alpha \n",
      "so will fail to reject null hypothesis, it means the equality of banks’ share of the car loan market is equal\n"
     ]
    }
   ],
   "source": [
    "# Problem Statement 15:\n",
    "# Comparisons of two population proportions when the hypothesized difference is zero\n",
    "# Carry out a two-tailed test of the equality of banks’ share of the car loan market in\n",
    "# 1980 and 1995.\n",
    "# Population 1: 1980\n",
    "# n1 = 1000\n",
    "# x1 = 53\n",
    "# p 1 = 0.53\n",
    "# Population 2: 1985\n",
    "# n2 = 100\n",
    "# x2 = 43\n",
    "# p 2= 0.53\n",
    "\n",
    "# solution\n",
    "# it is two sample proportion test\n",
    "\n",
    "# H0 : p1 = p2\n",
    "# H1 : p1 != p2\n",
    "\n",
    "# alpha = 0.05\n",
    "\n",
    "def pooled_pro(p1,p2,n1,n2):\n",
    "    p = (p1*n1 + p2*n2)/ (n1+n2)\n",
    "    return p\n",
    "\n",
    "def standard_error(p,n1,n2):\n",
    "    se = np.sqrt((p*(1-p))/(n1+n2))\n",
    "    return se\n",
    "    \n",
    "def z_val(p1,p2,se):\n",
    "    z = (p1-p2)/se\n",
    "    return z\n",
    "\n",
    "\n",
    "p = pooled_pro(0.53,0.53,1000,100)\n",
    "print(\"pooled proportion for calculation of SE =\",p)\n",
    "\n",
    "SE = standard_error(p,1000,100)\n",
    "print(\"standard error =\", SE)\n",
    "\n",
    "z = z_val(0.53,0.53,SE)\n",
    "print(\"z value of data = \",z)\n",
    "\n",
    "print(\"p value for data =\", stats.norm.cdf(z))\n",
    "print('p value of data >> alpha ')\n",
    "print('so will fail to reject null hypothesis, it means the equality of banks’ share of the car loan market is equal')"
   ]
  },
  {
   "cell_type": "code",
   "execution_count": 18,
   "metadata": {},
   "outputs": [
    {
     "name": "stdout",
     "output_type": "stream",
     "text": [
      "pooled proportion for calculate SE = 0.26\n",
      "standard error = 0.013870832707519763\n",
      "z value o data = 14.41874501821181\n",
      "p value of data = 0.0\n",
      "p value of data << alpha , so we reject null hypothesis\n",
      "p1 > p2 statment is true\n"
     ]
    }
   ],
   "source": [
    "# Problem Statement 16:\n",
    "# Carry out a one-tailed test to determine whether the population proportion of\n",
    "# traveler’s check buyers who buy at least $2500 in checks when sweepstakes prizes\n",
    "# are offered as at least 10% higher than the proportion of such buyers when no\n",
    "# sweepstakes are on.\n",
    "# Population 1: With sweepstakes\n",
    "# n1 = 300\n",
    "# x1 = 120\n",
    "# p = 0.40\n",
    "# Population 2: No sweepstakes n2 = 700\n",
    "# x2 = 140\n",
    "# p 2= 0.20\n",
    "\n",
    "# solution\n",
    "# H0 : p1 >= p2\n",
    "# H1 : p1 < p2\n",
    "\n",
    "p = pooled_pro(0.40,0.20,300,700)\n",
    "print(\"pooled proportion for calculate SE =\",p)\n",
    "\n",
    "SE = standard_error(p,300,700)\n",
    "print(\"standard error =\", SE)\n",
    "\n",
    "z = z_val(0.40,0.20,SE)\n",
    "print(\"z value o data =\", z)\n",
    "\n",
    "print(\"p value of data =\", (1-stats.norm.cdf(z)))\n",
    "print(\"p value of data << alpha , so we reject null hypothesis\")\n",
    "print('p1 > p2 statment is true')"
   ]
  },
  {
   "cell_type": "code",
   "execution_count": 19,
   "metadata": {},
   "outputs": [
    {
     "name": "stdout",
     "output_type": "stream",
     "text": [
      "chi2 calculated value 9.0\n",
      "p value = 0.10906415794977253\n",
      "p value of data > alpha , so the do not reject null hypothesis\n",
      "die is unbiased\n"
     ]
    }
   ],
   "source": [
    "# Problem Statement 17:\n",
    "# A die is thrown 132 times with the following results: Number turned up: 1, 2, 3, 4, 5, 6\n",
    "# Frequency: 16, 20, 25, 14, 29, 28\n",
    "# Is the die unbiased? Consider the degrees of freedom as p − 1\n",
    "\n",
    "# solution\n",
    "\n",
    "x = [1,2,3,4,5,6]\n",
    "f = [16,20,25,14,29,28]\n",
    "# expected = 132 * (1/6)= 22\n",
    "E = [22,22,22,22,22,22]\n",
    "\n",
    "# DF = 6-1\n",
    "# chi_square = (observed - expected)^2/expected\n",
    "# alpha = 0.05\n",
    "\n",
    "# H0 : die is unbiased\n",
    "# H1 : die is biased\n",
    "\n",
    "lst = []\n",
    "\n",
    "for i,j in zip(f,E):\n",
    "    chi2 = np.square((i-j))/j\n",
    "    lst.append(chi2)\n",
    "\n",
    "a = np.sum(lst)\n",
    "print(\"chi2 calculated value\", a )\n",
    "\n",
    "p_value= 1-stats.chi2.cdf(a,df=5)\n",
    "\n",
    "print('p value =', p_value )\n",
    "print('p value of data > alpha , so the do not reject null hypothesis')\n",
    "print('die is unbiased')"
   ]
  },
  {
   "cell_type": "code",
   "execution_count": 20,
   "metadata": {},
   "outputs": [
    {
     "name": "stdout",
     "output_type": "stream",
     "text": [
      "gender      MEN  WOMEN\n",
      "voting                \n",
      "NON VOTED  1486   2131\n",
      "VOTED      2792   3591\n",
      "chi2 value = 6.552337973968181\n",
      "p_value = 0.01047464310091866\n",
      "df = 1\n",
      "HERE p value of calculated chi2 < p value of alpha (0.05)\n",
      "so reject null hypothesis, concluded that the voting & gender not independent \n"
     ]
    },
    {
     "data": {
      "text/plain": [
       "array([[1547.3526, 2069.6474],\n",
       "       [2730.6474, 3652.3526]])"
      ]
     },
     "execution_count": 20,
     "metadata": {},
     "output_type": "execute_result"
    }
   ],
   "source": [
    "# Problem Statement 18:\n",
    "# In a certain town, there are about one million eligible voters. A simple random\n",
    "# sample of 10,000 eligible voters was chosen to study the relationship between\n",
    "# gender and participation in the last election. The results are summarized in the\n",
    "# following 2X2 (read two by two) contingency table:\n",
    "\n",
    "\n",
    "# solution\n",
    "# H0 : gender and voting are independent\n",
    "# h1 : gender and voting are not independent\n",
    "\n",
    "# alpha = 0.05\n",
    "\n",
    "df = pd.DataFrame({'voting': ['VOTED','VOTED','NON VOTED','NON VOTED'],'gender': ['MEN','WOMEN','MEN','WOMEN'],'VALUES': [2792,3591,1486,2131]})\n",
    "\n",
    "\n",
    "observed_frequency = pd.pivot_table(df,index='voting',columns='gender',values='VALUES')\n",
    "print(observed_frequency)\n",
    "\n",
    "\n",
    "chi2 , p_value , df , expected_frequency = stats.chi2_contingency(observed_frequency)\n",
    "\n",
    "print(\"chi2 value =\", chi2)\n",
    "\n",
    "print(\"p_value =\", p_value)\n",
    "\n",
    "print(\"df =\", df)\n",
    "\n",
    "\n",
    "print(\"HERE p value of calculated chi2 < p value of alpha (0.05)\")\n",
    "\n",
    "print(\"so reject null hypothesis, concluded that the voting & gender not independent \")\n",
    "\n",
    "expected_frequency"
   ]
  },
  {
   "cell_type": "code",
   "execution_count": 21,
   "metadata": {},
   "outputs": [
    {
     "name": "stdout",
     "output_type": "stream",
     "text": [
      "   HIGGINS  REARDON  WHITE  CARLTON\n",
      "0       41       19     24       16\n",
      "chi2 calculated value = 36.0\n",
      "p value of calculated chi2 = 7.488376951858555e-08\n",
      "p value of calculated chi2 < alpha value (0.05), so reject null hypothesis\n",
      "CONCLUSION : all candidates are not equal popular\n"
     ]
    }
   ],
   "source": [
    "# Problem Statement 19:\n",
    "# A sample of 100 voters are asked which of four candidates they would vote for in an\n",
    "# election. The number supporting each candidate is given below:\n",
    "df = pd.DataFrame({'HIGGINS':[41],'REARDON':[19],'WHITE':[24],'CARLTON':[16]})\n",
    "print(df)\n",
    "\n",
    "# solution\n",
    "\n",
    "# H0 : all candidates are equal popular\n",
    "# H1 : all candidates are not equal popular\n",
    "\n",
    "# alpha = 0.05\n",
    "\n",
    "# expected_frequency = (1/4)*100 = 0.25\n",
    "\n",
    "observed_frequency = [41,19,24,16]\n",
    "expected_frequency = [25,25,25,25]\n",
    "\n",
    "\n",
    "lst = []\n",
    "for i,j in zip(observed_frequency,expected_frequency):\n",
    "    chi2 = np.square((i-j))/j\n",
    "    lst.append(a)\n",
    "    \n",
    "    \n",
    "chi2 = np.sum(lst)\n",
    "print('chi2 calculated value =', chi2)\n",
    "\n",
    "print(\"p value of calculated chi2 =\", 1-stats.chi2.cdf(chi2,df=3))\n",
    "\n",
    "print(\"p value of calculated chi2 < alpha value (0.05), so reject null hypothesis\")\n",
    "print(\"CONCLUSION : all candidates are not equal popular\")"
   ]
  },
  {
   "cell_type": "code",
   "execution_count": 22,
   "metadata": {},
   "outputs": [
    {
     "name": "stdout",
     "output_type": "stream",
     "text": [
      "chi2 calculated values = 29.603174603174608\n",
      "p value of calculated chi2 = 5.894582174262606e-06\n",
      "Degree of freedom = 4\n",
      "expected values = [[12. 18. 30.]\n",
      " [14. 21. 35.]\n",
      " [14. 21. 35.]]\n",
      "CONCLUSION : age and photograph preference are  not independent\n"
     ]
    }
   ],
   "source": [
    "# Problem Statement 20:\n",
    "# Children of three ages are asked to indicate their preference for three photographs of\n",
    "# adults. Do the data suggest that there is a significant relationship between age and\n",
    "# photograph preference? What is wrong with this study? [Chi-Square = 29.6, with 4\n",
    "# df: p < 0.05]\n",
    "\n",
    "\n",
    "# solution\n",
    "\n",
    "# H0 : age and photograph preference are independent\n",
    "#  H1 : age and photograph preference are  not independent\n",
    "\n",
    "# alpha = 0.05\n",
    "\n",
    "df = pd.DataFrame({'AGE_OF_CHILD':[\"5-6 YEARS\",\"5-6 YEARS\",\"5-6 YEARS\",\"7-8 YEARS\",\"7-8 YEARS\",\"7-8 YEARS\",\"9-10 YEARS\",\"9-10 YEARS\",\"9-10 YEARS\"],'PHOTOGRAPH': ['A','B','C','A','B','C','A','B','C'],'values':[18,22,20,2,28,40,20,10,40]})\n",
    "df\n",
    "\n",
    "observed_values = pd.pivot_table(df,index='AGE_OF_CHILD',columns='PHOTOGRAPH',values='values')\n",
    "\n",
    "chi2,p_value , DF , expected_values = stats.chi2_contingency(observed_values)\n",
    "\n",
    "print('chi2 calculated values =',chi2)\n",
    "\n",
    "print('p value of calculated chi2 =',p_value)\n",
    "\n",
    "print('Degree of freedom =',DF)\n",
    "\n",
    "print('expected values =', expected_values)\n",
    "print('CONCLUSION : age and photograph preference are  not independent')"
   ]
  },
  {
   "cell_type": "code",
   "execution_count": 23,
   "metadata": {},
   "outputs": [
    {
     "name": "stdout",
     "output_type": "stream",
     "text": [
      "chi2 calculated values = 18.10344827586207\n",
      "p value of calculated chi2 = 2.092221924065813e-05\n",
      "Degree of freedom = 1\n",
      "expected values = [[12. 18. 30.]\n",
      " [14. 21. 35.]\n",
      " [14. 21. 35.]]\n",
      "p value of calculated chi2 < alpha (0.05) , so reject null hypothesis\n",
      "CONCLUSION  : confirmation and support  are not independent\n"
     ]
    }
   ],
   "source": [
    "# Problem Statement 21:\n",
    "\n",
    "# A study of conformity using the Asch paradigm involved two conditions: one where\n",
    "# one confederate supported the true judgement and another where no confederate\n",
    "# gave the correct response.\n",
    "\n",
    "\n",
    "df = pd.DataFrame({'CONFIRMATION':['confirm','confirm','not confirm', 'not confirm'],'support_system':['support','no support','support','no support'],'value':[18,40,32,10]})\n",
    "\n",
    "\n",
    "observed_frequency = pd.pivot_table(df,index='CONFIRMATION',columns='support_system',values='value')\n",
    "\n",
    "observed_frequency\n",
    "\n",
    "# solution\n",
    "\n",
    "# H0 : confirmation and support  are independent\n",
    "#  H1 : confirmation and support  are not independent\n",
    "\n",
    "# alpha = 0.05\n",
    "\n",
    "chi2 , p_value , DF , expected_frequency = stats.chi2_contingency(observed_frequency)\n",
    "\n",
    "\n",
    "print('chi2 calculated values =',chi2)\n",
    "\n",
    "print('p value of calculated chi2 =',p_value)\n",
    "\n",
    "print('Degree of freedom =',DF)\n",
    "\n",
    "print('expected values =', expected_values)\n",
    "\n",
    "print('p value of calculated chi2 < alpha (0.05) , so reject null hypothesis')\n",
    "\n",
    "print('CONCLUSION  : confirmation and support  are not independent')"
   ]
  },
  {
   "cell_type": "code",
   "execution_count": 24,
   "metadata": {},
   "outputs": [
    {
     "name": "stdout",
     "output_type": "stream",
     "text": [
      "chi2 calculated values = 10.712198008709638\n",
      "p value of calculated chi2 = 0.004719280137040844\n",
      "Degree of freedom = 2\n",
      "expected values = [[12. 18. 30.]\n",
      " [14. 21. 35.]\n",
      " [14. 21. 35.]]\n",
      "p value of calculated chi2 < alpha (0.01) , so reject null hypothesis\n",
      "CONCLUSION :  leadership_qualities and height are  not independent\n"
     ]
    }
   ],
   "source": [
    "# Problem Statement 22:\n",
    "# We want to test whether short people differ with respect to their leadership qualities\n",
    "# (Genghis Khan, Adolf Hitler and Napoleon were all stature-deprived, and how many midget\n",
    "# MP's are there?) The following table shows the frequencies with which 43 short people and\n",
    "# 52 tall people were categorized as \"leaders\", \"followers\" or as \"unclassifiable\". Is there a\n",
    "# relationship between height and leadership qualities?\n",
    "\n",
    "\n",
    "df = pd.DataFrame({'leadership_qualities':['leader','leader','follower','follower','unclassifiable','unclassifiable'],'height':['short','tall','short','tall','short','tall'],'value':[12,32,22,14,9,6]})\n",
    "\n",
    "observed_frequency = pd.pivot_table(df,index='leadership_qualities',columns='height',values='value')\n",
    "observed_frequency\n",
    "\n",
    "\n",
    "# solution\n",
    "\n",
    "# H0 : leadership_qualities and height are independent\n",
    "#  H1 : leadership_qualities and height are  not independent\n",
    "\n",
    "# alpha = 0.01\n",
    "\n",
    "chi2 , p_value , DF , expected_frequency = stats.chi2_contingency(observed_frequency)\n",
    "\n",
    "print('chi2 calculated values =',chi2)\n",
    "\n",
    "print('p value of calculated chi2 =',p_value)\n",
    "\n",
    "print('Degree of freedom =',DF)\n",
    "\n",
    "print('expected values =', expected_values)\n",
    "\n",
    "print('p value of calculated chi2 < alpha (0.01) , so reject null hypothesis')\n",
    "\n",
    "print('CONCLUSION :  leadership_qualities and height are  not independent')"
   ]
  },
  {
   "cell_type": "code",
   "execution_count": 25,
   "metadata": {},
   "outputs": [
    {
     "name": "stdout",
     "output_type": "stream",
     "text": [
      "chi2 calculated values = 31.61310319407798\n",
      "p value of calculated chi2 = 2.2949883042859918e-06\n",
      "Degree of freedom = 4\n",
      "expected values = [[12. 18. 30.]\n",
      " [14. 21. 35.]\n",
      " [14. 21. 35.]]\n",
      "p value of calculated chi2 < alpha (0.01) , so reject null hypothesis\n",
      "CONCLUSION :   employment_type and marital_status are  not independent.\n"
     ]
    }
   ],
   "source": [
    "# Problem Statement 23:\n",
    "\n",
    "# Each respondent in the Current Population Survey of March 1993 was classified as\n",
    "# employed, unemployed, or outside the labor force. The results for men in California age 35-\n",
    "# 44 can be cross-tabulated by marital status, as follows:\n",
    "\n",
    "df = pd.DataFrame({'employment_type':['employed','employed','employed','unemployed','unemployed','unemployed','not in labor force','not in labor force','not in labor force'],'marital_status':['married','seperated','never married','married','seperated','never married','married','seperated','never married'],'value':[679,103,114,63,10,20,42,18,25]})\n",
    "\n",
    "\n",
    "observed_frequency = pd.pivot_table(df,index='employment_type',columns='marital_status',values='value')\n",
    "observed_frequency\n",
    "\n",
    "# solution\n",
    "\n",
    "# H0 : employment_type and marital_status are independent\n",
    "#  H1 : employment_type and marital_status are  not independent\n",
    "\n",
    "# alpha = 0.01\n",
    "\n",
    "chi2 , p_value , DF , expected_frequency = stats.chi2_contingency(observed_frequency)\n",
    "\n",
    "print('chi2 calculated values =',chi2)\n",
    "\n",
    "print('p value of calculated chi2 =',p_value)\n",
    "\n",
    "print('Degree of freedom =',DF)\n",
    "\n",
    "print('expected values =', expected_values)\n",
    "\n",
    "print('p value of calculated chi2 < alpha (0.01) , so reject null hypothesis')\n",
    "\n",
    "print('CONCLUSION :   employment_type and marital_status are  not independent.')"
   ]
  }
 ],
 "metadata": {
  "kernelspec": {
   "display_name": "Python 3",
   "language": "python",
   "name": "python3"
  },
  "language_info": {
   "codemirror_mode": {
    "name": "ipython",
    "version": 3
   },
   "file_extension": ".py",
   "mimetype": "text/x-python",
   "name": "python",
   "nbconvert_exporter": "python",
   "pygments_lexer": "ipython3",
   "version": "3.8.3"
  }
 },
 "nbformat": 4,
 "nbformat_minor": 4
}
