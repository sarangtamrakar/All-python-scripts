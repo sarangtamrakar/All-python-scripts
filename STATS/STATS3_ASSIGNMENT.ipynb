{
 "cells": [
  {
   "cell_type": "code",
   "execution_count": 1,
   "metadata": {},
   "outputs": [],
   "source": [
    "import numpy as np\n",
    "from scipy import stats\n",
    "import pandas as pd"
   ]
  },
  {
   "cell_type": "code",
   "execution_count": 2,
   "metadata": {},
   "outputs": [
    {
     "name": "stdout",
     "output_type": "stream",
     "text": [
      "z value calculated = -2.719477073916152\n",
      " z value for alpha = -1.6448536269514729\n",
      " z value of calculated < z value of alpha , so reject null hypothesis\n",
      " CONCLUSION  :  the raw cornstarch had an no effect \n"
     ]
    }
   ],
   "source": [
    "# Problem Statement 1:\n",
    "# Blood glucose levels for obese patients have a mean of 100 with a standard deviation of\n",
    "# 15. A researcher thinks that a diet high in raw cornstarch will have a positive effect on\n",
    "# blood glucose levels. A sample of 36 patients who have tried the raw cornstarch diet\n",
    "# have a mean glucose level of 108. Test the hypothesis that the raw cornstarch had an\n",
    "# effect or not\n",
    "\n",
    "\n",
    "# solution\n",
    "\n",
    "# H0 :  the raw cornstarch had an effect (mu > 100)\n",
    "\n",
    "#  H1 : the raw cornstarch had an no effect (mu < 100)\n",
    "\n",
    "# alpha = 0.05\n",
    "\n",
    "# it is left tailed z test\n",
    "\n",
    "def zval(x,mu,sigma,n):\n",
    "    z = (x-mu)/(sigma/np.sqrt(n))\n",
    "    return z\n",
    "\n",
    "z = zval(108,100,15,26)\n",
    "\n",
    "print(\"z value calculated =\", -z)\n",
    "\n",
    "print(\" z value for alpha =\", stats.norm.ppf(0.05))\n",
    "\n",
    "print(\" z value of calculated < z value of alpha , so reject null hypothesis\")\n",
    "print(\" CONCLUSION  :  the raw cornstarch had an no effect \")"
   ]
  },
  {
   "cell_type": "code",
   "execution_count": 3,
   "metadata": {},
   "outputs": [
    {
     "name": "stdout",
     "output_type": "stream",
     "text": [
      "party   Democrats  Republicans\n",
      "STATE                         \n",
      "state1         48           52\n",
      "state2         53           47\n",
      "probability of the survey will show a greater percentage of Republican voters in the second state than in the first state = 0.7223389919650489\n"
     ]
    }
   ],
   "source": [
    "# Problem Statement 2:\n",
    "# In one state, 52% of the voters are Republicans, and 48% are Democrats. In a second\n",
    "# state, 47% of the voters are Republicans, and 53% are Democrats. Suppose a simple\n",
    "# random sample of 100 voters are surveyed from each state.\n",
    "# What is the probability that the survey will show a greater percentage of Republican\n",
    "# voters in the second state than in the first state? \n",
    "\n",
    "df = pd.DataFrame({'STATE':['state1','state1','state2','state2'],'party':['Republicans','Democrats','Republicans','Democrats'],'value':[52,48,47,53]})\n",
    "df \n",
    "\n",
    "observed = pd.pivot_table(df,index='STATE',columns='party',values='value')\n",
    "print(observed)\n",
    "\n",
    "# solution \n",
    "\n",
    "chi2,p,df,expected  = stats.chi2_contingency(observed)\n",
    "\n",
    "expected\n",
    "\n",
    "# for that we have to calculate chi2 value for first state having republic party\n",
    "\n",
    "chi_2 = np.square(52-49.5)/49.5\n",
    "chi_2\n",
    "\n",
    "print('probability of the survey will show a greater percentage of Republican voters in the second state than in the first state =',  1-stats.chi2.cdf(chi_2,1))\n"
   ]
  },
  {
   "cell_type": "code",
   "execution_count": 4,
   "metadata": {},
   "outputs": [
    {
     "name": "stdout",
     "output_type": "stream",
     "text": [
      " I  have scored 13.836 percentage  better than average test taker\n"
     ]
    }
   ],
   "source": [
    "# Problem Statement 3:\n",
    "# You take the SAT and score 1100. The mean score for the SAT is 1026 and the standard\n",
    "# deviation is 209. How well did you score on the test compared to the average test taker?\n",
    "\n",
    "# solution\n",
    "\n",
    "# mu = 1026\n",
    "# std = 209\n",
    "# x = 1100\n",
    "\n",
    "# first convert it into z scale\n",
    "\n",
    "z = (1100-1026)/209\n",
    "z\n",
    "\n",
    "percentage = (stats.norm.cdf(z)-stats.norm.cdf(0))*100\n",
    "print(' I  have scored {:0.3f} percentage  better than average test taker'.format(percentage))"
   ]
  },
  {
   "cell_type": "code",
   "execution_count": null,
   "metadata": {},
   "outputs": [],
   "source": []
  }
 ],
 "metadata": {
  "kernelspec": {
   "display_name": "Python 3",
   "language": "python",
   "name": "python3"
  },
  "language_info": {
   "codemirror_mode": {
    "name": "ipython",
    "version": 3
   },
   "file_extension": ".py",
   "mimetype": "text/x-python",
   "name": "python",
   "nbconvert_exporter": "python",
   "pygments_lexer": "ipython3",
   "version": "3.8.3"
  }
 },
 "nbformat": 4,
 "nbformat_minor": 4
}
