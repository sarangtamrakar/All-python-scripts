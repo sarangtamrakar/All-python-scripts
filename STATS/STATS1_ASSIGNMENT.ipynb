{
 "cells": [
  {
   "cell_type": "code",
   "execution_count": 1,
   "metadata": {},
   "outputs": [],
   "source": [
    "# package\n",
    "import numpy as np\n",
    "from scipy import stats\n",
    "from numpy import random\n",
    "import matplotlib.pyplot as plt\n",
    "import seaborn as sns"
   ]
  },
  {
   "cell_type": "code",
   "execution_count": 2,
   "metadata": {},
   "outputs": [],
   "source": [
    "def zval(x,mu,sigma):\n",
    "    z = (x-mu)/sigma\n",
    "    return z\n",
    "\n",
    "def xval(Z,mu,sigma):\n",
    "    x = mu + Z*sigma\n",
    "    return x\n",
    "    "
   ]
  },
  {
   "cell_type": "code",
   "execution_count": 3,
   "metadata": {},
   "outputs": [
    {
     "name": "stdout",
     "output_type": "stream",
     "text": [
      "mean  = 11.0\n",
      "median  = 7.0\n",
      "MODE  = ModeResult(mode=array([6]), count=array([4]))\n"
     ]
    }
   ],
   "source": [
    "# Calculate the mean, median, mode and standard deviation for the problem\n",
    "# statements 1& 2.\n",
    "# Problem Statement 1:\n",
    "# The marks awarded for an assignment set for a Year 8 class of 20 students were as\n",
    "# follows:\n",
    "# 6 7 5 7 7 8 7 6 9 7 4 10 6 8 8 9 5 6 4 8\n",
    "\n",
    "lst = [6,7,5,7,7,87,6,9,7,4,10,6,8,8,9,5,6,4,8]\n",
    "\n",
    "mean = np.mean(lst)\n",
    "print(\"mean  =\",mean)\n",
    "\n",
    "median = np.median(lst)\n",
    "print('median  =',median)\n",
    "\n",
    "mode = stats.mode(lst)\n",
    "print('MODE  =',mode)"
   ]
  },
  {
   "cell_type": "code",
   "execution_count": 4,
   "metadata": {},
   "outputs": [
    {
     "name": "stdout",
     "output_type": "stream",
     "text": [
      "mean  = 107.51428571428572\n",
      "median  = 100.0\n",
      "MODE  = ModeResult(mode=array([75]), count=array([4]))\n"
     ]
    }
   ],
   "source": [
    "# Problem Statement 2:\n",
    "# The number of calls from motorists per day for roadside service was recorded for a\n",
    "# particular month:\n",
    "# 28, 122, 217, 130, 120, 86, 80, 90, 140, 120, 70, 40, 145, 113, 90, 68, 174, 194, 170,\n",
    "# 100, 75, 104, 97, 75,\n",
    "# 123, 100, 75, 104, 97, 75, 123, 100, 89, 120, 109\n",
    "\n",
    "lst_1 = [28, 122, 217, 130, 120, 86, 80, 90, 140, 120, 70, 40, 145, 113, 90, 68, 174, 194, 170,100, 75, 104, 97, 75,123, 100, 75, 104, 97, 75, 123, 100, 89, 120, 109]\n",
    "\n",
    "mean = np.mean(lst_1)\n",
    "print(\"mean  =\",mean)\n",
    "\n",
    "median = np.median(lst_1)\n",
    "print('median  =',median)\n",
    "\n",
    "mode = stats.mode(lst_1)\n",
    "print('MODE  =',mode)"
   ]
  },
  {
   "cell_type": "code",
   "execution_count": 5,
   "metadata": {},
   "outputs": [
    {
     "name": "stdout",
     "output_type": "stream",
     "text": [
      "mean no. of workouts in a week =  2.15\n",
      "VARIANCE =  1.2275\n"
     ]
    }
   ],
   "source": [
    "# Problem Statement 3:\n",
    "# The number of times I go to the gym in weekdays, are given below along with its\n",
    "# associated probability:\n",
    "# x = 0, 1, 2, 3, 4, 5\n",
    "# f(x) = 0.09, 0.15, 0.40, 0.25, 0.10, 0.01\n",
    "# Calculate the mean no. of workouts in a week. Also evaluate the variance involved in\n",
    "# it.\n",
    "\n",
    "\n",
    "x = [0, 1, 2, 3, 4, 5]\n",
    "fx = [0.09,0.15,0.40,0.25,0.10,0.01]\n",
    "l = []\n",
    "for i,j in zip(x,fx):\n",
    "    l.append(i*j)\n",
    "    MEAN =np.sum(l)\n",
    "\n",
    "print(\"mean no. of workouts in a week = \",MEAN)\n",
    "\n",
    "p = []\n",
    "for i,j in zip(x,fx):\n",
    "    a = pow((i-MEAN),2)*j\n",
    "    p.append(a)\n",
    "    var = np.sum(p)\n",
    "print(\"VARIANCE = \",var)"
   ]
  },
  {
   "cell_type": "code",
   "execution_count": 6,
   "metadata": {},
   "outputs": [
    {
     "name": "stdout",
     "output_type": "stream",
     "text": [
      "the probability of having 2 faulty LEDs in my sample 0.3241349999999999\n",
      "the average value = 1.7999999999999998\n",
      "the standard deviation 1.2599999999999998\n"
     ]
    }
   ],
   "source": [
    "# Problem Statement 5:\n",
    "\n",
    "# A company manufactures LED bulbs with a faulty rate of 30%. If I randomly select 6\n",
    "# chosen LEDs, what is the probability of having 2 faulty LEDs in my sample?\n",
    "# Calculate the average value of this process. Also evaluate the standard deviation\n",
    "# associated with it.\n",
    "\n",
    "from scipy.stats import binom\n",
    "print(\"the probability of having 2 faulty LEDs in my sample\",binom.pmf(k=2,n=6,p=0.30))\n",
    "\n",
    "print(\"the average value =\", 6*0.30)\n",
    "print(\"the standard deviation\", 6*0.30*0.70)"
   ]
  },
  {
   "cell_type": "code",
   "execution_count": 7,
   "metadata": {},
   "outputs": [
    {
     "name": "stdout",
     "output_type": "stream",
     "text": [
      "0.17474768364388296\n",
      "0.2942299164965642\n",
      "0.7057700835034357\n"
     ]
    }
   ],
   "source": [
    "# Problem Statement 7:\n",
    "\n",
    "# Customers arrive at a rate of 72 per hour to my shop. What is the probability of k\n",
    "# customers arriving in 4 minutes? a) 5 customers, b) not more than 3 customers, c)\n",
    "# more than 3 customers. Give a pictorial representation of the same to validate your\n",
    "# answer.\n",
    "\n",
    "# solution = \n",
    "# in 4 min 4.8 customer is ariving an average\n",
    "# a\n",
    "from scipy.stats import poisson\n",
    "print(poisson.pmf(5,4.8))\n",
    "\n",
    "# b\n",
    "print(poisson.cdf(3,4.8))\n",
    "\n",
    "\n",
    "# c\n",
    "print(1-poisson.cdf(3,4.8))\n"
   ]
  },
  {
   "cell_type": "code",
   "execution_count": 8,
   "metadata": {},
   "outputs": [
    {
     "name": "stdout",
     "output_type": "stream",
     "text": [
      "0.09648066390804097\n",
      "0.23004094963938573\n",
      "0.039343638262626955\n"
     ]
    }
   ],
   "source": [
    "# Problem Statement 8:\n",
    "\n",
    "# I work as a data analyst in Aeon Learning Pvt. Ltd. After analyzing data, I make\n",
    "# reports, where I have the efficiency of entering 77 words per minute with 6 errors per\n",
    "# hour. What is the probability that I will commit 2 errors in a 455-word financial report?\n",
    "# What happens when the no. of words increases/decreases (in case of 1000 words,\n",
    "# 255 words)?\n",
    "# How is the λ affected?\n",
    "# How does it influence the PMF?\n",
    "# Give a pictorial representation of the same to validate your answer.\n",
    "\n",
    "\n",
    "\n",
    "# solution\n",
    "# the mean error in 455 page = .590\n",
    "\n",
    "#the probability that I will commit 2 errors in a 455-word financial report?\n",
    "print(poisson.pmf(2,0.590))\n",
    "\n",
    "\n",
    "# in case of 1000 pages\n",
    "# the mean error in 1000 pages 1.298\n",
    "print(poisson.pmf(2,1.298))\n",
    "\n",
    "\n",
    "# in case of 255 pages\n",
    "# the mean error in 255 pages 0.331\n",
    "print(poisson.pmf(2,0.331))\n",
    "\n",
    "# How is the λ affected?\n",
    "# ANSWER = as the pages will increse the error rate will increse\n",
    "\n",
    "# How does it influence the PMF?\n",
    "# ANSWER = as the pages will increses the probability of error also increses"
   ]
  },
  {
   "cell_type": "code",
   "execution_count": 9,
   "metadata": {},
   "outputs": [
    {
     "name": "stdout",
     "output_type": "stream",
     "text": [
      "P(Z > 1.26)= 0.10383468112130045\n",
      "P(Z > −1.37)= 0.914656549178033\n",
      " P(−1.25 < Z < 0.37)= 0.5386589811336914\n",
      "P(Z ≤ −4.6)= 2.1124547025028537e-06\n",
      "z value =  -1.6448536269514729\n",
      "z value  =  2.3263478740408408\n"
     ]
    }
   ],
   "source": [
    "# Problem Statement 10:\n",
    "\n",
    "# Please compute the following:\n",
    "# a) P(Z > 1.26), P(Z > −1.37), P(−1.25 < Z < 0.37), . P(Z ≤ −4.6)\n",
    "# b) Find the value z such that P(Z > z) = 0.05\n",
    "# c) Find the value of z such that P(−z < Z < z) = 0.99\n",
    "\n",
    "# a)\n",
    "# P(Z > 1.26)\n",
    "print(\"P(Z > 1.26)=\",1-stats.norm.cdf(1.26))\n",
    "\n",
    "# P(Z > −1.37)\n",
    "print(\"P(Z > −1.37)=\", 1-stats.norm.cdf(-1.37))\n",
    "\n",
    "#  P(−1.25 < Z < 0.37)\n",
    "print(\" P(−1.25 < Z < 0.37)=\",stats.norm.cdf(0.37)-stats.norm.cdf(-1.25))\n",
    "\n",
    "#P(Z ≤ −4.6)\n",
    "print('P(Z ≤ −4.6)=', stats.norm.cdf(-4.6))\n",
    "\n",
    "\n",
    "\n",
    "\n",
    "# b) Find the value z such that P(Z > z) = 0.05\n",
    "\n",
    "print(\"z value = \",stats.norm.ppf(0.05))\n",
    "\n",
    "# c) Find the value of z such that P(−z < Z < z) = 0.99\n",
    "\n",
    "print(\"z value  = \", stats.norm.ppf(0.99))"
   ]
  },
  {
   "cell_type": "code",
   "execution_count": 10,
   "metadata": {},
   "outputs": [
    {
     "name": "stdout",
     "output_type": "stream",
     "text": [
      " the probability that a current measurement will exceed 13 mA =  0.06680720126885809\n",
      "probability that a current measurement is between 9 and 11mA =  0.38292492254802624\n",
      "the current measurement which has a probability of 0.98 =  14.107497821263646\n"
     ]
    }
   ],
   "source": [
    "# Problem Statement 11:\n",
    "\n",
    "# The current flow in a copper wire follow a normal distribution with a mean of 10 mA\n",
    "# and a variance of 4 (mA)2.\n",
    "# What is the probability that a current measurement will exceed 13 mA? What is the\n",
    "# probability that a current measurement is between 9 and 11mA? Determine the\n",
    "# current measurement which has a probability of 0.98\n",
    "\n",
    "# solution =\n",
    "def zval(x,mu,sigma):\n",
    "    z = (x-mu)/sigma\n",
    "    return z\n",
    "\n",
    "def xval(Z,mu,sigma):\n",
    "    x = mu + Z*sigma\n",
    "    return x\n",
    "    \n",
    "    \n",
    "# What is the probability that a current measurement will exceed 13 mA?\n",
    "z = zval(13,10,2)\n",
    "print(\" the probability that a current measurement will exceed 13 mA = \",1-stats.norm.cdf(z))\n",
    "\n",
    "\n",
    "# probability that a current measurement is between 9 and 11mA? \n",
    "z1 = zval(9,10,2)\n",
    "z2 = zval(11,10,2)\n",
    "print(\"probability that a current measurement is between 9 and 11mA = \", stats.norm.cdf(z2)-stats.norm.cdf(z1))\n",
    "\n",
    "\n",
    "# Determine the current measurement which has a probability of 0.98\n",
    "z = stats.norm.ppf(0.98)\n",
    "x = xval(z,10,2)\n",
    "print(\"the current measurement which has a probability of 0.98 = \", x)"
   ]
  },
  {
   "cell_type": "code",
   "execution_count": 11,
   "metadata": {},
   "outputs": [
    {
     "name": "stdout",
     "output_type": "stream",
     "text": [
      "p(x=0.2500) = 0.3460538931769201\n"
     ]
    }
   ],
   "source": [
    "# Problem Statement 12:\n",
    "\n",
    "# The shaft in a piston has its diameter normally distributed with a mean of 0.2508 inch\n",
    "# and a standard deviation of 0.0005 inch. The specifications of the shaft are 0.2500 ∓\n",
    "# 0.0015 inch. What proportion of shafts are in sync with the specifications? If the\n",
    "# process is centered so that the mean is equal to the target value of 0.2500, what\n",
    "# proportion of shafts conform to the new specifications? What is your conclusion from\n",
    "# this experiment?\n",
    "\n",
    "# solution\n",
    "z = zval(0.2500,0.2508,0.0015)\n",
    "print(\"p(x=0.2500) =\",stats.norm.pdf(z))\n",
    "\n",
    "# conclusion = there is 0.346 probability of confirm new specification"
   ]
  },
  {
   "cell_type": "code",
   "execution_count": null,
   "metadata": {},
   "outputs": [],
   "source": []
  }
 ],
 "metadata": {
  "kernelspec": {
   "display_name": "Python 3",
   "language": "python",
   "name": "python3"
  },
  "language_info": {
   "codemirror_mode": {
    "name": "ipython",
    "version": 3
   },
   "file_extension": ".py",
   "mimetype": "text/x-python",
   "name": "python",
   "nbconvert_exporter": "python",
   "pygments_lexer": "ipython3",
   "version": "3.8.3"
  }
 },
 "nbformat": 4,
 "nbformat_minor": 4
}
