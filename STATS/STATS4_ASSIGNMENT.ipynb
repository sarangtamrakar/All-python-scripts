{
 "cells": [
  {
   "cell_type": "code",
   "execution_count": 1,
   "metadata": {},
   "outputs": [],
   "source": [
    "import pandas as pd\n",
    "import numpy as np\n",
    "from scipy import stats\n",
    "import statsmodels.formula.api as sm\n",
    "import statsmodels.api as s"
   ]
  },
  {
   "cell_type": "code",
   "execution_count": 2,
   "metadata": {},
   "outputs": [
    {
     "name": "stdout",
     "output_type": "stream",
     "text": [
      "chi2 calculated value = 8.006066246262538\n",
      "chi2 value for alpha = 7.814727903251179\n",
      "chi2 calculated value > chi2 value for alpha, so reject null hypothesis\n",
      "gender & education level are  not independent\n"
     ]
    }
   ],
   "source": [
    "# Problem Statement 1:\n",
    "# Is gender independent of education level? A random sample of 395 people were\n",
    "# surveyed and each person was asked to report the highest education level they\n",
    "# obtained. The data that resulted from the survey is summarized in the following table:\n",
    "# High School Bachelors Masters Ph.d. Total\n",
    "# Female 60 54 46 41 201\n",
    "# Male 40 44 53 57 194\n",
    "# Total 100 98 99 98 395\n",
    "# Question: Are gender and education level dependent at 5% level of significance? In\n",
    "# other words, given the data collected above, is there a relationship between the\n",
    "# gender of an individual and the level of education that they have obtained?\n",
    "\n",
    "\n",
    "# solution \n",
    "\n",
    "# H0 : gender & education level are independent\n",
    "# H1 : gender & education level are not independent\n",
    "\n",
    "# alpha = 0.05\n",
    "\n",
    "\n",
    "df = pd.DataFrame({'GENDER':['female','female','female','female','male','male','male','male'],'EDUCATION_LEVEL':['high_school','bachelors','masters','PhD','high_school','bachelors','masters','PhD'],'val':[60,54,46,41,40,44,53,57]})\n",
    "df \n",
    "\n",
    "\n",
    "observed = pd.pivot_table(df,index='GENDER',columns='EDUCATION_LEVEL',values='val')\n",
    "observed\n",
    "\n",
    "\n",
    "chi2,p_value,DF,expected = stats.chi2_contingency(observed)\n",
    "\n",
    "\n",
    "print('chi2 calculated value =',chi2)\n",
    "\n",
    "print('chi2 value for alpha =', stats.chi2.ppf(0.95,df=3))\n",
    "\n",
    "print('chi2 calculated value > chi2 value for alpha, so reject null hypothesis')\n",
    "\n",
    "print('gender & education level are  not independent')"
   ]
  },
  {
   "cell_type": "code",
   "execution_count": 3,
   "metadata": {},
   "outputs": [
    {
     "name": "stdout",
     "output_type": "stream",
     "text": [
      "F score for test =  9.747205503009463\n",
      " p value =  0.0030597541434430556\n",
      "p value < 0.05 (alpha)  ,  so reject null hypothesis\n"
     ]
    }
   ],
   "source": [
    "# Problem Statement 2:\n",
    "# Using the following data, perform a oneway analysis of variance using α=.05.\n",
    "\n",
    "# solution\n",
    "\n",
    "# H0 : mean of G1 = G2 = G3\n",
    "# H1 : mean of G1 != G2 != G3\n",
    "\n",
    "df = pd.DataFrame({'G1':[51, 45, 33, 45, 67],'G2':[23, 43, 23, 43, 45],'G3':[56, 76, 74, 87, 56]})\n",
    "df\n",
    "\n",
    "F_statistic , p_value = stats.f_oneway(df['G1'],df['G2'],df['G3'])\n",
    "\n",
    "\n",
    "print('F score for test = ', F_statistic)\n",
    "\n",
    "print(' p value = ',p_value)\n",
    "\n",
    "print('p value < 0.05 (alpha)  ,  so reject null hypothesis')"
   ]
  },
  {
   "cell_type": "code",
   "execution_count": 4,
   "metadata": {},
   "outputs": [
    {
     "name": "stdout",
     "output_type": "stream",
     "text": [
      "F statistic = 3.6\n",
      "p value =  0.0943497728424377\n"
     ]
    }
   ],
   "source": [
    "# Problem Statement 3:\n",
    "# Calculate F Test for given 10, 20, 30, 40, 50 and 5,10,15, 20, 25.\n",
    "# For 10, 20, 30, 40, 50:\n",
    "\n",
    "# solution\n",
    "\n",
    "a = [10,20,30,40,50]\n",
    "b = [5,10,15,20,25]\n",
    "\n",
    "\n",
    "F_value , P_value = stats.f_oneway(a,b)\n",
    "\n",
    "print('F statistic =', F_value)\n",
    "\n",
    "print('p value = ', P_value)"
   ]
  },
  {
   "cell_type": "code",
   "execution_count": null,
   "metadata": {},
   "outputs": [],
   "source": []
  }
 ],
 "metadata": {
  "kernelspec": {
   "display_name": "Python 3",
   "language": "python",
   "name": "python3"
  },
  "language_info": {
   "codemirror_mode": {
    "name": "ipython",
    "version": 3
   },
   "file_extension": ".py",
   "mimetype": "text/x-python",
   "name": "python",
   "nbconvert_exporter": "python",
   "pygments_lexer": "ipython3",
   "version": "3.8.3"
  }
 },
 "nbformat": 4,
 "nbformat_minor": 4
}
